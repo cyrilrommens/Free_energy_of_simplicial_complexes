{
 "cells": [
  {
   "cell_type": "markdown",
   "metadata": {},
   "source": [
    "# Generate the inverse connectivity matrix as required by Knill\n",
    "*Cyril Rommens, s12495719, masterproject MSc Physics and Astronomy: Computational Physics of Complex Systems*\n",
    "\n",
    "**Introduction**\n",
    "In this notebook we use the real data to generate the inverse connectivity matrix $L^{-1}$ as required by Knill. \n",
    "- First we use Danillo's function to obtain the clique complex from a given correlation matrix. This clique complex should be given as an ordered list of sets, with each set only appearing once. \n",
    "- From this clique complex we use Fernando's code to generate the connectivity matrix $L = (A + I)$ as defined by Knill as the adjacency matrix plus the identity matrix to make all diagonal elements 1.\n",
    "- Then we develop code to invert this matrix and obtain the desired $L^{-1}$ required for Knill's internal energy calculation."
   ]
  },
  {
   "cell_type": "code",
   "execution_count": 5,
   "metadata": {},
   "outputs": [],
   "source": [
    "# Import necessary libraries\n",
    "import numpy as np\n",
    "import networkx as nx\n",
    "import pandas as pd\n",
    "\n",
    "# Import external functions\n",
    "from TDA_Danillo_Windows import cliques_gudhi_matrix_comb"
   ]
  },
  {
   "cell_type": "code",
   "execution_count": 80,
   "metadata": {},
   "outputs": [],
   "source": [
    "# Import the data of one subject\n",
    "df = pd.read_csv('1000_Functional_Connectomes/Connectivity matrices/Baltimore_5561_connectivity_matrix_file.txt',header=None)\n",
    "\n",
    "# Extract the values from the DataFrame\n",
    "data_str = df.iloc[:, 0].values\n",
    "\n",
    "# Initialize an empty list to store parsed rows\n",
    "parsed_data = []\n",
    "\n",
    "# Iterate through each row and parse the space-separated values\n",
    "for row_str in data_str:\n",
    "    # Split the string into a list of values\n",
    "    row_values = [float(val) for val in row_str.split()]\n",
    "    parsed_data.append(row_values)\n",
    "\n",
    "# Convert the list of lists into a numpy array\n",
    "M = np.array(parsed_data)\n"
   ]
  },
  {
   "cell_type": "code",
   "execution_count": 82,
   "metadata": {},
   "outputs": [],
   "source": [
    "# Define desired settings\n",
    "cutoff=0.1 # Later to be improved by using phase randomisation\n",
    "max_dim=1"
   ]
  },
  {
   "cell_type": "code",
   "execution_count": 83,
   "metadata": {},
   "outputs": [],
   "source": [
    "# Generate clique complex\n",
    "clique_complex = list(cliques_gudhi_matrix_comb(M,cutoff,max_dim))"
   ]
  },
  {
   "cell_type": "code",
   "execution_count": 87,
   "metadata": {},
   "outputs": [],
   "source": [
    "# Convert the list of lists to a list of sets\n",
    "clique_complex = [set(inner_list) for inner_list in clique_complex]"
   ]
  },
  {
   "cell_type": "code",
   "execution_count": 89,
   "metadata": {},
   "outputs": [],
   "source": [
    "# Generate the connectivity matrix L from the clique complex\n",
    "\n",
    "# Initialize the matrix\n",
    "size = len(clique_complex)\n",
    "matrix = np.zeros((size, size))\n",
    "\n",
    "# Fill the matrix\n",
    "for i in range(0, len(clique_complex)):\n",
    "    for j in range(0, len(clique_complex)):\n",
    "        if clique_complex[i].intersection(clique_complex[j]):\n",
    "            matrix[i, j] = 1\n",
    "            #matrix[j, i] = 1  # Ensure the matrix is symmetric"
   ]
  },
  {
   "cell_type": "code",
   "execution_count": 90,
   "metadata": {},
   "outputs": [],
   "source": [
    "# Compute the inverse\n",
    "inverse_matrix = np.linalg.inv(matrix)"
   ]
  },
  {
   "cell_type": "markdown",
   "metadata": {},
   "source": [
    "# Try to compute free energy for this dataset\n",
    "Use the setup from 'Free_energy_exploration.ipynb' to compute the free energy from this specific dataset using the generated inverse_matrix. If this works, we can generalize and repeat for the whole dataset."
   ]
  },
  {
   "cell_type": "code",
   "execution_count": 97,
   "metadata": {},
   "outputs": [],
   "source": [
    "# Basic data manipulation and visualisation libraries\n",
    "import numpy as np\n",
    "import matplotlib.pyplot as plt\n",
    "import glob\n",
    "import numpy as np\n",
    "from scipy.optimize import minimize"
   ]
  },
  {
   "cell_type": "code",
   "execution_count": 98,
   "metadata": {},
   "outputs": [],
   "source": [
    "# Import optimisation background functions\n",
    "%run functionals.py"
   ]
  },
  {
   "cell_type": "code",
   "execution_count": 99,
   "metadata": {},
   "outputs": [
    {
     "name": "stderr",
     "output_type": "stream",
     "text": [
      "C:\\Users\\cyril\\Documents\\GitHub\\Free_energy_of_simplicial_complexes\\functionals.py:32: RuntimeWarning: overflow encountered in exp\n",
      "  if new_value < current_value or np.random.rand() > np.exp((new_value - current_value) / temperature):\n"
     ]
    },
    {
     "name": "stdout",
     "output_type": "stream",
     "text": [
      "-7.645508727155089\n"
     ]
    }
   ],
   "source": [
    "# Compute free energy vs time/subjects\n",
    "energy = free_energy(inverse_matrix, 1)\n",
    "print(energy)"
   ]
  }
 ],
 "metadata": {
  "kernelspec": {
   "display_name": "Python 3",
   "language": "python",
   "name": "python3"
  },
  "language_info": {
   "codemirror_mode": {
    "name": "ipython",
    "version": 3
   },
   "file_extension": ".py",
   "mimetype": "text/x-python",
   "name": "python",
   "nbconvert_exporter": "python",
   "pygments_lexer": "ipython3",
   "version": "3.9.4"
  }
 },
 "nbformat": 4,
 "nbformat_minor": 2
}
