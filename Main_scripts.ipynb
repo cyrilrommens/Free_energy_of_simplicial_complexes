{
 "cells": [
  {
   "cell_type": "markdown",
   "metadata": {},
   "source": [
    "# Overview of the mainscripts to run the free energy exploration\n",
    "*Cyril Rommens, s12495719, masterproject MSc Physics and Astronomy: Computational Physics of Complex Systems*\n",
    "\n",
    "**Content**\n",
    "1.\traw_to_PR: \tTimeseries -> PR_timeseries (Is on harddrive)\n",
    "2.\tData_to_CC: \tTimeseries + PR_timeseries -? pruned_clique_complex + entropies/mutinfo/F’s\n",
    "3.\tCC_to_F: \tPruned_clique_complex + L_p -> Knill’s F (for this L_p needs to be generated before the function/loop. Matrix decompression needs to be used to select which L_p columns/rows)\n",
    "4.\tCC_to_minF_scipy: \tPruned_clique_complex -> Knill’s min F from scipy P\n",
    "5.\tCC_to_minF_custom:\tPruned_clique_complex -> Knill’s min F from custom P"
   ]
  },
  {
   "cell_type": "code",
   "execution_count": 13,
   "metadata": {},
   "outputs": [],
   "source": [
    "# Import libraries\n",
    "import pandas as pd\n",
    "import numpy as np\n",
    "import glob\n",
    "import matplotlib.pyplot as plt\n",
    "from PIL import Image\n",
    "import math"
   ]
  },
  {
   "cell_type": "markdown",
   "metadata": {},
   "source": [
    "**1 raw_to_PR: \tTimeseries -> PR_timeseries**"
   ]
  },
  {
   "cell_type": "code",
   "execution_count": null,
   "metadata": {},
   "outputs": [],
   "source": [
    "#Put PR code here"
   ]
  },
  {
   "cell_type": "markdown",
   "metadata": {},
   "source": [
    "**2.\tData_to_CC: \tTimeseries + PR_timeseries -> pruned_clique_complex + entropies/mutinfo/F’s**"
   ]
  },
  {
   "cell_type": "code",
   "execution_count": 14,
   "metadata": {},
   "outputs": [],
   "source": [
    "def obtain_mutual_information(filename, max_d, number_of_variables): \n",
    "\n",
    "    # Import time series data\n",
    "    df = pd.read_csv(filename, sep='\\t', header=None)\n",
    "\n",
    "    # Mask using the 99th and 1th percentile\n",
    "    stacked_series = df.stack()\n",
    "    quantile_99 = stacked_series.quantile(0.99)\n",
    "    quantile_01 = stacked_series.quantile(0.01)\n",
    "    df[df > quantile_99] = quantile_99\n",
    "    df[df < quantile_01] = quantile_01\n",
    "\n",
    "    # Initialize an empty DataFrame to hold discretized values\n",
    "    discretized_time_series = pd.DataFrame()\n",
    "    max_BOLD = df.max().max()\n",
    "    min_BOLD = df.min().min()\n",
    "    desired_number_of_bins = 16\n",
    "    stepsize = (max_BOLD-min_BOLD)/desired_number_of_bins\n",
    "    bin_edges = np.arange(min_BOLD, max_BOLD, stepsize)\n",
    "\n",
    "    # Iterate over each column of 'df'\n",
    "    for col in df.columns:\n",
    "        data = df[col].tolist()\n",
    "        bin_numbers = np.digitize(data, bin_edges)\n",
    "        \n",
    "        # Create a DataFrame with the current column's discretized values\n",
    "        col_df = pd.DataFrame({col: bin_numbers}, index=df.index)\n",
    "        \n",
    "        # Concatenate the new DataFrame along the columns axis\n",
    "        discretized_time_series = pd.concat([discretized_time_series, col_df], axis=1)\n",
    "\n",
    "    # Import the information topology functions needed\n",
    "    %run infotopo.py\n",
    "    \n",
    "    # Settings to use infotopo functions\n",
    "    dataset = np.array(discretized_time_series).T\n",
    "    work_on_transpose = False \n",
    "    nb_of_values = 16\n",
    "    deformed_probability_mode = False\n",
    "    supervised_mode = False\n",
    "    forward_computation_mode = True\n",
    "    sampling_mode = 1\n",
    "\n",
    "    # Call infotopo functions for entropy, mutual information and free energy\n",
    "    information_topo = infotopo(dimension_max = max_d, \n",
    "                                dimension_tot = number_of_variables, \n",
    "                                sample_size = 2400, \n",
    "                                work_on_transpose = work_on_transpose,\n",
    "                                nb_of_values = nb_of_values, \n",
    "                                sampling_mode = sampling_mode, \n",
    "                                deformed_probability_mode = deformed_probability_mode,\n",
    "                                supervised_mode = supervised_mode, \n",
    "                                forward_computation_mode = forward_computation_mode)\n",
    "\n",
    "    Nentropie = information_topo.simplicial_entropies_decomposition(dataset) \n",
    "    Ninfomut = information_topo.simplicial_infomut_decomposition(Nentropie)\n",
    "    Nfree_energy = information_topo.total_correlation_simplicial_lanscape(Nentropie)\n",
    "\n",
    "    return Nentropie, Ninfomut, Nfree_energy"
   ]
  },
  {
   "cell_type": "code",
   "execution_count": 15,
   "metadata": {},
   "outputs": [
    {
     "name": "stderr",
     "output_type": "stream",
     "text": [
      "2024-03-31 12:56:06,910 : INFO : PROGRESS: at percent #0\n",
      "2024-03-31 12:56:06,910 : INFO : PROGRESS: at percent #1\n",
      "2024-03-31 12:56:06,916 : INFO : PROGRESS: at percent #1\n",
      "2024-03-31 12:56:06,918 : INFO : PROGRESS: at percent #2\n",
      "2024-03-31 12:56:06,920 : INFO : PROGRESS: at percent #2\n",
      "2024-03-31 12:56:06,924 : INFO : PROGRESS: at percent #3\n",
      "2024-03-31 12:56:06,924 : INFO : PROGRESS: at percent #4\n",
      "2024-03-31 12:56:06,932 : INFO : PROGRESS: at percent #4\n",
      "2024-03-31 12:56:06,934 : INFO : PROGRESS: at percent #5\n",
      "2024-03-31 12:56:06,934 : INFO : PROGRESS: at percent #5\n",
      "2024-03-31 12:56:06,941 : INFO : PROGRESS: at percent #6\n",
      "2024-03-31 12:56:06,941 : INFO : PROGRESS: at percent #6\n",
      "2024-03-31 12:56:06,950 : INFO : PROGRESS: at percent #7\n",
      "2024-03-31 12:56:06,952 : INFO : PROGRESS: at percent #8\n",
      "2024-03-31 12:56:06,958 : INFO : PROGRESS: at percent #8\n",
      "2024-03-31 12:56:06,966 : INFO : PROGRESS: at percent #9\n",
      "2024-03-31 12:56:06,966 : INFO : PROGRESS: at percent #9\n",
      "2024-03-31 12:56:06,975 : INFO : PROGRESS: at percent #10\n",
      "2024-03-31 12:56:06,982 : INFO : PROGRESS: at percent #10\n",
      "2024-03-31 12:56:06,986 : INFO : PROGRESS: at percent #11\n",
      "2024-03-31 12:56:06,986 : INFO : PROGRESS: at percent #12\n",
      "2024-03-31 12:56:06,986 : INFO : PROGRESS: at percent #12\n",
      "2024-03-31 12:56:07,001 : INFO : PROGRESS: at percent #13\n",
      "2024-03-31 12:56:07,001 : INFO : PROGRESS: at percent #13\n",
      "2024-03-31 12:56:07,001 : INFO : PROGRESS: at percent #14\n",
      "2024-03-31 12:56:07,013 : INFO : PROGRESS: at percent #14\n",
      "2024-03-31 12:56:07,019 : INFO : PROGRESS: at percent #15\n",
      "2024-03-31 12:56:07,019 : INFO : PROGRESS: at percent #16\n",
      "2024-03-31 12:56:07,029 : INFO : PROGRESS: at percent #16\n",
      "2024-03-31 12:56:07,032 : INFO : PROGRESS: at percent #17\n",
      "2024-03-31 12:56:07,035 : INFO : PROGRESS: at percent #17\n",
      "2024-03-31 12:56:07,035 : INFO : PROGRESS: at percent #18\n",
      "2024-03-31 12:56:07,035 : INFO : PROGRESS: at percent #18\n",
      "2024-03-31 12:56:07,045 : INFO : PROGRESS: at percent #19\n",
      "2024-03-31 12:56:07,051 : INFO : PROGRESS: at percent #20\n",
      "2024-03-31 12:56:07,051 : INFO : PROGRESS: at percent #20\n",
      "2024-03-31 12:56:07,051 : INFO : PROGRESS: at percent #21\n",
      "2024-03-31 12:56:07,061 : INFO : PROGRESS: at percent #21\n",
      "2024-03-31 12:56:07,066 : INFO : PROGRESS: at percent #22\n",
      "2024-03-31 12:56:07,069 : INFO : PROGRESS: at percent #22\n",
      "2024-03-31 12:56:07,069 : INFO : PROGRESS: at percent #23\n",
      "2024-03-31 12:56:07,069 : INFO : PROGRESS: at percent #24\n",
      "2024-03-31 12:56:07,077 : INFO : PROGRESS: at percent #24\n",
      "2024-03-31 12:56:07,077 : INFO : PROGRESS: at percent #25\n",
      "2024-03-31 12:56:07,085 : INFO : PROGRESS: at percent #25\n",
      "2024-03-31 12:56:07,085 : INFO : PROGRESS: at percent #26\n",
      "2024-03-31 12:56:07,093 : INFO : PROGRESS: at percent #26\n",
      "2024-03-31 12:56:07,099 : INFO : PROGRESS: at percent #27\n"
     ]
    },
    {
     "name": "stdout",
     "output_type": "stream",
     "text": [
      "Percent of tuples processed : 0\n"
     ]
    },
    {
     "name": "stderr",
     "output_type": "stream",
     "text": [
      "2024-03-31 12:56:07,101 : INFO : PROGRESS: at percent #28\n",
      "2024-03-31 12:56:07,101 : INFO : PROGRESS: at percent #28\n",
      "2024-03-31 12:56:07,109 : INFO : PROGRESS: at percent #29\n",
      "2024-03-31 12:56:07,119 : INFO : PROGRESS: at percent #29\n",
      "2024-03-31 12:56:07,119 : INFO : PROGRESS: at percent #30\n",
      "2024-03-31 12:56:07,119 : INFO : PROGRESS: at percent #30\n",
      "2024-03-31 12:56:07,134 : INFO : PROGRESS: at percent #31\n",
      "2024-03-31 12:56:07,134 : INFO : PROGRESS: at percent #32\n",
      "2024-03-31 12:56:07,134 : INFO : PROGRESS: at percent #32\n",
      "2024-03-31 12:56:07,134 : INFO : PROGRESS: at percent #33\n",
      "2024-03-31 12:56:07,151 : INFO : PROGRESS: at percent #33\n",
      "2024-03-31 12:56:07,151 : INFO : PROGRESS: at percent #34\n",
      "2024-03-31 12:56:07,151 : INFO : PROGRESS: at percent #34\n",
      "2024-03-31 12:56:07,166 : INFO : PROGRESS: at percent #35\n",
      "2024-03-31 12:56:07,168 : INFO : PROGRESS: at percent #36\n",
      "2024-03-31 12:56:07,168 : INFO : PROGRESS: at percent #36\n",
      "2024-03-31 12:56:07,168 : INFO : PROGRESS: at percent #37\n",
      "2024-03-31 12:56:07,183 : INFO : PROGRESS: at percent #37\n",
      "2024-03-31 12:56:07,185 : INFO : PROGRESS: at percent #38\n",
      "2024-03-31 12:56:07,185 : INFO : PROGRESS: at percent #38\n",
      "2024-03-31 12:56:07,196 : INFO : PROGRESS: at percent #39\n",
      "2024-03-31 12:56:07,199 : INFO : PROGRESS: at percent #40\n",
      "2024-03-31 12:56:07,201 : INFO : PROGRESS: at percent #40\n",
      "2024-03-31 12:56:07,201 : INFO : PROGRESS: at percent #41\n",
      "2024-03-31 12:56:07,212 : INFO : PROGRESS: at percent #41\n",
      "2024-03-31 12:56:07,218 : INFO : PROGRESS: at percent #42\n",
      "2024-03-31 12:56:07,218 : INFO : PROGRESS: at percent #42\n",
      "2024-03-31 12:56:07,218 : INFO : PROGRESS: at percent #43\n",
      "2024-03-31 12:56:07,228 : INFO : PROGRESS: at percent #44\n",
      "2024-03-31 12:56:07,235 : INFO : PROGRESS: at percent #44\n",
      "2024-03-31 12:56:07,235 : INFO : PROGRESS: at percent #45\n",
      "2024-03-31 12:56:07,244 : INFO : PROGRESS: at percent #45\n",
      "2024-03-31 12:56:07,244 : INFO : PROGRESS: at percent #46\n",
      "2024-03-31 12:56:07,252 : INFO : PROGRESS: at percent #46\n",
      "2024-03-31 12:56:07,252 : INFO : PROGRESS: at percent #47\n",
      "2024-03-31 12:56:07,260 : INFO : PROGRESS: at percent #48\n",
      "2024-03-31 12:56:07,266 : INFO : PROGRESS: at percent #48\n",
      "2024-03-31 12:56:07,268 : INFO : PROGRESS: at percent #49\n",
      "2024-03-31 12:56:07,268 : INFO : PROGRESS: at percent #49\n",
      "2024-03-31 12:56:07,268 : INFO : PROGRESS: at percent #50\n",
      "2024-03-31 12:56:07,283 : INFO : PROGRESS: at percent #50\n",
      "2024-03-31 12:56:07,285 : INFO : PROGRESS: at percent #51\n",
      "2024-03-31 12:56:07,285 : INFO : PROGRESS: at percent #52\n",
      "2024-03-31 12:56:07,285 : INFO : PROGRESS: at percent #52\n",
      "2024-03-31 12:56:07,302 : INFO : PROGRESS: at percent #53\n",
      "2024-03-31 12:56:07,302 : INFO : PROGRESS: at percent #53\n",
      "2024-03-31 12:56:07,302 : INFO : PROGRESS: at percent #54\n",
      "2024-03-31 12:56:07,315 : INFO : PROGRESS: at percent #54\n",
      "2024-03-31 12:56:07,321 : INFO : PROGRESS: at percent #55\n",
      "2024-03-31 12:56:07,321 : INFO : PROGRESS: at percent #56\n",
      "2024-03-31 12:56:07,331 : INFO : PROGRESS: at percent #56\n",
      "2024-03-31 12:56:07,335 : INFO : PROGRESS: at percent #57\n",
      "2024-03-31 12:56:07,335 : INFO : PROGRESS: at percent #57\n",
      "2024-03-31 12:56:07,335 : INFO : PROGRESS: at percent #58\n",
      "2024-03-31 12:56:07,351 : INFO : PROGRESS: at percent #58\n",
      "2024-03-31 12:56:07,351 : INFO : PROGRESS: at percent #59\n",
      "2024-03-31 12:56:07,351 : INFO : PROGRESS: at percent #60\n",
      "2024-03-31 12:56:07,367 : INFO : PROGRESS: at percent #60\n",
      "2024-03-31 12:56:07,368 : INFO : PROGRESS: at percent #61\n",
      "2024-03-31 12:56:07,368 : INFO : PROGRESS: at percent #61\n",
      "2024-03-31 12:56:07,378 : INFO : PROGRESS: at percent #62\n",
      "2024-03-31 12:56:07,386 : INFO : PROGRESS: at percent #62\n",
      "2024-03-31 12:56:07,394 : INFO : PROGRESS: at percent #63\n",
      "2024-03-31 12:56:07,394 : INFO : PROGRESS: at percent #64\n",
      "2024-03-31 12:56:07,401 : INFO : PROGRESS: at percent #64\n",
      "2024-03-31 12:56:07,410 : INFO : PROGRESS: at percent #65\n",
      "2024-03-31 12:56:07,416 : INFO : PROGRESS: at percent #65\n",
      "2024-03-31 12:56:07,419 : INFO : PROGRESS: at percent #66\n",
      "2024-03-31 12:56:07,419 : INFO : PROGRESS: at percent #66\n",
      "2024-03-31 12:56:07,419 : INFO : PROGRESS: at percent #67\n",
      "2024-03-31 12:56:07,437 : INFO : PROGRESS: at percent #68\n",
      "2024-03-31 12:56:07,437 : INFO : PROGRESS: at percent #68\n",
      "2024-03-31 12:56:07,437 : INFO : PROGRESS: at percent #69\n",
      "2024-03-31 12:56:07,450 : INFO : PROGRESS: at percent #69\n",
      "2024-03-31 12:56:07,453 : INFO : PROGRESS: at percent #70\n",
      "2024-03-31 12:56:07,453 : INFO : PROGRESS: at percent #70\n",
      "2024-03-31 12:56:07,464 : INFO : PROGRESS: at percent #71\n",
      "2024-03-31 12:56:07,469 : INFO : PROGRESS: at percent #72\n",
      "2024-03-31 12:56:07,469 : INFO : PROGRESS: at percent #72\n",
      "2024-03-31 12:56:07,480 : INFO : PROGRESS: at percent #73\n",
      "2024-03-31 12:56:07,486 : INFO : PROGRESS: at percent #73\n",
      "2024-03-31 12:56:07,486 : INFO : PROGRESS: at percent #74\n",
      "2024-03-31 12:56:07,496 : INFO : PROGRESS: at percent #74\n",
      "2024-03-31 12:56:07,503 : INFO : PROGRESS: at percent #75\n",
      "2024-03-31 12:56:07,512 : INFO : PROGRESS: at percent #76\n",
      "2024-03-31 12:56:07,516 : INFO : PROGRESS: at percent #76\n",
      "2024-03-31 12:56:07,518 : INFO : PROGRESS: at percent #77\n",
      "2024-03-31 12:56:07,528 : INFO : PROGRESS: at percent #77\n",
      "2024-03-31 12:56:07,536 : INFO : PROGRESS: at percent #78\n",
      "2024-03-31 12:56:07,537 : INFO : PROGRESS: at percent #78\n",
      "2024-03-31 12:56:07,537 : INFO : PROGRESS: at percent #79\n",
      "2024-03-31 12:56:07,556 : INFO : PROGRESS: at percent #80\n",
      "2024-03-31 12:56:07,567 : INFO : PROGRESS: at percent #80\n",
      "2024-03-31 12:56:07,576 : INFO : PROGRESS: at percent #81\n",
      "2024-03-31 12:56:07,589 : INFO : PROGRESS: at percent #81\n",
      "2024-03-31 12:56:07,597 : INFO : PROGRESS: at percent #82\n",
      "2024-03-31 12:56:07,600 : INFO : PROGRESS: at percent #82\n",
      "2024-03-31 12:56:07,608 : INFO : PROGRESS: at percent #83\n",
      "2024-03-31 12:56:07,612 : INFO : PROGRESS: at percent #84\n",
      "2024-03-31 12:56:07,618 : INFO : PROGRESS: at percent #84\n",
      "2024-03-31 12:56:07,621 : INFO : PROGRESS: at percent #85\n",
      "2024-03-31 12:56:07,621 : INFO : PROGRESS: at percent #85\n",
      "2024-03-31 12:56:07,635 : INFO : PROGRESS: at percent #86\n",
      "2024-03-31 12:56:07,673 : INFO : PROGRESS: at percent #86\n",
      "2024-03-31 12:56:07,681 : INFO : PROGRESS: at percent #87\n",
      "2024-03-31 12:56:07,686 : INFO : PROGRESS: at percent #88\n",
      "2024-03-31 12:56:07,690 : INFO : PROGRESS: at percent #88\n",
      "2024-03-31 12:56:07,700 : INFO : PROGRESS: at percent #89\n",
      "2024-03-31 12:56:07,705 : INFO : PROGRESS: at percent #89\n",
      "2024-03-31 12:56:07,705 : INFO : PROGRESS: at percent #90\n",
      "2024-03-31 12:56:07,713 : INFO : PROGRESS: at percent #90\n",
      "2024-03-31 12:56:07,721 : INFO : PROGRESS: at percent #91\n",
      "2024-03-31 12:56:07,721 : INFO : PROGRESS: at percent #92\n",
      "2024-03-31 12:56:07,730 : INFO : PROGRESS: at percent #92\n",
      "2024-03-31 12:56:07,730 : INFO : PROGRESS: at percent #93\n",
      "2024-03-31 12:56:07,738 : INFO : PROGRESS: at percent #93\n",
      "2024-03-31 12:56:07,738 : INFO : PROGRESS: at percent #94\n",
      "2024-03-31 12:56:07,746 : INFO : PROGRESS: at percent #94\n",
      "2024-03-31 12:56:07,750 : INFO : PROGRESS: at percent #95\n",
      "2024-03-31 12:56:07,754 : INFO : PROGRESS: at percent #96\n",
      "2024-03-31 12:56:07,754 : INFO : PROGRESS: at percent #96\n",
      "2024-03-31 12:56:07,762 : INFO : PROGRESS: at percent #97\n",
      "2024-03-31 12:56:07,768 : INFO : PROGRESS: at percent #97\n",
      "2024-03-31 12:56:07,768 : INFO : PROGRESS: at percent #98\n",
      "2024-03-31 12:56:07,778 : INFO : PROGRESS: at percent #98\n",
      "2024-03-31 12:56:07,786 : INFO : PROGRESS: at percent #99\n",
      "2024-03-31 12:56:07,794 : INFO : PROGRESS: at percent #100\n"
     ]
    },
    {
     "name": "stdout",
     "output_type": "stream",
     "text": [
      "CPU times: total: 1.48 s\n",
      "Wall time: 4.38 s\n"
     ]
    }
   ],
   "source": [
    "# Run for max_d=3 and nb_variables=60 takes about 4min\n",
    "%time Nentropie, Ninfomut, Nfree_energy = obtain_mutual_information('Cyril\\\\100206_rfMRI_REST1_Atlas_MSMAll_hp2000_clean_Schaefer2018_100Parcels_7Networks_Tian_Subcortex_S1_3T.txt', 3, 10)"
   ]
  },
  {
   "cell_type": "code",
   "execution_count": 16,
   "metadata": {},
   "outputs": [
    {
     "name": "stdout",
     "output_type": "stream",
     "text": [
      "The average free energy of this subject is 0.1462078903540543\n",
      "The free energy component (average mutual information) of this subject is 0.09236833721938942\n"
     ]
    }
   ],
   "source": [
    "average_free_energy = sum(Nfree_energy.values())/len(Nfree_energy.values())\n",
    "print(f'The average free energy of this subject is {average_free_energy}')\n",
    "\n",
    "average_free_energy_component = sum(Ninfomut.values())/len(Ninfomut.values())\n",
    "print(f'The free energy component (average mutual information) of this subject is {average_free_energy_component}')"
   ]
  },
  {
   "cell_type": "code",
   "execution_count": 17,
   "metadata": {},
   "outputs": [
    {
     "name": "stdout",
     "output_type": "stream",
     "text": [
      "{(1,): 2.3158932632922564, (2,): 2.6034634969390407, (3,): 2.2046295200496218, (4,): 2.1044846023411123, (5,): 3.0029452453336924, (6,): 2.638108973868445, (7,): 2.3989199097781473, (8,): 2.615714896072481, (9,): 2.263040738115215, (10,): 2.6811687257127006, (1, 2): 0.03881460164945061, (1, 3): 0.03208233536630356, (1, 4): 0.018709167611643096, (1, 5): 0.025890859202976735, (1, 6): 0.025290038216225774, (1, 7): 0.021381681022933918, (1, 8): 0.02069406727950529, (1, 9): 0.11753803484330305, (1, 10): 0.04036144115299489, (2, 3): 0.023696574549664895, (2, 4): 0.025942486088583294, (2, 5): 0.03453746108139466, (2, 6): 0.026589932228832325, (2, 7): 0.024578331699744993, (2, 8): 0.027395668574090593, (2, 9): 0.029919078015017142, (2, 10): 0.05743714442760517, (3, 4): 0.034541888731590475, (3, 5): 0.029368583583354813, (3, 6): 0.01869813165726608, (3, 7): 0.024930450490373346, (3, 8): 0.037263893003677495, (3, 9): 0.02045462927904662, (3, 10): 0.023421576139748268, (4, 5): 0.04398813059588047, (4, 6): 0.027470786851233164, (4, 7): 0.09121609630730454, (4, 8): 0.10243791283927717, (4, 9): 0.016851672356590797, (4, 10): 0.01997641759642743, (5, 6): 0.04384438076249797, (5, 7): 0.059733599112384184, (5, 8): 0.07830323432472941, (5, 9): 0.03248871953875465, (5, 10): 0.04168357025097169, (6, 7): 0.03576193399570737, (6, 8): 0.03216354987369918, (6, 9): 0.02194819518723179, (6, 10): 0.03381063405841811, (7, 8): 0.09758570865305405, (7, 9): 0.020794555398675918, (7, 10): 0.017269932914074637, (8, 9): 0.025565207656846667, (8, 10): 0.029238214614450087, (9, 10): 0.040576536601456326, (1, 2, 3): -0.07192306802550252, (1, 2, 4): -0.07752223458425966, (1, 2, 5): -0.13040488176336407, (1, 2, 6): -0.08292342928900531, (1, 2, 7): -0.08423792887836612, (1, 2, 8): -0.08315494090488063, (1, 2, 9): -0.05091767317230733, (1, 2, 10): -0.09144269175396058, (1, 3, 4): -0.050501801203796326, (1, 3, 5): -0.08855102514685331, (1, 3, 6): -0.07326269534124297, (1, 3, 7): -0.05684348546561235, (1, 3, 8): -0.061859599492821715, (1, 3, 9): -0.04875928768348636, (1, 3, 10): -0.06037638125524758, (1, 4, 5): -0.09052691378346367, (1, 4, 6): -0.06871089087750626, (1, 4, 7): -0.05565702266831707, (1, 4, 8): -0.05359774945035767, (1, 4, 9): -0.04814369548150754, (1, 4, 10): -0.06157901534560484, (1, 5, 6): -0.12788832876522793, (1, 5, 7): -0.10093621887300852, (1, 5, 8): -0.11083043671844184, (1, 5, 9): -0.07824735777913006, (1, 5, 10): -0.13455977938629182, (1, 6, 7): -0.08802119525022079, (1, 6, 8): -0.08626442222081376, (1, 6, 9): -0.06671578038592507, (1, 6, 10): -0.0903766730258706, (1, 7, 8): -0.08301927054835101, (1, 7, 9): -0.06562320748110295, (1, 7, 10): -0.07955175270855985, (1, 8, 9): -0.06480650360256135, (1, 8, 10): -0.10033091091505764, (1, 9, 10): -0.047918406879204234, (2, 3, 4): -0.05619554408807037, (2, 3, 5): -0.10882570003289072, (2, 3, 6): -0.09361356384359532, (2, 3, 7): -0.07293711313197537, (2, 3, 8): -0.0918207996038225, (2, 3, 9): -0.06949722296358463, (2, 3, 10): -0.0789400315007196, (2, 4, 5): -0.09099426125010357, (2, 4, 6): -0.07450089192197495, (2, 4, 7): -0.06439416378184504, (2, 4, 8): -0.06736140685781855, (2, 4, 9): -0.05685384557430151, (2, 4, 10): -0.08121383496508816, (2, 5, 6): -0.15378962534269913, (2, 5, 7): -0.11657381151211599, (2, 5, 8): -0.14459887313859365, (2, 5, 9): -0.11697232567535742, (2, 5, 10): -0.1412374769511402, (2, 6, 7): -0.11221507398132946, (2, 6, 8): -0.10638019083136374, (2, 6, 9): -0.09556039271347316, (2, 6, 10): -0.10408286221402197, (2, 7, 8): -0.11300599165426028, (2, 7, 9): -0.07670282662309269, (2, 7, 10): -0.10557460811930763, (2, 8, 9): -0.07378112414447724, (2, 8, 10): -0.10748021141568387, (2, 9, 10): -0.08686648076266756, (3, 4, 5): -0.08092261126801681, (3, 4, 6): -0.06094045347309418, (3, 4, 7): -0.03954897251326628, (3, 4, 8): -0.04715920295107523, (3, 4, 9): -0.05319851209518145, (3, 4, 10): -0.07558042768147111, (3, 5, 6): -0.12773107967286634, (3, 5, 7): -0.0950861628286761, (3, 5, 8): -0.10733419560421087, (3, 5, 9): -0.0819681987060088, (3, 5, 10): -0.11140308228022011, (3, 6, 7): -0.07130620944242683, (3, 6, 8): -0.09182417840600987, (3, 6, 9): -0.06840670701597151, (3, 6, 10): -0.08348071503605325, (3, 7, 8): -0.06162718760401198, (3, 7, 9): -0.053008328588222575, (3, 7, 10): -0.0800224039036026, (3, 8, 9): -0.06300897492938162, (3, 8, 10): -0.09081622264535927, (3, 9, 10): -0.06770193565071736, (4, 5, 6): -0.10538476902961502, (4, 5, 7): -0.06910128995404108, (4, 5, 8): -0.07912323911195518, (4, 5, 9): -0.0759975510972497, (4, 5, 10): -0.09918545598116513, (4, 6, 7): -0.058364538667524, (4, 6, 8): -0.07209126613642614, (4, 6, 9): -0.061773930962517376, (4, 6, 10): -0.07768815816400476, (4, 7, 8): -0.029439173820963838, (4, 7, 9): -0.04269643502056386, (4, 7, 10): -0.08123075362805299, (4, 8, 9): -0.060608580851566174, (4, 8, 10): -0.08425992105280766, (4, 9, 10): -0.06956669908141322, (5, 6, 7): -0.11868265570042613, (5, 6, 8): -0.13864692582355786, (5, 6, 9): -0.12308728337117714, (5, 6, 10): -0.15456587269597932, (5, 7, 8): -0.09927992429239385, (5, 7, 9): -0.09786040157116993, (5, 7, 10): -0.1335877951269886, (5, 8, 9): -0.10769093010209652, (5, 8, 10): -0.15137481305413392, (5, 9, 10): -0.1356534124332578, (6, 7, 8): -0.08873869725432115, (6, 7, 9): -0.08703920715891922, (6, 7, 10): -0.10304782291468051, (6, 8, 9): -0.10047428504666911, (6, 8, 10): -0.1092639687775332, (6, 9, 10): -0.09356666390254276, (7, 8, 9): -0.08162084876155529, (7, 8, 10): -0.10395681761714126, (7, 9, 10): -0.0795480674720217, (8, 9, 10): -0.09192657485969313}\n",
      "[frozenset({1}), frozenset({2}), frozenset({3}), frozenset({4}), frozenset({5}), frozenset({6}), frozenset({7}), frozenset({8}), frozenset({9}), frozenset({10}), frozenset({1, 2}), frozenset({1, 3}), frozenset({1, 4}), frozenset({1, 5}), frozenset({1, 6}), frozenset({1, 7}), frozenset({8, 1}), frozenset({1, 9}), frozenset({1, 10}), frozenset({2, 3}), frozenset({2, 4}), frozenset({2, 5}), frozenset({2, 6}), frozenset({2, 7}), frozenset({8, 2}), frozenset({9, 2}), frozenset({2, 10}), frozenset({3, 4}), frozenset({3, 5}), frozenset({3, 6}), frozenset({3, 7}), frozenset({8, 3}), frozenset({9, 3}), frozenset({10, 3}), frozenset({4, 5}), frozenset({4, 6}), frozenset({4, 7}), frozenset({8, 4}), frozenset({9, 4}), frozenset({10, 4}), frozenset({5, 6}), frozenset({5, 7}), frozenset({8, 5}), frozenset({9, 5}), frozenset({10, 5}), frozenset({6, 7}), frozenset({8, 6}), frozenset({9, 6}), frozenset({10, 6}), frozenset({8, 7}), frozenset({9, 7}), frozenset({10, 7}), frozenset({8, 9}), frozenset({8, 10}), frozenset({9, 10}), frozenset({1, 2, 3}), frozenset({1, 2, 4}), frozenset({1, 2, 5}), frozenset({1, 2, 6}), frozenset({1, 2, 7}), frozenset({8, 1, 2}), frozenset({1, 2, 9}), frozenset({1, 2, 10}), frozenset({1, 3, 4}), frozenset({1, 3, 5}), frozenset({1, 3, 6}), frozenset({1, 3, 7}), frozenset({8, 1, 3}), frozenset({1, 3, 9}), frozenset({1, 10, 3}), frozenset({1, 4, 5}), frozenset({1, 4, 6}), frozenset({1, 4, 7}), frozenset({8, 1, 4}), frozenset({1, 4, 9}), frozenset({1, 10, 4}), frozenset({1, 5, 6}), frozenset({1, 5, 7}), frozenset({8, 1, 5}), frozenset({1, 5, 9}), frozenset({1, 10, 5}), frozenset({1, 6, 7}), frozenset({8, 1, 6}), frozenset({1, 6, 9}), frozenset({1, 10, 6}), frozenset({8, 1, 7}), frozenset({1, 9, 7}), frozenset({1, 10, 7}), frozenset({8, 1, 9}), frozenset({8, 1, 10}), frozenset({1, 10, 9}), frozenset({2, 3, 4}), frozenset({2, 3, 5}), frozenset({2, 3, 6}), frozenset({2, 3, 7}), frozenset({8, 2, 3}), frozenset({9, 2, 3}), frozenset({10, 2, 3}), frozenset({2, 4, 5}), frozenset({2, 4, 6}), frozenset({2, 4, 7}), frozenset({8, 2, 4}), frozenset({9, 2, 4}), frozenset({2, 10, 4}), frozenset({2, 5, 6}), frozenset({2, 5, 7}), frozenset({8, 2, 5}), frozenset({9, 2, 5}), frozenset({2, 10, 5}), frozenset({2, 6, 7}), frozenset({8, 2, 6}), frozenset({9, 2, 6}), frozenset({2, 10, 6}), frozenset({8, 2, 7}), frozenset({9, 2, 7}), frozenset({2, 10, 7}), frozenset({8, 9, 2}), frozenset({8, 2, 10}), frozenset({9, 2, 10}), frozenset({3, 4, 5}), frozenset({3, 4, 6}), frozenset({3, 4, 7}), frozenset({8, 3, 4}), frozenset({9, 3, 4}), frozenset({10, 3, 4}), frozenset({3, 5, 6}), frozenset({3, 5, 7}), frozenset({8, 3, 5}), frozenset({9, 3, 5}), frozenset({10, 3, 5}), frozenset({3, 6, 7}), frozenset({8, 3, 6}), frozenset({9, 3, 6}), frozenset({10, 3, 6}), frozenset({8, 3, 7}), frozenset({9, 3, 7}), frozenset({10, 3, 7}), frozenset({8, 9, 3}), frozenset({8, 10, 3}), frozenset({9, 10, 3}), frozenset({4, 5, 6}), frozenset({4, 5, 7}), frozenset({8, 4, 5}), frozenset({9, 4, 5}), frozenset({10, 4, 5}), frozenset({4, 6, 7}), frozenset({8, 4, 6}), frozenset({9, 4, 6}), frozenset({10, 4, 6}), frozenset({8, 4, 7}), frozenset({9, 4, 7}), frozenset({10, 4, 7}), frozenset({8, 9, 4}), frozenset({8, 10, 4}), frozenset({9, 10, 4}), frozenset({5, 6, 7}), frozenset({8, 5, 6}), frozenset({9, 5, 6}), frozenset({10, 5, 6}), frozenset({8, 5, 7}), frozenset({9, 5, 7}), frozenset({10, 5, 7}), frozenset({8, 9, 5}), frozenset({8, 10, 5}), frozenset({9, 10, 5}), frozenset({8, 6, 7}), frozenset({9, 6, 7}), frozenset({10, 6, 7}), frozenset({8, 9, 6}), frozenset({8, 10, 6}), frozenset({9, 10, 6}), frozenset({8, 9, 7}), frozenset({8, 10, 7}), frozenset({9, 10, 7}), frozenset({8, 9, 10})]\n"
     ]
    }
   ],
   "source": [
    "print(Ninfomut)\n",
    "clique_complex = [frozenset(key) for key in Ninfomut if key in Ninfomut]\n",
    "print(clique_complex)"
   ]
  },
  {
   "cell_type": "code",
   "execution_count": 18,
   "metadata": {},
   "outputs": [
    {
     "name": "stderr",
     "output_type": "stream",
     "text": [
      "2024-03-31 12:56:25,116 : INFO : PROGRESS: at percent #0\n",
      "2024-03-31 12:56:25,151 : INFO : PROGRESS: at percent #1\n",
      "2024-03-31 12:56:25,177 : INFO : PROGRESS: at percent #2\n",
      "2024-03-31 12:56:25,218 : INFO : PROGRESS: at percent #3\n",
      "2024-03-31 12:56:25,258 : INFO : PROGRESS: at percent #4\n",
      "2024-03-31 12:56:25,289 : INFO : PROGRESS: at percent #5\n"
     ]
    },
    {
     "name": "stdout",
     "output_type": "stream",
     "text": [
      "Percent of tuples processed : 0\n"
     ]
    },
    {
     "name": "stderr",
     "output_type": "stream",
     "text": [
      "2024-03-31 12:56:25,392 : INFO : PROGRESS: at percent #6\n",
      "2024-03-31 12:56:25,443 : INFO : PROGRESS: at percent #7\n",
      "2024-03-31 12:56:25,477 : INFO : PROGRESS: at percent #8\n",
      "2024-03-31 12:56:25,511 : INFO : PROGRESS: at percent #9\n",
      "2024-03-31 12:56:25,543 : INFO : PROGRESS: at percent #10\n",
      "2024-03-31 12:56:25,575 : INFO : PROGRESS: at percent #11\n",
      "2024-03-31 12:56:25,609 : INFO : PROGRESS: at percent #12\n",
      "2024-03-31 12:56:25,642 : INFO : PROGRESS: at percent #13\n",
      "2024-03-31 12:56:25,672 : INFO : PROGRESS: at percent #14\n",
      "2024-03-31 12:56:25,696 : INFO : PROGRESS: at percent #15\n",
      "2024-03-31 12:56:25,743 : INFO : PROGRESS: at percent #16\n",
      "2024-03-31 12:56:25,797 : INFO : PROGRESS: at percent #17\n",
      "2024-03-31 12:56:25,842 : INFO : PROGRESS: at percent #18\n",
      "2024-03-31 12:56:25,881 : INFO : PROGRESS: at percent #19\n",
      "2024-03-31 12:56:25,925 : INFO : PROGRESS: at percent #20\n",
      "2024-03-31 12:56:25,964 : INFO : PROGRESS: at percent #21\n",
      "2024-03-31 12:56:26,010 : INFO : PROGRESS: at percent #22\n",
      "2024-03-31 12:56:26,057 : INFO : PROGRESS: at percent #23\n",
      "2024-03-31 12:56:26,094 : INFO : PROGRESS: at percent #24\n",
      "2024-03-31 12:56:26,144 : INFO : PROGRESS: at percent #25\n",
      "2024-03-31 12:56:26,193 : INFO : PROGRESS: at percent #26\n",
      "2024-03-31 12:56:26,245 : INFO : PROGRESS: at percent #26\n",
      "2024-03-31 12:56:26,292 : INFO : PROGRESS: at percent #27\n",
      "2024-03-31 12:56:26,332 : INFO : PROGRESS: at percent #28\n",
      "2024-03-31 12:56:26,381 : INFO : PROGRESS: at percent #29\n",
      "2024-03-31 12:56:26,427 : INFO : PROGRESS: at percent #30\n",
      "2024-03-31 12:56:26,465 : INFO : PROGRESS: at percent #31\n",
      "2024-03-31 12:56:26,532 : INFO : PROGRESS: at percent #32\n",
      "2024-03-31 12:56:26,594 : INFO : PROGRESS: at percent #33\n",
      "2024-03-31 12:56:26,645 : INFO : PROGRESS: at percent #34\n",
      "2024-03-31 12:56:26,694 : INFO : PROGRESS: at percent #35\n",
      "2024-03-31 12:56:26,760 : INFO : PROGRESS: at percent #36\n",
      "2024-03-31 12:56:26,811 : INFO : PROGRESS: at percent #37\n",
      "2024-03-31 12:56:26,860 : INFO : PROGRESS: at percent #38\n",
      "2024-03-31 12:56:26,910 : INFO : PROGRESS: at percent #39\n",
      "2024-03-31 12:56:26,977 : INFO : PROGRESS: at percent #40\n",
      "2024-03-31 12:56:27,039 : INFO : PROGRESS: at percent #41\n",
      "2024-03-31 12:56:27,094 : INFO : PROGRESS: at percent #42\n",
      "2024-03-31 12:56:27,144 : INFO : PROGRESS: at percent #43\n",
      "2024-03-31 12:56:27,194 : INFO : PROGRESS: at percent #44\n",
      "2024-03-31 12:56:27,244 : INFO : PROGRESS: at percent #45\n",
      "2024-03-31 12:56:27,294 : INFO : PROGRESS: at percent #46\n",
      "2024-03-31 12:56:27,344 : INFO : PROGRESS: at percent #47\n",
      "2024-03-31 12:56:27,403 : INFO : PROGRESS: at percent #48\n",
      "2024-03-31 12:56:27,445 : INFO : PROGRESS: at percent #49\n",
      "2024-03-31 12:56:27,494 : INFO : PROGRESS: at percent #50\n",
      "2024-03-31 12:56:27,554 : INFO : PROGRESS: at percent #51\n",
      "2024-03-31 12:56:27,612 : INFO : PROGRESS: at percent #52\n",
      "2024-03-31 12:56:27,662 : INFO : PROGRESS: at percent #52\n",
      "2024-03-31 12:56:27,712 : INFO : PROGRESS: at percent #53\n",
      "2024-03-31 12:56:27,762 : INFO : PROGRESS: at percent #54\n",
      "2024-03-31 12:56:27,811 : INFO : PROGRESS: at percent #55\n",
      "2024-03-31 12:56:27,862 : INFO : PROGRESS: at percent #56\n",
      "2024-03-31 12:56:27,911 : INFO : PROGRESS: at percent #57\n",
      "2024-03-31 12:56:27,962 : INFO : PROGRESS: at percent #58\n",
      "2024-03-31 12:56:28,005 : INFO : PROGRESS: at percent #59\n",
      "2024-03-31 12:56:28,061 : INFO : PROGRESS: at percent #60\n",
      "2024-03-31 12:56:28,102 : INFO : PROGRESS: at percent #61\n",
      "2024-03-31 12:56:28,151 : INFO : PROGRESS: at percent #62\n",
      "2024-03-31 12:56:28,214 : INFO : PROGRESS: at percent #63\n",
      "2024-03-31 12:56:28,268 : INFO : PROGRESS: at percent #64\n",
      "2024-03-31 12:56:28,318 : INFO : PROGRESS: at percent #65\n",
      "2024-03-31 12:56:28,385 : INFO : PROGRESS: at percent #66\n",
      "2024-03-31 12:56:28,433 : INFO : PROGRESS: at percent #67\n",
      "2024-03-31 12:56:28,494 : INFO : PROGRESS: at percent #68\n",
      "2024-03-31 12:56:28,544 : INFO : PROGRESS: at percent #69\n",
      "2024-03-31 12:56:28,602 : INFO : PROGRESS: at percent #70\n",
      "2024-03-31 12:56:28,661 : INFO : PROGRESS: at percent #71\n",
      "2024-03-31 12:56:28,711 : INFO : PROGRESS: at percent #72\n",
      "2024-03-31 12:56:28,769 : INFO : PROGRESS: at percent #73\n",
      "2024-03-31 12:56:28,828 : INFO : PROGRESS: at percent #74\n",
      "2024-03-31 12:56:28,878 : INFO : PROGRESS: at percent #75\n",
      "2024-03-31 12:56:28,928 : INFO : PROGRESS: at percent #76\n",
      "2024-03-31 12:56:28,967 : INFO : PROGRESS: at percent #77\n",
      "2024-03-31 12:56:29,002 : INFO : PROGRESS: at percent #78\n",
      "2024-03-31 12:56:29,059 : INFO : PROGRESS: at percent #78\n",
      "2024-03-31 12:56:29,094 : INFO : PROGRESS: at percent #79\n",
      "2024-03-31 12:56:29,151 : INFO : PROGRESS: at percent #80\n",
      "2024-03-31 12:56:29,203 : INFO : PROGRESS: at percent #81\n",
      "2024-03-31 12:56:29,261 : INFO : PROGRESS: at percent #82\n",
      "2024-03-31 12:56:29,328 : INFO : PROGRESS: at percent #83\n",
      "2024-03-31 12:56:29,398 : INFO : PROGRESS: at percent #84\n",
      "2024-03-31 12:56:29,477 : INFO : PROGRESS: at percent #85\n",
      "2024-03-31 12:56:29,529 : INFO : PROGRESS: at percent #86\n",
      "2024-03-31 12:56:29,595 : INFO : PROGRESS: at percent #87\n",
      "2024-03-31 12:56:29,635 : INFO : PROGRESS: at percent #88\n",
      "2024-03-31 12:56:29,680 : INFO : PROGRESS: at percent #89\n",
      "2024-03-31 12:56:29,726 : INFO : PROGRESS: at percent #90\n",
      "2024-03-31 12:56:29,768 : INFO : PROGRESS: at percent #91\n",
      "2024-03-31 12:56:29,818 : INFO : PROGRESS: at percent #92\n",
      "2024-03-31 12:56:29,878 : INFO : PROGRESS: at percent #93\n",
      "2024-03-31 12:56:29,920 : INFO : PROGRESS: at percent #94\n",
      "2024-03-31 12:56:29,964 : INFO : PROGRESS: at percent #95\n",
      "2024-03-31 12:56:30,019 : INFO : PROGRESS: at percent #96\n",
      "2024-03-31 12:56:30,079 : INFO : PROGRESS: at percent #97\n",
      "2024-03-31 12:56:30,118 : INFO : PROGRESS: at percent #98\n",
      "2024-03-31 12:56:30,171 : INFO : PROGRESS: at percent #99\n",
      "2024-03-31 12:56:34,402 : INFO : PROGRESS: at percent #0\n",
      "2024-03-31 12:56:34,437 : INFO : PROGRESS: at percent #1\n",
      "2024-03-31 12:56:34,467 : INFO : PROGRESS: at percent #2\n",
      "2024-03-31 12:56:34,518 : INFO : PROGRESS: at percent #3\n",
      "2024-03-31 12:56:34,552 : INFO : PROGRESS: at percent #4\n"
     ]
    },
    {
     "name": "stdout",
     "output_type": "stream",
     "text": [
      "Percent of tuples processed : 0\n"
     ]
    },
    {
     "name": "stderr",
     "output_type": "stream",
     "text": [
      "2024-03-31 12:56:34,590 : INFO : PROGRESS: at percent #5\n",
      "2024-03-31 12:56:34,638 : INFO : PROGRESS: at percent #6\n",
      "2024-03-31 12:56:34,691 : INFO : PROGRESS: at percent #7\n",
      "2024-03-31 12:56:34,753 : INFO : PROGRESS: at percent #8\n",
      "2024-03-31 12:56:34,796 : INFO : PROGRESS: at percent #9\n",
      "2024-03-31 12:56:34,836 : INFO : PROGRESS: at percent #10\n",
      "2024-03-31 12:56:34,869 : INFO : PROGRESS: at percent #11\n",
      "2024-03-31 12:56:34,899 : INFO : PROGRESS: at percent #12\n",
      "2024-03-31 12:56:34,935 : INFO : PROGRESS: at percent #13\n",
      "2024-03-31 12:56:34,966 : INFO : PROGRESS: at percent #14\n",
      "2024-03-31 12:56:35,006 : INFO : PROGRESS: at percent #15\n",
      "2024-03-31 12:56:35,050 : INFO : PROGRESS: at percent #16\n",
      "2024-03-31 12:56:35,085 : INFO : PROGRESS: at percent #17\n",
      "2024-03-31 12:56:35,140 : INFO : PROGRESS: at percent #18\n",
      "2024-03-31 12:56:35,187 : INFO : PROGRESS: at percent #19\n",
      "2024-03-31 12:56:35,223 : INFO : PROGRESS: at percent #20\n",
      "2024-03-31 12:56:35,272 : INFO : PROGRESS: at percent #21\n",
      "2024-03-31 12:56:35,323 : INFO : PROGRESS: at percent #22\n",
      "2024-03-31 12:56:35,374 : INFO : PROGRESS: at percent #23\n",
      "2024-03-31 12:56:35,434 : INFO : PROGRESS: at percent #24\n",
      "2024-03-31 12:56:35,490 : INFO : PROGRESS: at percent #25\n",
      "2024-03-31 12:56:35,551 : INFO : PROGRESS: at percent #26\n",
      "2024-03-31 12:56:35,604 : INFO : PROGRESS: at percent #26\n",
      "2024-03-31 12:56:35,641 : INFO : PROGRESS: at percent #27\n",
      "2024-03-31 12:56:35,688 : INFO : PROGRESS: at percent #28\n",
      "2024-03-31 12:56:35,736 : INFO : PROGRESS: at percent #29\n",
      "2024-03-31 12:56:35,784 : INFO : PROGRESS: at percent #30\n",
      "2024-03-31 12:56:35,819 : INFO : PROGRESS: at percent #31\n",
      "2024-03-31 12:56:35,876 : INFO : PROGRESS: at percent #32\n",
      "2024-03-31 12:56:35,929 : INFO : PROGRESS: at percent #33\n",
      "2024-03-31 12:56:35,978 : INFO : PROGRESS: at percent #34\n",
      "2024-03-31 12:56:36,042 : INFO : PROGRESS: at percent #35\n",
      "2024-03-31 12:56:36,089 : INFO : PROGRESS: at percent #36\n",
      "2024-03-31 12:56:36,142 : INFO : PROGRESS: at percent #37\n",
      "2024-03-31 12:56:36,187 : INFO : PROGRESS: at percent #38\n",
      "2024-03-31 12:56:36,223 : INFO : PROGRESS: at percent #39\n",
      "2024-03-31 12:56:36,292 : INFO : PROGRESS: at percent #40\n",
      "2024-03-31 12:56:36,344 : INFO : PROGRESS: at percent #41\n",
      "2024-03-31 12:56:36,392 : INFO : PROGRESS: at percent #42\n",
      "2024-03-31 12:56:36,453 : INFO : PROGRESS: at percent #43\n",
      "2024-03-31 12:56:36,501 : INFO : PROGRESS: at percent #44\n",
      "2024-03-31 12:56:36,618 : INFO : PROGRESS: at percent #45\n",
      "2024-03-31 12:56:36,659 : INFO : PROGRESS: at percent #46\n",
      "2024-03-31 12:56:36,708 : INFO : PROGRESS: at percent #47\n",
      "2024-03-31 12:56:36,760 : INFO : PROGRESS: at percent #48\n",
      "2024-03-31 12:56:36,806 : INFO : PROGRESS: at percent #49\n",
      "2024-03-31 12:56:36,860 : INFO : PROGRESS: at percent #50\n",
      "2024-03-31 12:56:36,901 : INFO : PROGRESS: at percent #51\n",
      "2024-03-31 12:56:36,951 : INFO : PROGRESS: at percent #52\n",
      "2024-03-31 12:56:36,991 : INFO : PROGRESS: at percent #52\n",
      "2024-03-31 12:56:37,059 : INFO : PROGRESS: at percent #53\n",
      "2024-03-31 12:56:37,107 : INFO : PROGRESS: at percent #54\n",
      "2024-03-31 12:56:37,153 : INFO : PROGRESS: at percent #55\n",
      "2024-03-31 12:56:37,210 : INFO : PROGRESS: at percent #56\n",
      "2024-03-31 12:56:37,269 : INFO : PROGRESS: at percent #57\n",
      "2024-03-31 12:56:37,319 : INFO : PROGRESS: at percent #58\n",
      "2024-03-31 12:56:37,371 : INFO : PROGRESS: at percent #59\n",
      "2024-03-31 12:56:37,417 : INFO : PROGRESS: at percent #60\n",
      "2024-03-31 12:56:37,469 : INFO : PROGRESS: at percent #61\n",
      "2024-03-31 12:56:37,518 : INFO : PROGRESS: at percent #62\n",
      "2024-03-31 12:56:37,569 : INFO : PROGRESS: at percent #63\n",
      "2024-03-31 12:56:37,618 : INFO : PROGRESS: at percent #64\n",
      "2024-03-31 12:56:37,675 : INFO : PROGRESS: at percent #65\n",
      "2024-03-31 12:56:37,736 : INFO : PROGRESS: at percent #66\n",
      "2024-03-31 12:56:37,777 : INFO : PROGRESS: at percent #67\n",
      "2024-03-31 12:56:37,835 : INFO : PROGRESS: at percent #68\n",
      "2024-03-31 12:56:37,877 : INFO : PROGRESS: at percent #69\n",
      "2024-03-31 12:56:37,925 : INFO : PROGRESS: at percent #70\n",
      "2024-03-31 12:56:37,976 : INFO : PROGRESS: at percent #71\n",
      "2024-03-31 12:56:38,028 : INFO : PROGRESS: at percent #72\n",
      "2024-03-31 12:56:38,087 : INFO : PROGRESS: at percent #73\n",
      "2024-03-31 12:56:38,135 : INFO : PROGRESS: at percent #74\n",
      "2024-03-31 12:56:38,177 : INFO : PROGRESS: at percent #75\n",
      "2024-03-31 12:56:38,225 : INFO : PROGRESS: at percent #76\n",
      "2024-03-31 12:56:38,265 : INFO : PROGRESS: at percent #77\n",
      "2024-03-31 12:56:38,310 : INFO : PROGRESS: at percent #78\n",
      "2024-03-31 12:56:38,358 : INFO : PROGRESS: at percent #78\n",
      "2024-03-31 12:56:38,409 : INFO : PROGRESS: at percent #79\n",
      "2024-03-31 12:56:38,454 : INFO : PROGRESS: at percent #80\n",
      "2024-03-31 12:56:38,515 : INFO : PROGRESS: at percent #81\n",
      "2024-03-31 12:56:38,560 : INFO : PROGRESS: at percent #82\n",
      "2024-03-31 12:56:38,608 : INFO : PROGRESS: at percent #83\n",
      "2024-03-31 12:56:38,655 : INFO : PROGRESS: at percent #84\n",
      "2024-03-31 12:56:38,704 : INFO : PROGRESS: at percent #85\n",
      "2024-03-31 12:56:38,755 : INFO : PROGRESS: at percent #86\n",
      "2024-03-31 12:56:38,795 : INFO : PROGRESS: at percent #87\n",
      "2024-03-31 12:56:38,845 : INFO : PROGRESS: at percent #88\n",
      "2024-03-31 12:56:38,888 : INFO : PROGRESS: at percent #89\n",
      "2024-03-31 12:56:38,936 : INFO : PROGRESS: at percent #90\n",
      "2024-03-31 12:56:38,983 : INFO : PROGRESS: at percent #91\n",
      "2024-03-31 12:56:39,027 : INFO : PROGRESS: at percent #92\n",
      "2024-03-31 12:56:39,076 : INFO : PROGRESS: at percent #93\n",
      "2024-03-31 12:56:39,137 : INFO : PROGRESS: at percent #94\n",
      "2024-03-31 12:56:39,178 : INFO : PROGRESS: at percent #95\n",
      "2024-03-31 12:56:39,220 : INFO : PROGRESS: at percent #96\n",
      "2024-03-31 12:56:39,270 : INFO : PROGRESS: at percent #97\n",
      "2024-03-31 12:56:39,326 : INFO : PROGRESS: at percent #98\n",
      "2024-03-31 12:56:39,380 : INFO : PROGRESS: at percent #99\n"
     ]
    }
   ],
   "source": [
    "Real_Nentropie, Real_Ninfomut, Real_Nfree_energy = obtain_mutual_information('Cyril\\TimeSeries\\REST1\\REAL_100206_rfMRI_REST1_Atlas_MSMAll_hp2000_clean_Schaefer2018_100Parcels_7Networks_Tian_Subcortex_S1_3T.txt', 3, 20)\n",
    "Random_Nentropie, Random_Ninfomut, Random_Nfree_energy = obtain_mutual_information('Cyril\\TimeSeries_PR\\REST1\\PR_100206_rfMRI_REST1_Atlas_MSMAll_hp2000_clean_Schaefer2018_100Parcels_7Networks_Tian_Subcortex_S1_3T.txt', 3, 20)\n"
   ]
  },
  {
   "cell_type": "code",
   "execution_count": 19,
   "metadata": {},
   "outputs": [
    {
     "name": "stdout",
     "output_type": "stream",
     "text": [
      "1350\n",
      "1350\n"
     ]
    }
   ],
   "source": [
    "print(len(Real_Ninfomut))\n",
    "print(len(Random_Ninfomut))"
   ]
  },
  {
   "cell_type": "code",
   "execution_count": 20,
   "metadata": {},
   "outputs": [],
   "source": [
    "def infomut_per_dimension(data):\n",
    "\n",
    "    list_1 = []  # For keys of length 1\n",
    "    list_2 = []  # For keys of length 2\n",
    "    list_3 = []  # For keys of length 3\n",
    "\n",
    "    for key, value in data.items():\n",
    "        if len(key) == 1:\n",
    "            list_1.append(value)\n",
    "        elif len(key) == 2:\n",
    "            list_2.append(value)\n",
    "        elif len(key) == 3:\n",
    "            list_3.append(value)\n",
    "\n",
    "    return list_1, list_2, list_3\n",
    "\n",
    "Real_I1, Real_I2, Real_I3 = infomut_per_dimension(Real_Ninfomut)\n",
    "Random_I1, Random_I2, Random_I3 = infomut_per_dimension(Random_Ninfomut)"
   ]
  },
  {
   "cell_type": "code",
   "execution_count": 21,
   "metadata": {},
   "outputs": [
    {
     "data": {
      "image/png": "[encoded data removed]",
      "text/plain": [
       "<Figure size 640x480 with 1 Axes>"
      ]
     },
     "metadata": {},
     "output_type": "display_data"
    }
   ],
   "source": [
    "Real_values = Real_I3\n",
    "Random_values = Random_I3\n",
    "\n",
    "# Plot the distribution of correlation values for real vs random data\n",
    "plt.hist(Real_values, bins=100, density=True, label='Random', alpha=0.4, color='blue', edgecolor='black')\n",
    "plt.hist(Random_values, bins=100, density=True, label='Real', alpha=0.4, color='green', edgecolor='black')\n",
    "\n",
    "# Calculate percentiles\n",
    "q010 = np.quantile(Random_values, 0.010)\n",
    "q990 = np.quantile(Random_values, 0.990)\n",
    "\n",
    "# Draw red dotted lines at the 1.0th and 99.0th percentiles\n",
    "plt.axvline(q010, color='red', linestyle='--', linewidth=1, label=f'1.0th % = {q010:.2f}')\n",
    "plt.axvline(q990, color='purple', linestyle='--', linewidth=1, label=f'99.0th % = {q990:.2f}')\n",
    "\n",
    "# Add legend to the plot\n",
    "plt.legend()\n",
    "\n",
    "# Optional: Add titles and labels\n",
    "plt.title('Distribution of Mutual Informations for Real and PR timeseries')\n",
    "plt.xlabel('Value')\n",
    "plt.ylabel('Frequency')\n",
    "\n",
    "# Show the plot\n",
    "plt.show()"
   ]
  },
  {
   "cell_type": "code",
   "execution_count": 22,
   "metadata": {},
   "outputs": [
    {
     "name": "stdout",
     "output_type": "stream",
     "text": [
      "Filtered Dictionaries:\n",
      "18 : {(1,): 2.3158932632922564, (2,): 2.6034634969390407, (3,): 2.2046295200496218, (5,): 3.0029452453336924, (6,): 2.638108973868445, (7,): 2.3989199097781473, (8,): 2.615714896072481, (9,): 2.263040738115215, (10,): 2.6811687257127006, (11,): 2.1899793141189527, (12,): 2.155641706436543, (13,): 2.885945997760527, (14,): 3.4910900719042703, (15,): 2.3930486691448194, (16,): 2.5874412804506597, (17,): 3.0427341658817033, (18,): 3.2773624179080096, (19,): 3.1300593715491387}\n",
      "167 : {(1, 2): 0.03881460164945061, (1, 3): 0.03208233536630356, (1, 4): 0.018709167611643096, (1, 5): 0.025890859202976735, (1, 6): 0.025290038216225774, (1, 7): 0.021381681022933918, (1, 8): 0.02069406727950529, (1, 10): 0.04036144115299489, (1, 11): 0.02312911493224945, (1, 12): 0.014466923696759615, (1, 13): 0.03097342180340057, (1, 14): 0.02840522369813403, (1, 15): 0.016433747736248172, (1, 16): 0.0231189482678813, (1, 17): 0.051723416228326435, (1, 18): 0.04699668501089693, (1, 19): 0.04047107128026717, (1, 20): 0.0328493875965723, (2, 3): 0.023696574549664895, (2, 4): 0.025942486088583294, (2, 5): 0.03453746108139466, (2, 6): 0.026589932228832325, (2, 7): 0.024578331699744993, (2, 8): 0.027395668574090593, (2, 9): 0.029919078015017142, (2, 10): 0.05743714442760517, (2, 11): 0.021734746811788774, (2, 12): 0.019427123596143403, (2, 13): 0.030844335126193556, (2, 14): 0.040461831683546556, (2, 15): 0.02380272336585243, (2, 16): 0.02200367770690992, (2, 17): 0.03920085146934493, (2, 18): 0.037843295837001634, (2, 19): 0.04833453739828819, (2, 20): 0.05781367519723446, (3, 4): 0.034541888731590475, (3, 5): 0.029368583583354813, (3, 6): 0.01869813165726608, (3, 7): 0.024930450490373346, (3, 8): 0.037263893003677495, (3, 9): 0.02045462927904662, (3, 10): 0.023421576139748268, (3, 11): 0.020022966340268233, (3, 12): 0.029316411179606483, (3, 13): 0.02539630951139138, (3, 14): 0.02685121783155786, (3, 15): 0.018096069000752557, (3, 16): 0.03264917866204975, (3, 17): 0.03069017829754106, (3, 18): 0.04513049952873871, (3, 19): 0.041489767610863204, (3, 20): 0.032804874142253304, (4, 5): 0.04398813059588047, (4, 6): 0.027470786851233164, (4, 9): 0.016851672356590797, (4, 10): 0.01997641759642743, (4, 11): 0.03233816077294094, (4, 13): 0.04373893957791619, (4, 14): 0.03107088839403449, (4, 17): 0.023854161685699538, (4, 18): 0.04537798212634936, (4, 19): 0.03734776768804693, (5, 6): 0.04384438076249797, (5, 7): 0.059733599112384184, (5, 9): 0.03248871953875465, (5, 10): 0.04168357025097169, (5, 11): 0.03230396191616336, (5, 12): 0.04677206257805988, (5, 14): 0.05362123152183873, (5, 15): 0.04961977183892419, (5, 16): 0.06662934287158784, (5, 17): 0.04516085752362198, (5, 18): 0.06383854478541551, (5, 19): 0.05986892375428976, (6, 7): 0.03576193399570737, (6, 8): 0.03216354987369918, (6, 9): 0.02194819518723179, (6, 10): 0.03381063405841811, (6, 11): 0.018539204223962713, (6, 12): 0.023724648242073876, (6, 13): 0.030861178441650594, (6, 14): 0.04421860706891767, (6, 15): 0.022906588995678767, (6, 16): 0.032201745934949955, (6, 17): 0.03740511659818768, (6, 18): 0.05301664232966008, (6, 19): 0.0424816649743569, (6, 20): 0.05700395496684951, (7, 9): 0.020794555398675918, (7, 10): 0.017269932914074637, (7, 11): 0.026155491517374507, (7, 12): 0.060626842311925166, (7, 13): 0.0284606143856605, (7, 14): 0.03895776922486949, (7, 17): 0.028724754053163437, (7, 18): 0.04868572545936978, (7, 19): 0.028691833224067764, (7, 20): 0.07154633186567594, (8, 9): 0.025565207656846667, (8, 10): 0.029238214614450087, (8, 11): 0.032804621928141486, (8, 13): 0.0643213200605004, (8, 14): 0.03927784535208545, (8, 17): 0.03496232399970722, (8, 18): 0.055126278426939734, (8, 19): 0.044413459955850776, (8, 20): 0.07139336889816672, (9, 10): 0.040576536601456326, (9, 11): 0.020930615604557445, (9, 12): 0.012552841199116926, (9, 13): 0.031989724994851976, (9, 14): 0.03165631508472799, (9, 15): 0.020176071376688753, (9, 16): 0.025007367978489015, (9, 17): 0.04939144007067764, (9, 18): 0.027171145101044125, (9, 19): 0.03748071383846785, (9, 20): 0.040450903301834096, (10, 11): 0.02351948451154051, (10, 12): 0.028238086955603592, (10, 13): 0.03370159096360048, (10, 14): 0.04651321553313448, (10, 15): 0.025066742231167893, (10, 16): 0.025168585264882637, (10, 17): 0.04081093710314487, (10, 18): 0.04847584254650883, (10, 19): 0.049035777026094074, (10, 20): 0.047021462002939884, (11, 12): 0.036105147614844846, (11, 13): 0.024820164647961107, (11, 14): 0.03294157715334656, (11, 15): 0.02728616503617598, (11, 16): 0.031011321066640285, (11, 17): 0.02851555047871379, (11, 18): 0.06041666143299995, (11, 19): 0.05372493488350116, (11, 20): 0.03895230928720661, (12, 13): 0.048627043393654645, (12, 14): 0.032501017851066294, (12, 15): 0.05289799431326525, (12, 17): 0.02388161553651269, (12, 18): 0.04292759458423756, (12, 19): 0.029584458231322053, (13, 14): 0.05556361143953126, (13, 15): 0.03716867219446218, (13, 16): 0.07069243387775614, (13, 17): 0.04507516431253489, (13, 18): 0.04833801015133243, (13, 19): 0.053434352451267486, (13, 20): 0.05963751055678834, (14, 15): 0.04662401292101581, (14, 16): 0.04883381530790665, (14, 17): 0.05703789940305537, (14, 18): 0.06264617657587745, (14, 19): 0.0630034660552452, (15, 17): 0.031122962091751916, (15, 18): 0.050294135761341785, (15, 19): 0.031200435173357022, (15, 20): 0.0713095045540495, (16, 17): 0.04012283223445223, (16, 18): 0.049708842202533354, (16, 19): 0.044713809258893455, (16, 20): 0.07235053659784807, (17, 18): 0.05469717091430937, (17, 19): 0.07207367482638904, (19, 20): 0.06838993072248645}\n",
      "1079 : {(1, 2, 3): -0.07192306802550252, (1, 2, 4): -0.07752223458425966, (1, 2, 5): -0.13040488176336407, (1, 2, 6): -0.08292342928900531, (1, 2, 7): -0.08423792887836612, (1, 2, 8): -0.08315494090488063, (1, 2, 10): -0.09144269175396058, (1, 2, 11): -0.06708896692192212, (1, 2, 12): -0.07122435941809435, (1, 2, 13): -0.10373640751834667, (1, 2, 14): -0.15051667297371196, (1, 2, 15): -0.06880407043578618, (1, 2, 16): -0.0848315839949354, (1, 2, 17): -0.11425656567901576, (1, 2, 18): -0.12950911343606908, (1, 2, 19): -0.1315612788360827, (1, 2, 20): -0.18347082303198547, (1, 3, 5): -0.08855102514685331, (1, 3, 6): -0.07326269534124297, (1, 3, 7): -0.05684348546561235, (1, 3, 8): -0.061859599492821715, (1, 3, 10): -0.06037638125524758, (1, 3, 12): -0.06425175414810269, (1, 3, 13): -0.08838664508599159, (1, 3, 14): -0.11575088797935962, (1, 3, 15): -0.06387773693328302, (1, 3, 16): -0.0701204701260778, (1, 3, 17): -0.09581031703190934, (1, 3, 18): -0.09685310383518697, (1, 3, 19): -0.08722666522209277, (1, 3, 20): -0.13438293446824545, (1, 4, 5): -0.09052691378346367, (1, 4, 6): -0.06871089087750626, (1, 4, 7): -0.05565702266831707, (1, 4, 8): -0.05359774945035767, (1, 4, 10): -0.06157901534560484, (1, 4, 13): -0.07380080113333509, (1, 4, 14): -0.12311067663093578, (1, 4, 15): -0.05457382640826758, (1, 4, 16): -0.059324518263544235, (1, 4, 17): -0.07845724549065825, (1, 4, 18): -0.0927253185810617, (1, 4, 19): -0.09089792490004278, (1, 4, 20): -0.12511265425973406, (1, 5, 6): -0.12788832876522793, (1, 5, 7): -0.10093621887300852, (1, 5, 8): -0.11083043671844184, (1, 5, 9): -0.07824735777913006, (1, 5, 10): -0.13455977938629182, (1, 5, 11): -0.08337400318552834, (1, 5, 12): -0.09510028467214582, (1, 5, 13): -0.1406436931626267, (1, 5, 14): -0.20386913048593058, (1, 5, 15): -0.09394765115076353, (1, 5, 16): -0.1303789223903209, (1, 5, 17): -0.13703801870619436, (1, 5, 18): -0.18375495137391162, (1, 5, 19): -0.1595717291001577, (1, 5, 20): -0.2269941285375605, (1, 6, 7): -0.08802119525022079, (1, 6, 8): -0.08626442222081376, (1, 6, 9): -0.06671578038592507, (1, 6, 10): -0.0903766730258706, (1, 6, 11): -0.075361322164337, (1, 6, 12): -0.06812981193415535, (1, 6, 13): -0.12041192967551773, (1, 6, 14): -0.16154848407252764, (1, 6, 15): -0.10157441417052038, (1, 6, 16): -0.09142200851478322, (1, 6, 17): -0.14040194207639178, (1, 6, 18): -0.14565851496602544, (1, 6, 19): -0.1406829947975634, (1, 6, 20): -0.1833967054773442, (1, 7, 8): -0.08301927054835101, (1, 7, 9): -0.06562320748110295, (1, 7, 10): -0.07955175270855985, (1, 7, 11): -0.05697435495255476, (1, 7, 12): -0.06201968515572709, (1, 7, 13): -0.09753881766223316, (1, 7, 14): -0.14327952248530895, (1, 7, 15): -0.05400136812273448, (1, 7, 16): -0.07477118895974666, (1, 7, 17): -0.11203338812426011, (1, 7, 18): -0.12345624796124177, (1, 7, 19): -0.11440717219612662, (1, 7, 20): -0.16758680930735537, (1, 8, 9): -0.06480650360256135, (1, 8, 10): -0.10033091091505764, (1, 8, 11): -0.07262787611255384, (1, 8, 12): -0.06332226965366772, (1, 8, 13): -0.10518869067383463, (1, 8, 14): -0.17112190963667118, (1, 8, 15): -0.08190536685310246, (1, 8, 16): -0.06997481292276042, (1, 8, 17): -0.1278838436110048, (1, 8, 18): -0.12900155523776213, (1, 8, 19): -0.1357876855575446, (1, 8, 20): -0.18312389977003107, (1, 9, 11): -0.05140490146128762, (1, 9, 13): -0.07825096595574799, (1, 9, 14): -0.1173706674975099, (1, 9, 15): -0.06597010357202748, (1, 9, 16): -0.06242957124899462, (1, 9, 17): -0.07756336786530404, (1, 9, 18): -0.1113441275890521, (1, 9, 19): -0.08751691517010851, (1, 9, 20): -0.12445108577097663, (1, 10, 11): -0.06601804398655808, (1, 10, 12): -0.06830917571309492, (1, 10, 13): -0.12009390762029248, (1, 10, 14): -0.15858104594805766, (1, 10, 15): -0.07793753747850118, (1, 10, 16): -0.08240174701287106, (1, 10, 17): -0.12217796780701828, (1, 10, 18): -0.1359017056611549, (1, 10, 19): -0.12834643579849292, (1, 10, 20): -0.19369815255056544, (1, 11, 13): -0.08177833667642354, (1, 11, 14): -0.1126025683010301, (1, 11, 15): -0.06312757859223161, (1, 11, 16): -0.06560156130879768, (1, 11, 17): -0.08717533805548783, (1, 11, 18): -0.10333189533739962, (1, 11, 19): -0.0856920241468222, (1, 11, 20): -0.1329269053256681, (1, 12, 13): -0.08656765329860061, (1, 12, 14): -0.11820331031551046, (1, 12, 15): -0.0614937275273828, (1, 12, 16): -0.06049381881751348, (1, 12, 17): -0.09323179812365634, (1, 12, 18): -0.10188637861198035, (1, 12, 19): -0.104730370430139, (1, 12, 20): -0.13120832673772398, (1, 13, 14): -0.20336738893808182, (1, 13, 15): -0.10271163770628355, (1, 13, 16): -0.10066355079597411, (1, 13, 17): -0.1397752507988299, (1, 13, 18): -0.17409278597804878, (1, 13, 19): -0.1540141012055365, (1, 13, 20): -0.24035697354217334, (1, 14, 15): -0.12249200835929841, (1, 14, 16): -0.13295685401625157, (1, 14, 17): -0.17881601369825617, (1, 14, 18): -0.23768688597520438, (1, 14, 19): -0.2034323858336773, (1, 14, 20): -0.31401640854078217, (1, 15, 16): -0.07490632122264618, (1, 15, 17): -0.10797312596006581, (1, 15, 18): -0.12363420713692719, (1, 15, 19): -0.11451184747176146, (1, 15, 20): -0.15470495977241683, (1, 16, 17): -0.09990905357583113, (1, 16, 18): -0.13207938894578408, (1, 16, 19): -0.11543426839608095, (1, 16, 20): -0.17078008766024766, (1, 17, 18): -0.1623936653176461, (1, 17, 19): -0.1551081432596284, (1, 17, 20): -0.2310990729183171, (1, 18, 19): -0.1626028756485276, (1, 18, 20): -0.2638961428081128, (1, 19, 20): -0.24291581358685121, (2, 3, 4): -0.05619554408807037, (2, 3, 5): -0.10882570003289072, (2, 3, 6): -0.09361356384359532, (2, 3, 7): -0.07293711313197537, (2, 3, 8): -0.0918207996038225, (2, 3, 9): -0.06949722296358463, (2, 3, 10): -0.0789400315007196, (2, 3, 11): -0.05352548327751805, (2, 3, 12): -0.06598712474494217, (2, 3, 13): -0.09905886387633789, (2, 3, 14): -0.14722193145563445, (2, 3, 15): -0.06644419835233695, (2, 3, 16): -0.08790008332872379, (2, 3, 17): -0.11686524900957718, (2, 3, 18): -0.12482229714309767, (2, 3, 19): -0.1120681275201294, (2, 3, 20): -0.1673295932075991, (2, 4, 5): -0.09099426125010357, (2, 4, 6): -0.07450089192197495, (2, 4, 7): -0.06439416378184504, (2, 4, 8): -0.06736140685781855, (2, 4, 9): -0.05685384557430151, (2, 4, 10): -0.08121383496508816, (2, 4, 11): -0.05153205984330622, (2, 4, 12): -0.05864155684434991, (2, 4, 13): -0.08657925827465895, (2, 4, 14): -0.12435085573374138, (2, 4, 15): -0.06920455235398659, (2, 4, 16): -0.07637412638479368, (2, 4, 17): -0.10290000244597053, (2, 4, 18): -0.11865098045450839, (2, 4, 19): -0.10813570566386765, (2, 4, 20): -0.14954417078268278, (2, 5, 6): -0.15378962534269913, (2, 5, 7): -0.11657381151211599, (2, 5, 8): -0.14459887313859365, (2, 5, 9): -0.11697232567535742, (2, 5, 10): -0.1412374769511402, (2, 5, 11): -0.10720375024787288, (2, 5, 12): -0.11055656393405489, (2, 5, 13): -0.1602443160415259, (2, 5, 14): -0.23366146970290558, (2, 5, 15): -0.12043575575660181, (2, 5, 16): -0.1486454019996808, (2, 5, 17): -0.19649395008563353, (2, 5, 18): -0.20826703424150317, (2, 5, 19): -0.18727405616552595, (2, 5, 20): -0.2773922131799811, (2, 6, 7): -0.11221507398132946, (2, 6, 8): -0.10638019083136374, (2, 6, 9): -0.09556039271347316, (2, 6, 10): -0.10408286221402197, (2, 6, 11): -0.07933045992040277, (2, 6, 12): -0.08191694428525764, (2, 6, 13): -0.11972128912236801, (2, 6, 14): -0.18882340702175782, (2, 6, 15): -0.09682614900821562, (2, 6, 16): -0.11607998467075031, (2, 6, 17): -0.1488241839810982, (2, 6, 18): -0.1763971590495732, (2, 6, 19): -0.15696873573894266, (2, 6, 20): -0.21070610063203965, (2, 7, 8): -0.11300599165426028, (2, 7, 9): -0.07670282662309269, (2, 7, 10): -0.10557460811930763, (2, 7, 11): -0.06965578715298637, (2, 7, 12): -0.07040942680616347, (2, 7, 13): -0.11506157148861806, (2, 7, 14): -0.15376894816903608, (2, 7, 15): -0.06383825309339475, (2, 7, 16): -0.09342609487229403, (2, 7, 17): -0.13241373228682374, (2, 7, 18): -0.15495133642538228, (2, 7, 19): -0.13694696910356718, (2, 7, 20): -0.17798691748432915, (2, 8, 9): -0.07378112414447724, (2, 8, 10): -0.10748021141568387, (2, 8, 11): -0.07614998520441318, (2, 8, 12): -0.07502815841680022, (2, 8, 13): -0.12550161824649742, (2, 8, 14): -0.18179850552259502, (2, 8, 15): -0.08759706867398176, (2, 8, 16): -0.08773622938651382, (2, 8, 17): -0.14061204881759615, (2, 8, 18): -0.16263051592537536, (2, 8, 19): -0.1526493048330675, (2, 8, 20): -0.20877727645510724, (2, 9, 10): -0.08686648076266756, (2, 9, 11): -0.06615123379304144, (2, 9, 12): -0.07213831968191009, (2, 9, 13): -0.1061631751861869, (2, 9, 14): -0.15618769379491937, (2, 9, 15): -0.07937986329789659, (2, 9, 16): -0.08581061208143925, (2, 9, 17): -0.11154602811823278, (2, 9, 18): -0.142614519825905, (2, 9, 19): -0.11548759673645659, (2, 9, 20): -0.1689451602055474, (2, 10, 11): -0.08861527171846362, (2, 10, 12): -0.08440036508986104, (2, 10, 13): -0.13669488496160564, (2, 10, 14): -0.19483443209888307, (2, 10, 15): -0.09547812591427363, (2, 10, 16): -0.10992436469494837, (2, 10, 17): -0.1395354017992716, (2, 10, 18): -0.17477122893484953, (2, 10, 19): -0.14603107825728223, (2, 10, 20): -0.23217020152663537, (2, 11, 12): -0.059515934172649665, (2, 11, 13): -0.09301476482426718, (2, 11, 14): -0.14126127525911159, (2, 11, 15): -0.06712467321760052, (2, 11, 16): -0.08263194157519305, (2, 11, 17): -0.10024299380044521, (2, 11, 18): -0.11609385670882588, (2, 11, 19): -0.11217438063270002, (2, 11, 20): -0.15584732329500994, (2, 12, 13): -0.10444273911981572, (2, 12, 14): -0.13749696259251998, (2, 12, 15): -0.06665109006754832, (2, 12, 16): -0.0788435242077421, (2, 12, 17): -0.10667963904896371, (2, 12, 18): -0.13479795772420822, (2, 12, 19): -0.11621966432867126, (2, 12, 20): -0.15551345794753502, (2, 13, 14): -0.21503122632952376, (2, 13, 15): -0.11659032414606951, (2, 13, 16): -0.11667457266539571, (2, 13, 17): -0.17700221272376737, (2, 13, 18): -0.20657732828776432, (2, 13, 19): -0.18329937636572424, (2, 13, 20): -0.26623635705570514, (2, 14, 15): -0.14710335773323457, (2, 14, 16): -0.18617000598039724, (2, 14, 17): -0.2254568176584275, (2, 14, 18): -0.27526608138060915, (2, 14, 19): -0.25845553405616606, (2, 14, 20): -0.3457778381955592, (2, 15, 16): -0.09274298982537488, (2, 15, 17): -0.13138281261477402, (2, 15, 18): -0.14458505102395236, (2, 15, 19): -0.12373500038635576, (2, 15, 20): -0.1607501745455, (2, 16, 17): -0.13706637006013445, (2, 16, 18): -0.16042137704485881, (2, 16, 19): -0.14869893136809686, (2, 16, 20): -0.2194470074077266, (2, 17, 18): -0.21810318091811887, (2, 17, 19): -0.17803337547374554, (2, 17, 20): -0.2680187064123558, (2, 18, 19): -0.222207065031494, (2, 18, 20): -0.2925335894185146, (2, 19, 20): -0.2912528690450671, (3, 4, 5): -0.08092261126801681, (3, 4, 6): -0.06094045347309418, (3, 4, 9): -0.05319851209518145, (3, 4, 10): -0.07558042768147111, (3, 4, 13): -0.07216447246633262, (3, 4, 14): -0.11163256363460317, (3, 4, 16): -0.0527808923259272, (3, 4, 17): -0.07927202262360034, (3, 4, 18): -0.0923889379943148, (3, 4, 19): -0.08452758463110577, (3, 4, 20): -0.11756868630859607, (3, 5, 6): -0.12773107967286634, (3, 5, 7): -0.0950861628286761, (3, 5, 8): -0.10733419560421087, (3, 5, 9): -0.0819681987060088, (3, 5, 10): -0.11140308228022011, (3, 5, 11): -0.09157410431831536, (3, 5, 12): -0.07765319042615726, (3, 5, 13): -0.12836338318239626, (3, 5, 14): -0.1810583575851048, (3, 5, 15): -0.09022087821886604, (3, 5, 16): -0.1085659570880626, (3, 5, 17): -0.1473811768531661, (3, 5, 18): -0.162821879039301, (3, 5, 19): -0.14723040068170867, (3, 5, 20): -0.22133814954433362, (3, 6, 7): -0.07130620944242683, (3, 6, 8): -0.09182417840600987, (3, 6, 9): -0.06840670701597151, (3, 6, 10): -0.08348071503605325, (3, 6, 11): -0.06115890278814806, (3, 6, 12): -0.06592751878272463, (3, 6, 13): -0.10512316040695513, (3, 6, 14): -0.14243109303558654, (3, 6, 15): -0.08246334438545411, (3, 6, 16): -0.08794739498118087, (3, 6, 17): -0.11021153611619017, (3, 6, 18): -0.1318452647648254, (3, 6, 19): -0.12889164046405277, (3, 6, 20): -0.1537014979080631, (3, 7, 8): -0.06162718760401198, (3, 7, 9): -0.053008328588222575, (3, 7, 10): -0.0800224039036026, (3, 7, 11): -0.05314054374327881, (3, 7, 13): -0.09881296160756037, (3, 7, 14): -0.12157642762365395, (3, 7, 16): -0.07502432037269813, (3, 7, 17): -0.10380928150539948, (3, 7, 18): -0.09691235912631235, (3, 7, 19): -0.10575407489982602, (3, 7, 20): -0.1310933715523781, (3, 8, 9): -0.06300897492938162, (3, 8, 10): -0.09081622264535927, (3, 8, 11): -0.051781898458232334, (3, 8, 13): -0.10975633281888264, (3, 8, 14): -0.14988096894382785, (3, 8, 15): -0.0668016183540674, (3, 8, 16): -0.06970405976353256, (3, 8, 17): -0.11799490499760701, (3, 8, 18): -0.12213747967998323, (3, 8, 19): -0.11493948913666596, (3, 8, 20): -0.1536305914617362, (3, 9, 10): -0.06770193565071736, (3, 9, 11): -0.05777698216542149, (3, 9, 12): -0.051384267141509454, (3, 9, 13): -0.07993658488096678, (3, 9, 14): -0.13489426653866765, (3, 9, 15): -0.05785247976123831, (3, 9, 16): -0.07300485310088689, (3, 9, 17): -0.0901667433085871, (3, 9, 18): -0.10118427875378355, (3, 9, 19): -0.09167321460246214, (3, 9, 20): -0.14066066919315645, (3, 10, 11): -0.07449935941619223, (3, 10, 12): -0.07265286923447078, (3, 10, 13): -0.10094380583908169, (3, 10, 14): -0.14340514700104912, (3, 10, 15): -0.0810145225752752, (3, 10, 16): -0.08188098233094188, (3, 10, 17): -0.11717125258527705, (3, 10, 18): -0.13055765894002658, (3, 10, 19): -0.11627013374564932, (3, 10, 20): -0.17675180087136866, (3, 11, 13): -0.07925651009201751, (3, 11, 14): -0.11168979314374639, (3, 11, 15): -0.05944307223898715, (3, 11, 16): -0.06268228622104388, (3, 11, 17): -0.08043534989175694, (3, 11, 18): -0.09660684232412642, (3, 11, 19): -0.0889898837474421, (3, 11, 20): -0.13276670103686605, (3, 12, 13): -0.07470710615683807, (3, 12, 14): -0.10635078078884508, (3, 12, 15): -0.05865170866977021, (3, 12, 17): -0.08117077272836948, (3, 12, 18): -0.09563047826216131, (3, 12, 19): -0.09720718158876362, (3, 12, 20): -0.11759586893476026, (3, 13, 14): -0.17969127394772144, (3, 13, 15): -0.0851183509115776, (3, 13, 16): -0.10954454829348315, (3, 13, 17): -0.1403980685688877, (3, 13, 18): -0.1699803709109755, (3, 13, 19): -0.14993852144400233, (3, 13, 20): -0.20734411756620652, (3, 14, 15): -0.1263722596433725, (3, 14, 16): -0.14100354530002512, (3, 14, 17): -0.1972627839855825, (3, 14, 18): -0.21473333213793389, (3, 14, 19): -0.19832869161451327, (3, 14, 20): -0.28360808818042216, (3, 15, 16): -0.0843325942194264, (3, 15, 17): -0.09558476590553155, (3, 15, 18): -0.1211653340036607, (3, 15, 19): -0.1171651107300864, (3, 15, 20): -0.1449844707422283, (3, 16, 17): -0.11098050260422809, (3, 16, 18): -0.12301158775536969, (3, 16, 19): -0.12683012054164244, (3, 16, 20): -0.16360832907657397, (3, 17, 18): -0.165351998409621, (3, 17, 19): -0.14757841901778335, (3, 17, 20): -0.23846372789841652, (3, 18, 19): -0.15395396025811436, (3, 18, 20): -0.26879774511859544, (3, 19, 20): -0.2466709901308679, (4, 5, 6): -0.10538476902961502, (4, 5, 7): -0.06910128995404108, (4, 5, 8): -0.07912323911195518, (4, 5, 9): -0.0759975510972497, (4, 5, 10): -0.09918545598116513, (4, 5, 11): -0.07871521529915437, (4, 5, 12): -0.05428182484760491, (4, 5, 13): -0.11039717321773335, (4, 5, 14): -0.16803978434381506, (4, 5, 15): -0.07134248134212307, (4, 5, 16): -0.08729419755124823, (4, 5, 17): -0.13409364183574368, (4, 5, 18): -0.15254943966826673, (4, 5, 19): -0.1370318401904047, (4, 5, 20): -0.17952056946887218, (4, 6, 7): -0.058364538667524, (4, 6, 8): -0.07209126613642614, (4, 6, 9): -0.061773930962517376, (4, 6, 10): -0.07768815816400476, (4, 6, 11): -0.05534973185773229, (4, 6, 12): -0.05292529239093202, (4, 6, 13): -0.09663175733148233, (4, 6, 14): -0.12464928236136252, (4, 6, 15): -0.06203964433744158, (4, 6, 16): -0.06807748803918567, (4, 6, 17): -0.10481534287707461, (4, 6, 18): -0.11407927213056013, (4, 6, 19): -0.11525031696865007, (4, 6, 20): -0.14778800238598855, (4, 7, 10): -0.08123075362805299, (4, 7, 13): -0.07289660232066453, (4, 7, 14): -0.1159637271266627, (4, 7, 17): -0.0925852004496992, (4, 7, 18): -0.0934676703589501, (4, 7, 19): -0.08785205176501698, (4, 7, 20): -0.10533415317309291, (4, 8, 9): -0.060608580851566174, (4, 8, 10): -0.08425992105280766, (4, 8, 13): -0.08202913804765721, (4, 8, 14): -0.1218132095788631, (4, 8, 17): -0.09541034845619656, (4, 8, 18): -0.11697997276475736, (4, 8, 19): -0.10794246315383837, (4, 8, 20): -0.11955977686112718, (4, 9, 10): -0.06956669908141322, (4, 9, 12): -0.05294068832739285, (4, 9, 13): -0.07634409232973827, (4, 9, 14): -0.12804364615080122, (4, 9, 15): -0.05151394927481512, (4, 9, 16): -0.05955941089977923, (4, 9, 17): -0.08677029261845526, (4, 9, 18): -0.1000153447979466, (4, 9, 19): -0.10124640284588704, (4, 9, 20): -0.12084923258030145, (4, 10, 11): -0.0714110201995597, (4, 10, 12): -0.053363727911674985, (4, 10, 13): -0.11055222644565976, (4, 10, 14): -0.1420855501388214, (4, 10, 15): -0.0728656146421951, (4, 10, 16): -0.07722616356379586, (4, 10, 17): -0.11901494160062498, (4, 10, 18): -0.12446921328318616, (4, 10, 19): -0.113842442500939, (4, 10, 20): -0.1446974395985201, (4, 11, 13): -0.06894741991210473, (4, 11, 14): -0.0986748921464713, (4, 11, 17): -0.08791318688724914, (4, 11, 18): -0.0760523733781886, (4, 11, 19): -0.07094345401750424, (4, 11, 20): -0.10639356190390536, (4, 12, 13): -0.05249638557543079, (4, 12, 14): -0.09213025901799732, (4, 12, 17): -0.07749857494779544, (4, 12, 18): -0.07116582298919738, (4, 12, 19): -0.08260254786559962, (4, 12, 20): -0.07676335367674003, (4, 13, 14): -0.1538539814761286, (4, 13, 15): -0.06550228632289379, (4, 13, 16): -0.07982402509540609, (4, 13, 17): -0.12359530702180699, (4, 13, 18): -0.14657418160553792, (4, 13, 19): -0.13551002773969945, (4, 13, 20): -0.18754731174582417, (4, 14, 15): -0.10444442866173453, (4, 14, 16): -0.11837887427424221, (4, 14, 17): -0.17156224905853712, (4, 14, 18): -0.2073793491635545, (4, 14, 19): -0.18277461544704465, (4, 14, 20): -0.26170261085130697, (4, 15, 17): -0.08844615119506294, (4, 15, 18): -0.08208710850246703, (4, 15, 19): -0.10363218052684608, (4, 15, 20): -0.09528488556037118, (4, 16, 17): -0.09028171462476209, (4, 16, 18): -0.10266896284907112, (4, 16, 19): -0.10122493603245974, (4, 16, 20): -0.1341816346685789, (4, 17, 18): -0.15209957839523547, (4, 17, 19): -0.1369464392496038, (4, 17, 20): -0.19438928668221678, (4, 18, 19): -0.1444848069209108, (4, 18, 20): -0.20103550085409871, (4, 19, 20): -0.21379182680598774, (5, 6, 7): -0.11868265570042613, (5, 6, 8): -0.13864692582355786, (5, 6, 9): -0.12308728337117714, (5, 6, 10): -0.15456587269597932, (5, 6, 11): -0.11713899742090206, (5, 6, 12): -0.11404664485075866, (5, 6, 13): -0.1685075044794484, (5, 6, 14): -0.23763476194065802, (5, 6, 15): -0.1182352465027483, (5, 6, 16): -0.13534839329270465, (5, 6, 17): -0.19565469545156056, (5, 6, 18): -0.21862958541010613, (5, 6, 19): -0.18557201298673398, (5, 6, 20): -0.2779445136045027, (5, 7, 8): -0.09927992429239385, (5, 7, 9): -0.09786040157116993, (5, 7, 10): -0.1335877951269886, (5, 7, 11): -0.0989958665472539, (5, 7, 12): -0.07754213624981432, (5, 7, 13): -0.14172287568757902, (5, 7, 14): -0.2052834522131075, (5, 7, 15): -0.06742954964554482, (5, 7, 16): -0.10400668246509248, (5, 7, 17): -0.16267112509672543, (5, 7, 18): -0.2015386734940332, (5, 7, 19): -0.1690106198401793, (5, 7, 20): -0.2334062261671157, (5, 8, 9): -0.10769093010209652, (5, 8, 10): -0.15137481305413392, (5, 8, 11): -0.1134601597209377, (5, 8, 12): -0.09143942862180232, (5, 8, 13): -0.14205472735638836, (5, 8, 14): -0.23324290515460788, (5, 8, 15): -0.11604300169903148, (5, 8, 16): -0.0996754034822196, (5, 8, 17): -0.18605495924090754, (5, 8, 18): -0.21600213926979173, (5, 8, 19): -0.19512996679290673, (5, 8, 20): -0.2597550384679863, (5, 9, 10): -0.1356534124332578, (5, 9, 11): -0.08047661459607536, (5, 9, 12): -0.09239899203180624, (5, 9, 13): -0.12319711360939234, (5, 9, 14): -0.18894822020294022, (5, 9, 15): -0.08952151127035268, (5, 9, 16): -0.11206271911439103, (5, 9, 17): -0.15059177315073313, (5, 9, 18): -0.19064181509081557, (5, 9, 19): -0.15118681000345013, (5, 9, 20): -0.21780230424387348, (5, 10, 11): -0.11507181082709028, (5, 10, 12): -0.10701887251522901, (5, 10, 13): -0.17227771339412357, (5, 10, 14): -0.24926323831484254, (5, 10, 15): -0.12414002818677883, (5, 10, 16): -0.14565214273759253, (5, 10, 17): -0.19175732324293016, (5, 10, 18): -0.22761146419616018, (5, 10, 19): -0.20370070815514474, (5, 10, 20): -0.28778218229771113, (5, 11, 12): -0.07290416232063723, (5, 11, 13): -0.13780238712530668, (5, 11, 14): -0.18254995225650106, (5, 11, 15): -0.08895381034805272, (5, 11, 16): -0.10156699247456125, (5, 11, 17): -0.138301037729339, (5, 11, 18): -0.1603582627518385, (5, 11, 19): -0.15464495823264635, (5, 11, 20): -0.19995599788477314, (5, 12, 13): -0.10992847132908246, (5, 12, 14): -0.18073862779056427, (5, 12, 15): -0.07876449528923679, (5, 12, 16): -0.09387171124736327, (5, 12, 17): -0.152372169972252, (5, 12, 18): -0.1639132656951343, (5, 12, 19): -0.15936146349248315, (5, 12, 20): -0.187763867444108, (5, 13, 14): -0.27303893891133946, (5, 13, 15): -0.12870217480924406, (5, 13, 16): -0.14359130047625435, (5, 13, 17): -0.2195746791423776, (5, 13, 18): -0.23547696403083584, (5, 13, 19): -0.21633810176868273, (5, 13, 20): -0.30500472163571324, (5, 14, 15): -0.2132647769706093, (5, 14, 16): -0.22095010555713657, (5, 14, 17): -0.28281704966205545, (5, 14, 18): -0.3523611976713603, (5, 14, 19): -0.30104493953311895, (5, 15, 16): -0.09806175265683326, (5, 15, 17): -0.16621707601350977, (5, 15, 18): -0.17745910243756313, (5, 15, 19): -0.17178221314649278, (5, 15, 20): -0.22176793825565788, (5, 16, 17): -0.18141361983890292, (5, 16, 18): -0.20688105213078067, (5, 16, 19): -0.18635305682624725, (5, 16, 20): -0.25706437824278794, (5, 17, 18): -0.2936095452084526, (5, 17, 19): -0.23969527936992563, (5, 17, 20): -0.3633871172303955, (5, 18, 19): -0.25354010570667285, (5, 19, 20): -0.37469416943938505, (6, 7, 8): -0.08873869725432115, (6, 7, 9): -0.08703920715891922, (6, 7, 10): -0.10304782291468051, (6, 7, 11): -0.07422392027712643, (6, 7, 12): -0.06618269711774438, (6, 7, 13): -0.13692607003733226, (6, 7, 14): -0.15337056585414288, (6, 7, 15): -0.05478657867243353, (6, 7, 16): -0.08656525732300491, (6, 7, 17): -0.13381288782350875, (6, 7, 18): -0.140922939999367, (6, 7, 19): -0.14534855993161422, (6, 7, 20): -0.1932191263957641, (6, 8, 9): -0.10047428504666911, (6, 8, 10): -0.1092639687775332, (6, 8, 11): -0.08133619204291609, (6, 8, 12): -0.0863693611595222, (6, 8, 13): -0.14884292660419174, (6, 8, 14): -0.19297311321523836, (6, 8, 15): -0.1069244341408293, (6, 8, 16): -0.11112773801276443, (6, 8, 17): -0.16479767603096285, (6, 8, 18): -0.17960581397020903, (6, 8, 19): -0.15128749971442623, (6, 8, 20): -0.20422599806996544, (6, 9, 10): -0.09356666390254276, (6, 9, 11): -0.08408237215503256, (6, 9, 12): -0.06883848515321045, (6, 9, 13): -0.10958127944391904, (6, 9, 14): -0.14731198578680882, (6, 9, 15): -0.08558542540427361, (6, 9, 16): -0.09975101657131269, (6, 9, 17): -0.13354276441902968, (6, 9, 18): -0.13864472528274518, (6, 9, 19): -0.13701615135189282, (6, 9, 20): -0.17318798516514278, (6, 10, 11): -0.07734972627468206, (6, 10, 12): -0.08184730338923085, (6, 10, 13): -0.1469285740290962, (6, 10, 14): -0.1715517161039397, (6, 10, 15): -0.09840091275898644, (6, 10, 16): -0.10186042296927411, (6, 10, 17): -0.1428377666508016, (6, 10, 18): -0.15804573923098708, (6, 10, 19): -0.14545288734989015, (6, 10, 20): -0.22207685393116172, (6, 11, 12): -0.06537738368484103, (6, 11, 13): -0.10234549552094663, (6, 11, 14): -0.1446571537204946, (6, 11, 15): -0.06922238191361352, (6, 11, 16): -0.0776035112761253, (6, 11, 17): -0.11282822203803189, (6, 11, 18): -0.12393504231656838, (6, 11, 19): -0.11686613002172574, (6, 11, 20): -0.15543217886902205, (6, 12, 13): -0.10279077646524915, (6, 12, 14): -0.15488620367960415, (6, 12, 15): -0.07486310011161379, (6, 12, 16): -0.07589553558956563, (6, 12, 17): -0.11928930287810058, (6, 12, 18): -0.12702813275926417, (6, 12, 19): -0.13197908687997728, (6, 12, 20): -0.1594345487405988, (6, 13, 14): -0.2192947671121992, (6, 13, 15): -0.11617905890306268, (6, 13, 16): -0.13295913295271955, (6, 13, 17): -0.18166848564660043, (6, 13, 18): -0.21249842997623247, (6, 13, 19): -0.18183604486077698, (6, 13, 20): -0.2605806193668396, (6, 14, 15): -0.15968390688456147, (6, 14, 16): -0.18807194047079356, (6, 14, 17): -0.24542407032593694, (6, 14, 18): -0.27502210074179523, (6, 14, 19): -0.24410143218170255, (6, 14, 20): -0.3525531603658081, (6, 15, 16): -0.09299708198387346, (6, 15, 17): -0.13586684116257075, (6, 15, 18): -0.1516796696577032, (6, 15, 19): -0.13607264292587562, (6, 15, 20): -0.17786296074448593, (6, 16, 17): -0.15062563191578704, (6, 16, 18): -0.1613534265322052, (6, 16, 19): -0.1613369643783482, (6, 16, 20): -0.19754976217169506, (6, 17, 18): -0.23123983062210485, (6, 17, 19): -0.19703245015391957, (6, 17, 20): -0.2682571193942369, (6, 18, 19): -0.19433726418315445, (6, 18, 20): -0.323189805584267, (6, 19, 20): -0.3056429119289614, (7, 8, 9): -0.08162084876155529, (7, 8, 10): -0.10395681761714126, (7, 8, 11): -0.06350991889098356, (7, 8, 13): -0.11428313162832726, (7, 8, 14): -0.15223845512199574, (7, 8, 17): -0.12800452926138117, (7, 8, 18): -0.13778393974467473, (7, 8, 19): -0.13426049597886358, (7, 8, 20): -0.15559277047663223, (7, 9, 10): -0.0795480674720217, (7, 9, 11): -0.05841755409304916, (7, 9, 12): -0.052718676925058716, (7, 9, 13): -0.09332921084194545, (7, 9, 14): -0.12634695153745135, (7, 9, 15): -0.05798811305312945, (7, 9, 16): -0.08470572702847612, (7, 9, 17): -0.11169016693833012, (7, 9, 18): -0.12695230530840806, (7, 9, 19): -0.11787821472991933, (7, 9, 20): -0.15113178366448032, (7, 10, 11): -0.08421590416286406, (7, 10, 12): -0.08620634956112738, (7, 10, 13): -0.12321486941559012, (7, 10, 14): -0.1787750295796311, (7, 10, 15): -0.07962166249231295, (7, 10, 16): -0.108249067018237, (7, 10, 17): -0.14580945709895676, (7, 10, 18): -0.16445444743879634, (7, 10, 19): -0.14702393014956083, (7, 10, 20): -0.20514989835514008, (7, 11, 13): -0.0847427671626999, (7, 11, 14): -0.1306146849543106, (7, 11, 16): -0.06999442846446868, (7, 11, 17): -0.09518552750928144, (7, 11, 18): -0.09943676549933933, (7, 11, 19): -0.10650783662639274, (7, 11, 20): -0.13761479031876434, (7, 12, 13): -0.07106754101729518, (7, 12, 14): -0.12364213474504915, (7, 12, 17): -0.08893261464742785, (7, 12, 18): -0.11285607173877743, (7, 12, 19): -0.10464883891396148, (7, 12, 20): -0.11221135878106026, (7, 13, 14): -0.20564198374640696, (7, 13, 15): -0.07129724146152316, (7, 13, 16): -0.10528873244558756, (7, 13, 17): -0.16767461047407295, (7, 13, 18): -0.19180070607451682, (7, 13, 19): -0.15958004270260062, (7, 13, 20): -0.24218398663333573, (7, 14, 15): -0.10324178187033439, (7, 14, 16): -0.16616654721960522, (7, 14, 17): -0.22423614327783525, (7, 14, 18): -0.25984742965168905, (7, 14, 19): -0.22360968833847927, (7, 14, 20): -0.31187340994510393, (7, 15, 17): -0.08854023563076563, (7, 15, 18): -0.08732671032854711, (7, 15, 19): -0.07827697516956, (7, 15, 20): -0.08598511132701958, (7, 16, 17): -0.12193313920802051, (7, 16, 18): -0.14608930058318936, (7, 16, 19): -0.13671314927549183, (7, 16, 20): -0.17813184094450207, (7, 17, 18): -0.21033716807768954, (7, 17, 19): -0.17909006057062804, (7, 17, 20): -0.23471773950102381, (7, 18, 19): -0.17408368783110362, (7, 18, 20): -0.2579246551328751, (7, 19, 20): -0.25648458324660517, (8, 9, 10): -0.09192657485969313, (8, 9, 11): -0.06382245198875403, (8, 9, 12): -0.06206506377263121, (8, 9, 13): -0.11749711714152244, (8, 9, 14): -0.15552650880430896, (8, 9, 15): -0.06892117029912104, (8, 9, 16): -0.06781192480815701, (8, 9, 17): -0.11540584325438363, (8, 9, 18): -0.14465841371039634, (8, 9, 19): -0.14870928893427227, (8, 9, 20): -0.16243937969951538, (8, 10, 11): -0.08861304364977318, (8, 10, 12): -0.08296917945101168, (8, 10, 13): -0.15087813757094182, (8, 10, 14): -0.2052277100085007, (8, 10, 15): -0.09699736702257056, (8, 10, 16): -0.11155136099769614, (8, 10, 17): -0.16317851640798864, (8, 10, 18): -0.16527937540608484, (8, 10, 19): -0.1603973345859977, (8, 10, 20): -0.22882097190172246, (8, 11, 13): -0.1015705598237604, (8, 11, 14): -0.14392058590228274, (8, 11, 15): -0.05897384615058687, (8, 11, 16): -0.06744932014345206, (8, 11, 17): -0.11431177963976058, (8, 11, 18): -0.12067913989165735, (8, 11, 19): -0.10966154747926105, (8, 11, 20): -0.14377202347777995, (8, 12, 13): -0.07645012961828535, (8, 12, 14): -0.1288329653568372, (8, 12, 17): -0.09438338416056524, (8, 12, 18): -0.12705603480933902, (8, 12, 19): -0.1256087031440405, (8, 12, 20): -0.11823121158863792, (8, 13, 14): -0.21729861888676538, (8, 13, 15): -0.1009293703052796, (8, 13, 16): -0.10319630824575388, (8, 13, 17): -0.18491581887804287, (8, 13, 18): -0.1959574987008441, (8, 13, 19): -0.1782264028787761, (8, 13, 20): -0.2715068674239003, (8, 14, 15): -0.15893075168358806, (8, 14, 16): -0.17272514673146055, (8, 14, 17): -0.2610775432121297, (8, 14, 18): -0.2698900055813329, (8, 14, 19): -0.27021764617466815, (8, 14, 20): -0.3506288588235851, (8, 15, 17): -0.12975689029334347, (8, 15, 18): -0.13921334462514334, (8, 15, 19): -0.14556800240572532, (8, 15, 20): -0.16155020254688246, (8, 16, 17): -0.11119305530115131, (8, 16, 18): -0.13402499144015145, (8, 16, 19): -0.1274022859726225, (8, 16, 20): -0.16700900093665183, (8, 17, 18): -0.20907180878626974, (8, 17, 19): -0.19324139850502497, (8, 17, 20): -0.2793716600480245, (8, 18, 19): -0.18711938967697073, (8, 18, 20): -0.31162098659991067, (8, 19, 20): -0.29047472016231524, (9, 10, 11): -0.062190096893543156, (9, 10, 12): -0.07713723395136896, (9, 10, 13): -0.10915086537871677, (9, 10, 14): -0.15546112198361683, (9, 10, 15): -0.06886108690376869, (9, 10, 16): -0.09960231240912343, (9, 10, 17): -0.11845144814916964, (9, 10, 18): -0.1515931441317777, (9, 10, 19): -0.13211421613865149, (9, 10, 20): -0.17395402460844522, (9, 11, 12): -0.0613849597064382, (9, 11, 13): -0.08792893606971752, (9, 11, 14): -0.11500737793011506, (9, 11, 15): -0.0582723756174266, (9, 11, 16): -0.06168253803119317, (9, 11, 17): -0.07707953848446891, (9, 11, 18): -0.1021164426331227, (9, 11, 19): -0.09888505635486577, (9, 11, 20): -0.12883795148792387, (9, 12, 13): -0.09166973424146896, (9, 12, 14): -0.10338122362058222, (9, 12, 15): -0.05326149347895193, (9, 12, 16): -0.07594811893459763, (9, 12, 17): -0.09647810788742905, (9, 12, 18): -0.11998275434880412, (9, 12, 19): -0.09333557728214803, (9, 12, 20): -0.12271469093373355, (9, 13, 14): -0.17831967424386264, (9, 13, 15): -0.09410449510773411, (9, 13, 16): -0.09911969297674172, (9, 13, 17): -0.1420054059868523, (9, 13, 18): -0.18057362618575645, (9, 13, 19): -0.15449645752942054, (9, 13, 20): -0.2179867935322708, (9, 14, 15): -0.12617211038445308, (9, 14, 16): -0.15262962538265512, (9, 14, 17): -0.1819057104777677, (9, 14, 18): -0.23983215878128128, (9, 14, 19): -0.21512138056862184, (9, 14, 20): -0.28754287749948837, (9, 15, 16): -0.08364629540311785, (9, 15, 17): -0.10830620548722703, (9, 15, 18): -0.11001572757124567, (9, 15, 19): -0.11324778237605582, (9, 15, 20): -0.1377448201460254, (9, 16, 17): -0.10386263141558061, (9, 16, 18): -0.1373370310049502, (9, 16, 19): -0.11208267618108358, (9, 16, 20): -0.18363983732047728, (9, 17, 18): -0.19492482985742754, (9, 17, 19): -0.15253908018246598, (9, 17, 20): -0.21413962831118916, (9, 18, 19): -0.18425680578113202, (9, 18, 20): -0.2634712880587564, (9, 19, 20): -0.23293682574291097, (10, 11, 12): -0.05790830374000766, (10, 11, 13): -0.1028529553264299, (10, 11, 14): -0.16044514936636745, (10, 11, 15): -0.08432257161831025, (10, 11, 16): -0.08053576884808589, (10, 11, 17): -0.10950773709391104, (10, 11, 18): -0.12547203594064005, (10, 11, 19): -0.10514962855686427, (10, 11, 20): -0.16222019579440428, (10, 12, 13): -0.09450810851447056, (10, 12, 14): -0.15214738454561605, (10, 12, 15): -0.06841033162423926, (10, 12, 16): -0.09103139839802932, (10, 12, 17): -0.12960564776251804, (10, 12, 18): -0.1314543132953192, (10, 12, 19): -0.11413955301632317, (10, 12, 20): -0.1635054732043546, (10, 13, 14): -0.2205959688177579, (10, 13, 15): -0.12119527434078314, (10, 13, 16): -0.12892348174205104, (10, 13, 17): -0.19461148731680922, (10, 13, 18): -0.22537600203506258, (10, 13, 19): -0.19365265191445324, (10, 13, 20): -0.2777322840000842, (10, 14, 15): -0.16330072145139773, (10, 14, 16): -0.18370888443725164, (10, 14, 17): -0.253502629796861, (10, 14, 18): -0.27195788945118693, (10, 14, 19): -0.2550404937496378, (10, 14, 20): -0.377241433695751, (10, 15, 16): -0.0903802300323564, (10, 15, 17): -0.12216200014753476, (10, 15, 18): -0.16249603005844016, (10, 15, 19): -0.15080135088906133, (10, 15, 20): -0.19326470472444157, (10, 16, 17): -0.1396164799887316, (10, 16, 18): -0.18972238031327926, (10, 16, 19): -0.16345115567439983, (10, 16, 20): -0.2187693004815099, (10, 17, 18): -0.23442575266121857, (10, 17, 19): -0.18344336650592652, (10, 17, 20): -0.2897263759803188, (10, 18, 19): -0.2076026708426344, (10, 18, 20): -0.33991427929729845, (10, 19, 20): -0.3094157418200254, (11, 12, 13): -0.06736238036238884, (11, 12, 14): -0.11103642828431237, (11, 12, 16): -0.06322613980826741, (11, 12, 17): -0.07393301517554196, (11, 12, 18): -0.0874195915933722, (11, 12, 19): -0.08703409146235952, (11, 12, 20): -0.11161165747793511, (11, 13, 14): -0.175325378473282, (11, 13, 15): -0.09123464812727278, (11, 13, 16): -0.0919976255129864, (11, 13, 17): -0.13770386587504468, (11, 13, 18): -0.14144268286157669, (11, 13, 19): -0.14544732177139874, (11, 13, 20): -0.2008109490059624, (11, 14, 15): -0.12748068320456962, (11, 14, 16): -0.1447051899053058, (11, 14, 17): -0.1748368167925598, (11, 14, 18): -0.20699712442724838, (11, 14, 19): -0.18017394434729894, (11, 14, 20): -0.2783649744043366, (11, 15, 16): -0.06561570228933, (11, 15, 17): -0.10860643521478419, (11, 15, 18): -0.10897585699519396, (11, 15, 19): -0.0941386478784283, (11, 15, 20): -0.1353944166893406, (11, 16, 17): -0.10444694435323143, (11, 16, 18): -0.11866616031398625, (11, 16, 19): -0.11038128127950042, (11, 16, 20): -0.14519259713115318, (11, 17, 18): -0.15110211622083902, (11, 17, 19): -0.15827136296261912, (11, 17, 20): -0.21968541870518266, (11, 18, 19): -0.13367796036871304, (11, 18, 20): -0.2430984568497223, (11, 19, 20): -0.2307607878242841, (12, 13, 14): -0.15186186365063037, (12, 13, 15): -0.07565089165942407, (12, 13, 16): -0.06686181755109555, (12, 13, 17): -0.1298829330189335, (12, 13, 18): -0.14622852290125188, (12, 13, 19): -0.13925686789962555, (12, 13, 20): -0.18796056839927466, (12, 14, 15): -0.11615236887445057, (12, 14, 16): -0.13174104073033543, (12, 14, 17): -0.18643783322634455, (12, 14, 18): -0.21303949048893855, (12, 14, 19): -0.19020332436896403, (12, 14, 20): -0.24657836166111657, (12, 15, 17): -0.10057358187143528, (12, 15, 18): -0.10621005892468283, (12, 15, 19): -0.11311083824163415, (12, 15, 20): -0.11760006845877058, (12, 16, 17): -0.09764871824863697, (12, 16, 18): -0.11971573271835911, (12, 16, 19): -0.10767402084732769, (12, 16, 20): -0.1172344745880185, (12, 17, 18): -0.16524280051527107, (12, 17, 19): -0.1498128789326607, (12, 17, 20): -0.18980654558441934, (12, 18, 19): -0.16068019608688466, (12, 18, 20): -0.2435756883643112, (12, 19, 20): -0.2170827619767497, (13, 14, 15): -0.1839698726379897, (13, 14, 16): -0.20708957993723764, (13, 14, 17): -0.3059777873644176, (13, 14, 18): -0.3417490007776287, (13, 14, 19): -0.3000685317735332, (13, 15, 16): -0.09308164575228961, (13, 15, 17): -0.1485547189793266, (13, 15, 18): -0.18385805985268, (13, 15, 19): -0.16904822035599132, (13, 15, 20): -0.23645872413312397, (13, 16, 17): -0.16870725282934984, (13, 16, 18): -0.20489070240390816, (13, 16, 19): -0.16933923984180765, (13, 16, 20): -0.25819311232602793, (13, 17, 18): -0.27551294281232686, (13, 17, 19): -0.24399756250241111, (13, 17, 20): -0.3545514755549348, (13, 18, 19): -0.24530486955991648, (13, 19, 20): -0.3566135853969712, (14, 15, 16): -0.15128328454584228, (14, 15, 17): -0.17680498246319942, (14, 15, 18): -0.24343363750682734, (14, 15, 19): -0.22947843408219804, (14, 15, 20): -0.2986301155161257, (14, 16, 17): -0.23753730548780894, (14, 16, 18): -0.2786131096193287, (14, 16, 19): -0.2489512981022841, (14, 16, 20): -0.34165899468028016, (14, 17, 18): -0.35731944850017605, (14, 17, 19): -0.3046928127294084, (14, 18, 19): -0.32537330170828227, (15, 16, 17): -0.1079013263595856, (15, 16, 18): -0.13777280746140264, (15, 16, 19): -0.12903989257871373, (15, 16, 20): -0.1582053961304961, (15, 17, 18): -0.18535728499197468, (15, 17, 19): -0.17626977706142632, (15, 17, 20): -0.24758228651899827, (15, 18, 19): -0.1807273378823453, (15, 18, 20): -0.27506760151800513, (15, 19, 20): -0.2591978763341345, (16, 17, 18): -0.21048401549658458, (16, 17, 19): -0.18377710967451222, (16, 17, 20): -0.2692245637561257, (16, 18, 19): -0.19683342995446118, (16, 18, 20): -0.3181408143553952, (16, 19, 20): -0.29961075213510213, (17, 18, 19): -0.2660850293123467}\n",
      "Pruned Clique Complex: {(1,): 2.3158932632922564, (2,): 2.6034634969390407, (3,): 2.2046295200496218, (5,): 3.0029452453336924, (6,): 2.638108973868445, (7,): 2.3989199097781473, (8,): 2.615714896072481, (9,): 2.263040738115215, (10,): 2.6811687257127006, (11,): 2.1899793141189527, (12,): 2.155641706436543, (13,): 2.885945997760527, (14,): 3.4910900719042703, (15,): 2.3930486691448194, (16,): 2.5874412804506597, (17,): 3.0427341658817033, (18,): 3.2773624179080096, (19,): 3.1300593715491387, (1, 2): 0.03881460164945061, (1, 3): 0.03208233536630356, (1, 4): 0.018709167611643096, (1, 5): 0.025890859202976735, (1, 6): 0.025290038216225774, (1, 7): 0.021381681022933918, (1, 8): 0.02069406727950529, (1, 10): 0.04036144115299489, (1, 11): 0.02312911493224945, (1, 12): 0.014466923696759615, (1, 13): 0.03097342180340057, (1, 14): 0.02840522369813403, (1, 15): 0.016433747736248172, (1, 16): 0.0231189482678813, (1, 17): 0.051723416228326435, (1, 18): 0.04699668501089693, (1, 19): 0.04047107128026717, (1, 20): 0.0328493875965723, (2, 3): 0.023696574549664895, (2, 4): 0.025942486088583294, (2, 5): 0.03453746108139466, (2, 6): 0.026589932228832325, (2, 7): 0.024578331699744993, (2, 8): 0.027395668574090593, (2, 9): 0.029919078015017142, (2, 10): 0.05743714442760517, (2, 11): 0.021734746811788774, (2, 12): 0.019427123596143403, (2, 13): 0.030844335126193556, (2, 14): 0.040461831683546556, (2, 15): 0.02380272336585243, (2, 16): 0.02200367770690992, (2, 17): 0.03920085146934493, (2, 18): 0.037843295837001634, (2, 19): 0.04833453739828819, (2, 20): 0.05781367519723446, (3, 4): 0.034541888731590475, (3, 5): 0.029368583583354813, (3, 6): 0.01869813165726608, (3, 7): 0.024930450490373346, (3, 8): 0.037263893003677495, (3, 9): 0.02045462927904662, (3, 10): 0.023421576139748268, (3, 11): 0.020022966340268233, (3, 12): 0.029316411179606483, (3, 13): 0.02539630951139138, (3, 14): 0.02685121783155786, (3, 15): 0.018096069000752557, (3, 16): 0.03264917866204975, (3, 17): 0.03069017829754106, (3, 18): 0.04513049952873871, (3, 19): 0.041489767610863204, (3, 20): 0.032804874142253304, (4, 5): 0.04398813059588047, (4, 6): 0.027470786851233164, (4, 9): 0.016851672356590797, (4, 10): 0.01997641759642743, (4, 11): 0.03233816077294094, (4, 13): 0.04373893957791619, (4, 14): 0.03107088839403449, (4, 17): 0.023854161685699538, (4, 18): 0.04537798212634936, (4, 19): 0.03734776768804693, (5, 6): 0.04384438076249797, (5, 7): 0.059733599112384184, (5, 9): 0.03248871953875465, (5, 10): 0.04168357025097169, (5, 11): 0.03230396191616336, (5, 12): 0.04677206257805988, (5, 14): 0.05362123152183873, (5, 15): 0.04961977183892419, (5, 16): 0.06662934287158784, (5, 17): 0.04516085752362198, (5, 18): 0.06383854478541551, (5, 19): 0.05986892375428976, (6, 7): 0.03576193399570737, (6, 8): 0.03216354987369918, (6, 9): 0.02194819518723179, (6, 10): 0.03381063405841811, (6, 11): 0.018539204223962713, (6, 12): 0.023724648242073876, (6, 13): 0.030861178441650594, (6, 14): 0.04421860706891767, (6, 15): 0.022906588995678767, (6, 16): 0.032201745934949955, (6, 17): 0.03740511659818768, (6, 18): 0.05301664232966008, (6, 19): 0.0424816649743569, (6, 20): 0.05700395496684951, (7, 9): 0.020794555398675918, (7, 10): 0.017269932914074637, (7, 11): 0.026155491517374507, (7, 12): 0.060626842311925166, (7, 13): 0.0284606143856605, (7, 14): 0.03895776922486949, (7, 17): 0.028724754053163437, (7, 18): 0.04868572545936978, (7, 19): 0.028691833224067764, (7, 20): 0.07154633186567594, (8, 9): 0.025565207656846667, (8, 10): 0.029238214614450087, (8, 11): 0.032804621928141486, (8, 13): 0.0643213200605004, (8, 14): 0.03927784535208545, (8, 17): 0.03496232399970722, (8, 18): 0.055126278426939734, (8, 19): 0.044413459955850776, (8, 20): 0.07139336889816672, (9, 10): 0.040576536601456326, (9, 11): 0.020930615604557445, (9, 12): 0.012552841199116926, (9, 13): 0.031989724994851976, (9, 14): 0.03165631508472799, (9, 15): 0.020176071376688753, (9, 16): 0.025007367978489015, (9, 17): 0.04939144007067764, (9, 18): 0.027171145101044125, (9, 19): 0.03748071383846785, (9, 20): 0.040450903301834096, (10, 11): 0.02351948451154051, (10, 12): 0.028238086955603592, (10, 13): 0.03370159096360048, (10, 14): 0.04651321553313448, (10, 15): 0.025066742231167893, (10, 16): 0.025168585264882637, (10, 17): 0.04081093710314487, (10, 18): 0.04847584254650883, (10, 19): 0.049035777026094074, (10, 20): 0.047021462002939884, (11, 12): 0.036105147614844846, (11, 13): 0.024820164647961107, (11, 14): 0.03294157715334656, (11, 15): 0.02728616503617598, (11, 16): 0.031011321066640285, (11, 17): 0.02851555047871379, (11, 18): 0.06041666143299995, (11, 19): 0.05372493488350116, (11, 20): 0.03895230928720661, (12, 13): 0.048627043393654645, (12, 14): 0.032501017851066294, (12, 15): 0.05289799431326525, (12, 17): 0.02388161553651269, (12, 18): 0.04292759458423756, (12, 19): 0.029584458231322053, (13, 14): 0.05556361143953126, (13, 15): 0.03716867219446218, (13, 16): 0.07069243387775614, (13, 17): 0.04507516431253489, (13, 18): 0.04833801015133243, (13, 19): 0.053434352451267486, (13, 20): 0.05963751055678834, (14, 15): 0.04662401292101581, (14, 16): 0.04883381530790665, (14, 17): 0.05703789940305537, (14, 18): 0.06264617657587745, (14, 19): 0.0630034660552452, (15, 17): 0.031122962091751916, (15, 18): 0.050294135761341785, (15, 19): 0.031200435173357022, (15, 20): 0.0713095045540495, (16, 17): 0.04012283223445223, (16, 18): 0.049708842202533354, (16, 19): 0.044713809258893455, (16, 20): 0.07235053659784807, (17, 18): 0.05469717091430937, (17, 19): 0.07207367482638904, (19, 20): 0.06838993072248645, (1, 2, 3): -0.07192306802550252, (1, 2, 4): -0.07752223458425966, (1, 2, 5): -0.13040488176336407, (1, 2, 6): -0.08292342928900531, (1, 2, 7): -0.08423792887836612, (1, 2, 8): -0.08315494090488063, (1, 2, 10): -0.09144269175396058, (1, 2, 11): -0.06708896692192212, (1, 2, 12): -0.07122435941809435, (1, 2, 13): -0.10373640751834667, (1, 2, 14): -0.15051667297371196, (1, 2, 15): -0.06880407043578618, (1, 2, 16): -0.0848315839949354, (1, 2, 17): -0.11425656567901576, (1, 2, 18): -0.12950911343606908, (1, 2, 19): -0.1315612788360827, (1, 2, 20): -0.18347082303198547, (1, 3, 5): -0.08855102514685331, (1, 3, 6): -0.07326269534124297, (1, 3, 7): -0.05684348546561235, (1, 3, 8): -0.061859599492821715, (1, 3, 10): -0.06037638125524758, (1, 3, 12): -0.06425175414810269, (1, 3, 13): -0.08838664508599159, (1, 3, 14): -0.11575088797935962, (1, 3, 15): -0.06387773693328302, (1, 3, 16): -0.0701204701260778, (1, 3, 17): -0.09581031703190934, (1, 3, 18): -0.09685310383518697, (1, 3, 19): -0.08722666522209277, (1, 3, 20): -0.13438293446824545, (1, 4, 5): -0.09052691378346367, (1, 4, 6): -0.06871089087750626, (1, 4, 7): -0.05565702266831707, (1, 4, 8): -0.05359774945035767, (1, 4, 10): -0.06157901534560484, (1, 4, 13): -0.07380080113333509, (1, 4, 14): -0.12311067663093578, (1, 4, 15): -0.05457382640826758, (1, 4, 16): -0.059324518263544235, (1, 4, 17): -0.07845724549065825, (1, 4, 18): -0.0927253185810617, (1, 4, 19): -0.09089792490004278, (1, 4, 20): -0.12511265425973406, (1, 5, 6): -0.12788832876522793, (1, 5, 7): -0.10093621887300852, (1, 5, 8): -0.11083043671844184, (1, 5, 9): -0.07824735777913006, (1, 5, 10): -0.13455977938629182, (1, 5, 11): -0.08337400318552834, (1, 5, 12): -0.09510028467214582, (1, 5, 13): -0.1406436931626267, (1, 5, 14): -0.20386913048593058, (1, 5, 15): -0.09394765115076353, (1, 5, 16): -0.1303789223903209, (1, 5, 17): -0.13703801870619436, (1, 5, 18): -0.18375495137391162, (1, 5, 19): -0.1595717291001577, (1, 5, 20): -0.2269941285375605, (1, 6, 7): -0.08802119525022079, (1, 6, 8): -0.08626442222081376, (1, 6, 9): -0.06671578038592507, (1, 6, 10): -0.0903766730258706, (1, 6, 11): -0.075361322164337, (1, 6, 12): -0.06812981193415535, (1, 6, 13): -0.12041192967551773, (1, 6, 14): -0.16154848407252764, (1, 6, 15): -0.10157441417052038, (1, 6, 16): -0.09142200851478322, (1, 6, 17): -0.14040194207639178, (1, 6, 18): -0.14565851496602544, (1, 6, 19): -0.1406829947975634, (1, 6, 20): -0.1833967054773442, (1, 7, 8): -0.08301927054835101, (1, 7, 9): -0.06562320748110295, (1, 7, 10): -0.07955175270855985, (1, 7, 11): -0.05697435495255476, (1, 7, 12): -0.06201968515572709, (1, 7, 13): -0.09753881766223316, (1, 7, 14): -0.14327952248530895, (1, 7, 15): -0.05400136812273448, (1, 7, 16): -0.07477118895974666, (1, 7, 17): -0.11203338812426011, (1, 7, 18): -0.12345624796124177, (1, 7, 19): -0.11440717219612662, (1, 7, 20): -0.16758680930735537, (1, 8, 9): -0.06480650360256135, (1, 8, 10): -0.10033091091505764, (1, 8, 11): -0.07262787611255384, (1, 8, 12): -0.06332226965366772, (1, 8, 13): -0.10518869067383463, (1, 8, 14): -0.17112190963667118, (1, 8, 15): -0.08190536685310246, (1, 8, 16): -0.06997481292276042, (1, 8, 17): -0.1278838436110048, (1, 8, 18): -0.12900155523776213, (1, 8, 19): -0.1357876855575446, (1, 8, 20): -0.18312389977003107, (1, 9, 11): -0.05140490146128762, (1, 9, 13): -0.07825096595574799, (1, 9, 14): -0.1173706674975099, (1, 9, 15): -0.06597010357202748, (1, 9, 16): -0.06242957124899462, (1, 9, 17): -0.07756336786530404, (1, 9, 18): -0.1113441275890521, (1, 9, 19): -0.08751691517010851, (1, 9, 20): -0.12445108577097663, (1, 10, 11): -0.06601804398655808, (1, 10, 12): -0.06830917571309492, (1, 10, 13): -0.12009390762029248, (1, 10, 14): -0.15858104594805766, (1, 10, 15): -0.07793753747850118, (1, 10, 16): -0.08240174701287106, (1, 10, 17): -0.12217796780701828, (1, 10, 18): -0.1359017056611549, (1, 10, 19): -0.12834643579849292, (1, 10, 20): -0.19369815255056544, (1, 11, 13): -0.08177833667642354, (1, 11, 14): -0.1126025683010301, (1, 11, 15): -0.06312757859223161, (1, 11, 16): -0.06560156130879768, (1, 11, 17): -0.08717533805548783, (1, 11, 18): -0.10333189533739962, (1, 11, 19): -0.0856920241468222, (1, 11, 20): -0.1329269053256681, (1, 12, 13): -0.08656765329860061, (1, 12, 14): -0.11820331031551046, (1, 12, 15): -0.0614937275273828, (1, 12, 16): -0.06049381881751348, (1, 12, 17): -0.09323179812365634, (1, 12, 18): -0.10188637861198035, (1, 12, 19): -0.104730370430139, (1, 12, 20): -0.13120832673772398, (1, 13, 14): -0.20336738893808182, (1, 13, 15): -0.10271163770628355, (1, 13, 16): -0.10066355079597411, (1, 13, 17): -0.1397752507988299, (1, 13, 18): -0.17409278597804878, (1, 13, 19): -0.1540141012055365, (1, 13, 20): -0.24035697354217334, (1, 14, 15): -0.12249200835929841, (1, 14, 16): -0.13295685401625157, (1, 14, 17): -0.17881601369825617, (1, 14, 18): -0.23768688597520438, (1, 14, 19): -0.2034323858336773, (1, 14, 20): -0.31401640854078217, (1, 15, 16): -0.07490632122264618, (1, 15, 17): -0.10797312596006581, (1, 15, 18): -0.12363420713692719, (1, 15, 19): -0.11451184747176146, (1, 15, 20): -0.15470495977241683, (1, 16, 17): -0.09990905357583113, (1, 16, 18): -0.13207938894578408, (1, 16, 19): -0.11543426839608095, (1, 16, 20): -0.17078008766024766, (1, 17, 18): -0.1623936653176461, (1, 17, 19): -0.1551081432596284, (1, 17, 20): -0.2310990729183171, (1, 18, 19): -0.1626028756485276, (1, 18, 20): -0.2638961428081128, (1, 19, 20): -0.24291581358685121, (2, 3, 4): -0.05619554408807037, (2, 3, 5): -0.10882570003289072, (2, 3, 6): -0.09361356384359532, (2, 3, 7): -0.07293711313197537, (2, 3, 8): -0.0918207996038225, (2, 3, 9): -0.06949722296358463, (2, 3, 10): -0.0789400315007196, (2, 3, 11): -0.05352548327751805, (2, 3, 12): -0.06598712474494217, (2, 3, 13): -0.09905886387633789, (2, 3, 14): -0.14722193145563445, (2, 3, 15): -0.06644419835233695, (2, 3, 16): -0.08790008332872379, (2, 3, 17): -0.11686524900957718, (2, 3, 18): -0.12482229714309767, (2, 3, 19): -0.1120681275201294, (2, 3, 20): -0.1673295932075991, (2, 4, 5): -0.09099426125010357, (2, 4, 6): -0.07450089192197495, (2, 4, 7): -0.06439416378184504, (2, 4, 8): -0.06736140685781855, (2, 4, 9): -0.05685384557430151, (2, 4, 10): -0.08121383496508816, (2, 4, 11): -0.05153205984330622, (2, 4, 12): -0.05864155684434991, (2, 4, 13): -0.08657925827465895, (2, 4, 14): -0.12435085573374138, (2, 4, 15): -0.06920455235398659, (2, 4, 16): -0.07637412638479368, (2, 4, 17): -0.10290000244597053, (2, 4, 18): -0.11865098045450839, (2, 4, 19): -0.10813570566386765, (2, 4, 20): -0.14954417078268278, (2, 5, 6): -0.15378962534269913, (2, 5, 7): -0.11657381151211599, (2, 5, 8): -0.14459887313859365, (2, 5, 9): -0.11697232567535742, (2, 5, 10): -0.1412374769511402, (2, 5, 11): -0.10720375024787288, (2, 5, 12): -0.11055656393405489, (2, 5, 13): -0.1602443160415259, (2, 5, 14): -0.23366146970290558, (2, 5, 15): -0.12043575575660181, (2, 5, 16): -0.1486454019996808, (2, 5, 17): -0.19649395008563353, (2, 5, 18): -0.20826703424150317, (2, 5, 19): -0.18727405616552595, (2, 5, 20): -0.2773922131799811, (2, 6, 7): -0.11221507398132946, (2, 6, 8): -0.10638019083136374, (2, 6, 9): -0.09556039271347316, (2, 6, 10): -0.10408286221402197, (2, 6, 11): -0.07933045992040277, (2, 6, 12): -0.08191694428525764, (2, 6, 13): -0.11972128912236801, (2, 6, 14): -0.18882340702175782, (2, 6, 15): -0.09682614900821562, (2, 6, 16): -0.11607998467075031, (2, 6, 17): -0.1488241839810982, (2, 6, 18): -0.1763971590495732, (2, 6, 19): -0.15696873573894266, (2, 6, 20): -0.21070610063203965, (2, 7, 8): -0.11300599165426028, (2, 7, 9): -0.07670282662309269, (2, 7, 10): -0.10557460811930763, (2, 7, 11): -0.06965578715298637, (2, 7, 12): -0.07040942680616347, (2, 7, 13): -0.11506157148861806, (2, 7, 14): -0.15376894816903608, (2, 7, 15): -0.06383825309339475, (2, 7, 16): -0.09342609487229403, (2, 7, 17): -0.13241373228682374, (2, 7, 18): -0.15495133642538228, (2, 7, 19): -0.13694696910356718, (2, 7, 20): -0.17798691748432915, (2, 8, 9): -0.07378112414447724, (2, 8, 10): -0.10748021141568387, (2, 8, 11): -0.07614998520441318, (2, 8, 12): -0.07502815841680022, (2, 8, 13): -0.12550161824649742, (2, 8, 14): -0.18179850552259502, (2, 8, 15): -0.08759706867398176, (2, 8, 16): -0.08773622938651382, (2, 8, 17): -0.14061204881759615, (2, 8, 18): -0.16263051592537536, (2, 8, 19): -0.1526493048330675, (2, 8, 20): -0.20877727645510724, (2, 9, 10): -0.08686648076266756, (2, 9, 11): -0.06615123379304144, (2, 9, 12): -0.07213831968191009, (2, 9, 13): -0.1061631751861869, (2, 9, 14): -0.15618769379491937, (2, 9, 15): -0.07937986329789659, (2, 9, 16): -0.08581061208143925, (2, 9, 17): -0.11154602811823278, (2, 9, 18): -0.142614519825905, (2, 9, 19): -0.11548759673645659, (2, 9, 20): -0.1689451602055474, (2, 10, 11): -0.08861527171846362, (2, 10, 12): -0.08440036508986104, (2, 10, 13): -0.13669488496160564, (2, 10, 14): -0.19483443209888307, (2, 10, 15): -0.09547812591427363, (2, 10, 16): -0.10992436469494837, (2, 10, 17): -0.1395354017992716, (2, 10, 18): -0.17477122893484953, (2, 10, 19): -0.14603107825728223, (2, 10, 20): -0.23217020152663537, (2, 11, 12): -0.059515934172649665, (2, 11, 13): -0.09301476482426718, (2, 11, 14): -0.14126127525911159, (2, 11, 15): -0.06712467321760052, (2, 11, 16): -0.08263194157519305, (2, 11, 17): -0.10024299380044521, (2, 11, 18): -0.11609385670882588, (2, 11, 19): -0.11217438063270002, (2, 11, 20): -0.15584732329500994, (2, 12, 13): -0.10444273911981572, (2, 12, 14): -0.13749696259251998, (2, 12, 15): -0.06665109006754832, (2, 12, 16): -0.0788435242077421, (2, 12, 17): -0.10667963904896371, (2, 12, 18): -0.13479795772420822, (2, 12, 19): -0.11621966432867126, (2, 12, 20): -0.15551345794753502, (2, 13, 14): -0.21503122632952376, (2, 13, 15): -0.11659032414606951, (2, 13, 16): -0.11667457266539571, (2, 13, 17): -0.17700221272376737, (2, 13, 18): -0.20657732828776432, (2, 13, 19): -0.18329937636572424, (2, 13, 20): -0.26623635705570514, (2, 14, 15): -0.14710335773323457, (2, 14, 16): -0.18617000598039724, (2, 14, 17): -0.2254568176584275, (2, 14, 18): -0.27526608138060915, (2, 14, 19): -0.25845553405616606, (2, 14, 20): -0.3457778381955592, (2, 15, 16): -0.09274298982537488, (2, 15, 17): -0.13138281261477402, (2, 15, 18): -0.14458505102395236, (2, 15, 19): -0.12373500038635576, (2, 15, 20): -0.1607501745455, (2, 16, 17): -0.13706637006013445, (2, 16, 18): -0.16042137704485881, (2, 16, 19): -0.14869893136809686, (2, 16, 20): -0.2194470074077266, (2, 17, 18): -0.21810318091811887, (2, 17, 19): -0.17803337547374554, (2, 17, 20): -0.2680187064123558, (2, 18, 19): -0.222207065031494, (2, 18, 20): -0.2925335894185146, (2, 19, 20): -0.2912528690450671, (3, 4, 5): -0.08092261126801681, (3, 4, 6): -0.06094045347309418, (3, 4, 9): -0.05319851209518145, (3, 4, 10): -0.07558042768147111, (3, 4, 13): -0.07216447246633262, (3, 4, 14): -0.11163256363460317, (3, 4, 16): -0.0527808923259272, (3, 4, 17): -0.07927202262360034, (3, 4, 18): -0.0923889379943148, (3, 4, 19): -0.08452758463110577, (3, 4, 20): -0.11756868630859607, (3, 5, 6): -0.12773107967286634, (3, 5, 7): -0.0950861628286761, (3, 5, 8): -0.10733419560421087, (3, 5, 9): -0.0819681987060088, (3, 5, 10): -0.11140308228022011, (3, 5, 11): -0.09157410431831536, (3, 5, 12): -0.07765319042615726, (3, 5, 13): -0.12836338318239626, (3, 5, 14): -0.1810583575851048, (3, 5, 15): -0.09022087821886604, (3, 5, 16): -0.1085659570880626, (3, 5, 17): -0.1473811768531661, (3, 5, 18): -0.162821879039301, (3, 5, 19): -0.14723040068170867, (3, 5, 20): -0.22133814954433362, (3, 6, 7): -0.07130620944242683, (3, 6, 8): -0.09182417840600987, (3, 6, 9): -0.06840670701597151, (3, 6, 10): -0.08348071503605325, (3, 6, 11): -0.06115890278814806, (3, 6, 12): -0.06592751878272463, (3, 6, 13): -0.10512316040695513, (3, 6, 14): -0.14243109303558654, (3, 6, 15): -0.08246334438545411, (3, 6, 16): -0.08794739498118087, (3, 6, 17): -0.11021153611619017, (3, 6, 18): -0.1318452647648254, (3, 6, 19): -0.12889164046405277, (3, 6, 20): -0.1537014979080631, (3, 7, 8): -0.06162718760401198, (3, 7, 9): -0.053008328588222575, (3, 7, 10): -0.0800224039036026, (3, 7, 11): -0.05314054374327881, (3, 7, 13): -0.09881296160756037, (3, 7, 14): -0.12157642762365395, (3, 7, 16): -0.07502432037269813, (3, 7, 17): -0.10380928150539948, (3, 7, 18): -0.09691235912631235, (3, 7, 19): -0.10575407489982602, (3, 7, 20): -0.1310933715523781, (3, 8, 9): -0.06300897492938162, (3, 8, 10): -0.09081622264535927, (3, 8, 11): -0.051781898458232334, (3, 8, 13): -0.10975633281888264, (3, 8, 14): -0.14988096894382785, (3, 8, 15): -0.0668016183540674, (3, 8, 16): -0.06970405976353256, (3, 8, 17): -0.11799490499760701, (3, 8, 18): -0.12213747967998323, (3, 8, 19): -0.11493948913666596, (3, 8, 20): -0.1536305914617362, (3, 9, 10): -0.06770193565071736, (3, 9, 11): -0.05777698216542149, (3, 9, 12): -0.051384267141509454, (3, 9, 13): -0.07993658488096678, (3, 9, 14): -0.13489426653866765, (3, 9, 15): -0.05785247976123831, (3, 9, 16): -0.07300485310088689, (3, 9, 17): -0.0901667433085871, (3, 9, 18): -0.10118427875378355, (3, 9, 19): -0.09167321460246214, (3, 9, 20): -0.14066066919315645, (3, 10, 11): -0.07449935941619223, (3, 10, 12): -0.07265286923447078, (3, 10, 13): -0.10094380583908169, (3, 10, 14): -0.14340514700104912, (3, 10, 15): -0.0810145225752752, (3, 10, 16): -0.08188098233094188, (3, 10, 17): -0.11717125258527705, (3, 10, 18): -0.13055765894002658, (3, 10, 19): -0.11627013374564932, (3, 10, 20): -0.17675180087136866, (3, 11, 13): -0.07925651009201751, (3, 11, 14): -0.11168979314374639, (3, 11, 15): -0.05944307223898715, (3, 11, 16): -0.06268228622104388, (3, 11, 17): -0.08043534989175694, (3, 11, 18): -0.09660684232412642, (3, 11, 19): -0.0889898837474421, (3, 11, 20): -0.13276670103686605, (3, 12, 13): -0.07470710615683807, (3, 12, 14): -0.10635078078884508, (3, 12, 15): -0.05865170866977021, (3, 12, 17): -0.08117077272836948, (3, 12, 18): -0.09563047826216131, (3, 12, 19): -0.09720718158876362, (3, 12, 20): -0.11759586893476026, (3, 13, 14): -0.17969127394772144, (3, 13, 15): -0.0851183509115776, (3, 13, 16): -0.10954454829348315, (3, 13, 17): -0.1403980685688877, (3, 13, 18): -0.1699803709109755, (3, 13, 19): -0.14993852144400233, (3, 13, 20): -0.20734411756620652, (3, 14, 15): -0.1263722596433725, (3, 14, 16): -0.14100354530002512, (3, 14, 17): -0.1972627839855825, (3, 14, 18): -0.21473333213793389, (3, 14, 19): -0.19832869161451327, (3, 14, 20): -0.28360808818042216, (3, 15, 16): -0.0843325942194264, (3, 15, 17): -0.09558476590553155, (3, 15, 18): -0.1211653340036607, (3, 15, 19): -0.1171651107300864, (3, 15, 20): -0.1449844707422283, (3, 16, 17): -0.11098050260422809, (3, 16, 18): -0.12301158775536969, (3, 16, 19): -0.12683012054164244, (3, 16, 20): -0.16360832907657397, (3, 17, 18): -0.165351998409621, (3, 17, 19): -0.14757841901778335, (3, 17, 20): -0.23846372789841652, (3, 18, 19): -0.15395396025811436, (3, 18, 20): -0.26879774511859544, (3, 19, 20): -0.2466709901308679, (4, 5, 6): -0.10538476902961502, (4, 5, 7): -0.06910128995404108, (4, 5, 8): -0.07912323911195518, (4, 5, 9): -0.0759975510972497, (4, 5, 10): -0.09918545598116513, (4, 5, 11): -0.07871521529915437, (4, 5, 12): -0.05428182484760491, (4, 5, 13): -0.11039717321773335, (4, 5, 14): -0.16803978434381506, (4, 5, 15): -0.07134248134212307, (4, 5, 16): -0.08729419755124823, (4, 5, 17): -0.13409364183574368, (4, 5, 18): -0.15254943966826673, (4, 5, 19): -0.1370318401904047, (4, 5, 20): -0.17952056946887218, (4, 6, 7): -0.058364538667524, (4, 6, 8): -0.07209126613642614, (4, 6, 9): -0.061773930962517376, (4, 6, 10): -0.07768815816400476, (4, 6, 11): -0.05534973185773229, (4, 6, 12): -0.05292529239093202, (4, 6, 13): -0.09663175733148233, (4, 6, 14): -0.12464928236136252, (4, 6, 15): -0.06203964433744158, (4, 6, 16): -0.06807748803918567, (4, 6, 17): -0.10481534287707461, (4, 6, 18): -0.11407927213056013, (4, 6, 19): -0.11525031696865007, (4, 6, 20): -0.14778800238598855, (4, 7, 10): -0.08123075362805299, (4, 7, 13): -0.07289660232066453, (4, 7, 14): -0.1159637271266627, (4, 7, 17): -0.0925852004496992, (4, 7, 18): -0.0934676703589501, (4, 7, 19): -0.08785205176501698, (4, 7, 20): -0.10533415317309291, (4, 8, 9): -0.060608580851566174, (4, 8, 10): -0.08425992105280766, (4, 8, 13): -0.08202913804765721, (4, 8, 14): -0.1218132095788631, (4, 8, 17): -0.09541034845619656, (4, 8, 18): -0.11697997276475736, (4, 8, 19): -0.10794246315383837, (4, 8, 20): -0.11955977686112718, (4, 9, 10): -0.06956669908141322, (4, 9, 12): -0.05294068832739285, (4, 9, 13): -0.07634409232973827, (4, 9, 14): -0.12804364615080122, (4, 9, 15): -0.05151394927481512, (4, 9, 16): -0.05955941089977923, (4, 9, 17): -0.08677029261845526, (4, 9, 18): -0.1000153447979466, (4, 9, 19): -0.10124640284588704, (4, 9, 20): -0.12084923258030145, (4, 10, 11): -0.0714110201995597, (4, 10, 12): -0.053363727911674985, (4, 10, 13): -0.11055222644565976, (4, 10, 14): -0.1420855501388214, (4, 10, 15): -0.0728656146421951, (4, 10, 16): -0.07722616356379586, (4, 10, 17): -0.11901494160062498, (4, 10, 18): -0.12446921328318616, (4, 10, 19): -0.113842442500939, (4, 10, 20): -0.1446974395985201, (4, 11, 13): -0.06894741991210473, (4, 11, 14): -0.0986748921464713, (4, 11, 17): -0.08791318688724914, (4, 11, 18): -0.0760523733781886, (4, 11, 19): -0.07094345401750424, (4, 11, 20): -0.10639356190390536, (4, 12, 13): -0.05249638557543079, (4, 12, 14): -0.09213025901799732, (4, 12, 17): -0.07749857494779544, (4, 12, 18): -0.07116582298919738, (4, 12, 19): -0.08260254786559962, (4, 12, 20): -0.07676335367674003, (4, 13, 14): -0.1538539814761286, (4, 13, 15): -0.06550228632289379, (4, 13, 16): -0.07982402509540609, (4, 13, 17): -0.12359530702180699, (4, 13, 18): -0.14657418160553792, (4, 13, 19): -0.13551002773969945, (4, 13, 20): -0.18754731174582417, (4, 14, 15): -0.10444442866173453, (4, 14, 16): -0.11837887427424221, (4, 14, 17): -0.17156224905853712, (4, 14, 18): -0.2073793491635545, (4, 14, 19): -0.18277461544704465, (4, 14, 20): -0.26170261085130697, (4, 15, 17): -0.08844615119506294, (4, 15, 18): -0.08208710850246703, (4, 15, 19): -0.10363218052684608, (4, 15, 20): -0.09528488556037118, (4, 16, 17): -0.09028171462476209, (4, 16, 18): -0.10266896284907112, (4, 16, 19): -0.10122493603245974, (4, 16, 20): -0.1341816346685789, (4, 17, 18): -0.15209957839523547, (4, 17, 19): -0.1369464392496038, (4, 17, 20): -0.19438928668221678, (4, 18, 19): -0.1444848069209108, (4, 18, 20): -0.20103550085409871, (4, 19, 20): -0.21379182680598774, (5, 6, 7): -0.11868265570042613, (5, 6, 8): -0.13864692582355786, (5, 6, 9): -0.12308728337117714, (5, 6, 10): -0.15456587269597932, (5, 6, 11): -0.11713899742090206, (5, 6, 12): -0.11404664485075866, (5, 6, 13): -0.1685075044794484, (5, 6, 14): -0.23763476194065802, (5, 6, 15): -0.1182352465027483, (5, 6, 16): -0.13534839329270465, (5, 6, 17): -0.19565469545156056, (5, 6, 18): -0.21862958541010613, (5, 6, 19): -0.18557201298673398, (5, 6, 20): -0.2779445136045027, (5, 7, 8): -0.09927992429239385, (5, 7, 9): -0.09786040157116993, (5, 7, 10): -0.1335877951269886, (5, 7, 11): -0.0989958665472539, (5, 7, 12): -0.07754213624981432, (5, 7, 13): -0.14172287568757902, (5, 7, 14): -0.2052834522131075, (5, 7, 15): -0.06742954964554482, (5, 7, 16): -0.10400668246509248, (5, 7, 17): -0.16267112509672543, (5, 7, 18): -0.2015386734940332, (5, 7, 19): -0.1690106198401793, (5, 7, 20): -0.2334062261671157, (5, 8, 9): -0.10769093010209652, (5, 8, 10): -0.15137481305413392, (5, 8, 11): -0.1134601597209377, (5, 8, 12): -0.09143942862180232, (5, 8, 13): -0.14205472735638836, (5, 8, 14): -0.23324290515460788, (5, 8, 15): -0.11604300169903148, (5, 8, 16): -0.0996754034822196, (5, 8, 17): -0.18605495924090754, (5, 8, 18): -0.21600213926979173, (5, 8, 19): -0.19512996679290673, (5, 8, 20): -0.2597550384679863, (5, 9, 10): -0.1356534124332578, (5, 9, 11): -0.08047661459607536, (5, 9, 12): -0.09239899203180624, (5, 9, 13): -0.12319711360939234, (5, 9, 14): -0.18894822020294022, (5, 9, 15): -0.08952151127035268, (5, 9, 16): -0.11206271911439103, (5, 9, 17): -0.15059177315073313, (5, 9, 18): -0.19064181509081557, (5, 9, 19): -0.15118681000345013, (5, 9, 20): -0.21780230424387348, (5, 10, 11): -0.11507181082709028, (5, 10, 12): -0.10701887251522901, (5, 10, 13): -0.17227771339412357, (5, 10, 14): -0.24926323831484254, (5, 10, 15): -0.12414002818677883, (5, 10, 16): -0.14565214273759253, (5, 10, 17): -0.19175732324293016, (5, 10, 18): -0.22761146419616018, (5, 10, 19): -0.20370070815514474, (5, 10, 20): -0.28778218229771113, (5, 11, 12): -0.07290416232063723, (5, 11, 13): -0.13780238712530668, (5, 11, 14): -0.18254995225650106, (5, 11, 15): -0.08895381034805272, (5, 11, 16): -0.10156699247456125, (5, 11, 17): -0.138301037729339, (5, 11, 18): -0.1603582627518385, (5, 11, 19): -0.15464495823264635, (5, 11, 20): -0.19995599788477314, (5, 12, 13): -0.10992847132908246, (5, 12, 14): -0.18073862779056427, (5, 12, 15): -0.07876449528923679, (5, 12, 16): -0.09387171124736327, (5, 12, 17): -0.152372169972252, (5, 12, 18): -0.1639132656951343, (5, 12, 19): -0.15936146349248315, (5, 12, 20): -0.187763867444108, (5, 13, 14): -0.27303893891133946, (5, 13, 15): -0.12870217480924406, (5, 13, 16): -0.14359130047625435, (5, 13, 17): -0.2195746791423776, (5, 13, 18): -0.23547696403083584, (5, 13, 19): -0.21633810176868273, (5, 13, 20): -0.30500472163571324, (5, 14, 15): -0.2132647769706093, (5, 14, 16): -0.22095010555713657, (5, 14, 17): -0.28281704966205545, (5, 14, 18): -0.3523611976713603, (5, 14, 19): -0.30104493953311895, (5, 15, 16): -0.09806175265683326, (5, 15, 17): -0.16621707601350977, (5, 15, 18): -0.17745910243756313, (5, 15, 19): -0.17178221314649278, (5, 15, 20): -0.22176793825565788, (5, 16, 17): -0.18141361983890292, (5, 16, 18): -0.20688105213078067, (5, 16, 19): -0.18635305682624725, (5, 16, 20): -0.25706437824278794, (5, 17, 18): -0.2936095452084526, (5, 17, 19): -0.23969527936992563, (5, 17, 20): -0.3633871172303955, (5, 18, 19): -0.25354010570667285, (5, 19, 20): -0.37469416943938505, (6, 7, 8): -0.08873869725432115, (6, 7, 9): -0.08703920715891922, (6, 7, 10): -0.10304782291468051, (6, 7, 11): -0.07422392027712643, (6, 7, 12): -0.06618269711774438, (6, 7, 13): -0.13692607003733226, (6, 7, 14): -0.15337056585414288, (6, 7, 15): -0.05478657867243353, (6, 7, 16): -0.08656525732300491, (6, 7, 17): -0.13381288782350875, (6, 7, 18): -0.140922939999367, (6, 7, 19): -0.14534855993161422, (6, 7, 20): -0.1932191263957641, (6, 8, 9): -0.10047428504666911, (6, 8, 10): -0.1092639687775332, (6, 8, 11): -0.08133619204291609, (6, 8, 12): -0.0863693611595222, (6, 8, 13): -0.14884292660419174, (6, 8, 14): -0.19297311321523836, (6, 8, 15): -0.1069244341408293, (6, 8, 16): -0.11112773801276443, (6, 8, 17): -0.16479767603096285, (6, 8, 18): -0.17960581397020903, (6, 8, 19): -0.15128749971442623, (6, 8, 20): -0.20422599806996544, (6, 9, 10): -0.09356666390254276, (6, 9, 11): -0.08408237215503256, (6, 9, 12): -0.06883848515321045, (6, 9, 13): -0.10958127944391904, (6, 9, 14): -0.14731198578680882, (6, 9, 15): -0.08558542540427361, (6, 9, 16): -0.09975101657131269, (6, 9, 17): -0.13354276441902968, (6, 9, 18): -0.13864472528274518, (6, 9, 19): -0.13701615135189282, (6, 9, 20): -0.17318798516514278, (6, 10, 11): -0.07734972627468206, (6, 10, 12): -0.08184730338923085, (6, 10, 13): -0.1469285740290962, (6, 10, 14): -0.1715517161039397, (6, 10, 15): -0.09840091275898644, (6, 10, 16): -0.10186042296927411, (6, 10, 17): -0.1428377666508016, (6, 10, 18): -0.15804573923098708, (6, 10, 19): -0.14545288734989015, (6, 10, 20): -0.22207685393116172, (6, 11, 12): -0.06537738368484103, (6, 11, 13): -0.10234549552094663, (6, 11, 14): -0.1446571537204946, (6, 11, 15): -0.06922238191361352, (6, 11, 16): -0.0776035112761253, (6, 11, 17): -0.11282822203803189, (6, 11, 18): -0.12393504231656838, (6, 11, 19): -0.11686613002172574, (6, 11, 20): -0.15543217886902205, (6, 12, 13): -0.10279077646524915, (6, 12, 14): -0.15488620367960415, (6, 12, 15): -0.07486310011161379, (6, 12, 16): -0.07589553558956563, (6, 12, 17): -0.11928930287810058, (6, 12, 18): -0.12702813275926417, (6, 12, 19): -0.13197908687997728, (6, 12, 20): -0.1594345487405988, (6, 13, 14): -0.2192947671121992, (6, 13, 15): -0.11617905890306268, (6, 13, 16): -0.13295913295271955, (6, 13, 17): -0.18166848564660043, (6, 13, 18): -0.21249842997623247, (6, 13, 19): -0.18183604486077698, (6, 13, 20): -0.2605806193668396, (6, 14, 15): -0.15968390688456147, (6, 14, 16): -0.18807194047079356, (6, 14, 17): -0.24542407032593694, (6, 14, 18): -0.27502210074179523, (6, 14, 19): -0.24410143218170255, (6, 14, 20): -0.3525531603658081, (6, 15, 16): -0.09299708198387346, (6, 15, 17): -0.13586684116257075, (6, 15, 18): -0.1516796696577032, (6, 15, 19): -0.13607264292587562, (6, 15, 20): -0.17786296074448593, (6, 16, 17): -0.15062563191578704, (6, 16, 18): -0.1613534265322052, (6, 16, 19): -0.1613369643783482, (6, 16, 20): -0.19754976217169506, (6, 17, 18): -0.23123983062210485, (6, 17, 19): -0.19703245015391957, (6, 17, 20): -0.2682571193942369, (6, 18, 19): -0.19433726418315445, (6, 18, 20): -0.323189805584267, (6, 19, 20): -0.3056429119289614, (7, 8, 9): -0.08162084876155529, (7, 8, 10): -0.10395681761714126, (7, 8, 11): -0.06350991889098356, (7, 8, 13): -0.11428313162832726, (7, 8, 14): -0.15223845512199574, (7, 8, 17): -0.12800452926138117, (7, 8, 18): -0.13778393974467473, (7, 8, 19): -0.13426049597886358, (7, 8, 20): -0.15559277047663223, (7, 9, 10): -0.0795480674720217, (7, 9, 11): -0.05841755409304916, (7, 9, 12): -0.052718676925058716, (7, 9, 13): -0.09332921084194545, (7, 9, 14): -0.12634695153745135, (7, 9, 15): -0.05798811305312945, (7, 9, 16): -0.08470572702847612, (7, 9, 17): -0.11169016693833012, (7, 9, 18): -0.12695230530840806, (7, 9, 19): -0.11787821472991933, (7, 9, 20): -0.15113178366448032, (7, 10, 11): -0.08421590416286406, (7, 10, 12): -0.08620634956112738, (7, 10, 13): -0.12321486941559012, (7, 10, 14): -0.1787750295796311, (7, 10, 15): -0.07962166249231295, (7, 10, 16): -0.108249067018237, (7, 10, 17): -0.14580945709895676, (7, 10, 18): -0.16445444743879634, (7, 10, 19): -0.14702393014956083, (7, 10, 20): -0.20514989835514008, (7, 11, 13): -0.0847427671626999, (7, 11, 14): -0.1306146849543106, (7, 11, 16): -0.06999442846446868, (7, 11, 17): -0.09518552750928144, (7, 11, 18): -0.09943676549933933, (7, 11, 19): -0.10650783662639274, (7, 11, 20): -0.13761479031876434, (7, 12, 13): -0.07106754101729518, (7, 12, 14): -0.12364213474504915, (7, 12, 17): -0.08893261464742785, (7, 12, 18): -0.11285607173877743, (7, 12, 19): -0.10464883891396148, (7, 12, 20): -0.11221135878106026, (7, 13, 14): -0.20564198374640696, (7, 13, 15): -0.07129724146152316, (7, 13, 16): -0.10528873244558756, (7, 13, 17): -0.16767461047407295, (7, 13, 18): -0.19180070607451682, (7, 13, 19): -0.15958004270260062, (7, 13, 20): -0.24218398663333573, (7, 14, 15): -0.10324178187033439, (7, 14, 16): -0.16616654721960522, (7, 14, 17): -0.22423614327783525, (7, 14, 18): -0.25984742965168905, (7, 14, 19): -0.22360968833847927, (7, 14, 20): -0.31187340994510393, (7, 15, 17): -0.08854023563076563, (7, 15, 18): -0.08732671032854711, (7, 15, 19): -0.07827697516956, (7, 15, 20): -0.08598511132701958, (7, 16, 17): -0.12193313920802051, (7, 16, 18): -0.14608930058318936, (7, 16, 19): -0.13671314927549183, (7, 16, 20): -0.17813184094450207, (7, 17, 18): -0.21033716807768954, (7, 17, 19): -0.17909006057062804, (7, 17, 20): -0.23471773950102381, (7, 18, 19): -0.17408368783110362, (7, 18, 20): -0.2579246551328751, (7, 19, 20): -0.25648458324660517, (8, 9, 10): -0.09192657485969313, (8, 9, 11): -0.06382245198875403, (8, 9, 12): -0.06206506377263121, (8, 9, 13): -0.11749711714152244, (8, 9, 14): -0.15552650880430896, (8, 9, 15): -0.06892117029912104, (8, 9, 16): -0.06781192480815701, (8, 9, 17): -0.11540584325438363, (8, 9, 18): -0.14465841371039634, (8, 9, 19): -0.14870928893427227, (8, 9, 20): -0.16243937969951538, (8, 10, 11): -0.08861304364977318, (8, 10, 12): -0.08296917945101168, (8, 10, 13): -0.15087813757094182, (8, 10, 14): -0.2052277100085007, (8, 10, 15): -0.09699736702257056, (8, 10, 16): -0.11155136099769614, (8, 10, 17): -0.16317851640798864, (8, 10, 18): -0.16527937540608484, (8, 10, 19): -0.1603973345859977, (8, 10, 20): -0.22882097190172246, (8, 11, 13): -0.1015705598237604, (8, 11, 14): -0.14392058590228274, (8, 11, 15): -0.05897384615058687, (8, 11, 16): -0.06744932014345206, (8, 11, 17): -0.11431177963976058, (8, 11, 18): -0.12067913989165735, (8, 11, 19): -0.10966154747926105, (8, 11, 20): -0.14377202347777995, (8, 12, 13): -0.07645012961828535, (8, 12, 14): -0.1288329653568372, (8, 12, 17): -0.09438338416056524, (8, 12, 18): -0.12705603480933902, (8, 12, 19): -0.1256087031440405, (8, 12, 20): -0.11823121158863792, (8, 13, 14): -0.21729861888676538, (8, 13, 15): -0.1009293703052796, (8, 13, 16): -0.10319630824575388, (8, 13, 17): -0.18491581887804287, (8, 13, 18): -0.1959574987008441, (8, 13, 19): -0.1782264028787761, (8, 13, 20): -0.2715068674239003, (8, 14, 15): -0.15893075168358806, (8, 14, 16): -0.17272514673146055, (8, 14, 17): -0.2610775432121297, (8, 14, 18): -0.2698900055813329, (8, 14, 19): -0.27021764617466815, (8, 14, 20): -0.3506288588235851, (8, 15, 17): -0.12975689029334347, (8, 15, 18): -0.13921334462514334, (8, 15, 19): -0.14556800240572532, (8, 15, 20): -0.16155020254688246, (8, 16, 17): -0.11119305530115131, (8, 16, 18): -0.13402499144015145, (8, 16, 19): -0.1274022859726225, (8, 16, 20): -0.16700900093665183, (8, 17, 18): -0.20907180878626974, (8, 17, 19): -0.19324139850502497, (8, 17, 20): -0.2793716600480245, (8, 18, 19): -0.18711938967697073, (8, 18, 20): -0.31162098659991067, (8, 19, 20): -0.29047472016231524, (9, 10, 11): -0.062190096893543156, (9, 10, 12): -0.07713723395136896, (9, 10, 13): -0.10915086537871677, (9, 10, 14): -0.15546112198361683, (9, 10, 15): -0.06886108690376869, (9, 10, 16): -0.09960231240912343, (9, 10, 17): -0.11845144814916964, (9, 10, 18): -0.1515931441317777, (9, 10, 19): -0.13211421613865149, (9, 10, 20): -0.17395402460844522, (9, 11, 12): -0.0613849597064382, (9, 11, 13): -0.08792893606971752, (9, 11, 14): -0.11500737793011506, (9, 11, 15): -0.0582723756174266, (9, 11, 16): -0.06168253803119317, (9, 11, 17): -0.07707953848446891, (9, 11, 18): -0.1021164426331227, (9, 11, 19): -0.09888505635486577, (9, 11, 20): -0.12883795148792387, (9, 12, 13): -0.09166973424146896, (9, 12, 14): -0.10338122362058222, (9, 12, 15): -0.05326149347895193, (9, 12, 16): -0.07594811893459763, (9, 12, 17): -0.09647810788742905, (9, 12, 18): -0.11998275434880412, (9, 12, 19): -0.09333557728214803, (9, 12, 20): -0.12271469093373355, (9, 13, 14): -0.17831967424386264, (9, 13, 15): -0.09410449510773411, (9, 13, 16): -0.09911969297674172, (9, 13, 17): -0.1420054059868523, (9, 13, 18): -0.18057362618575645, (9, 13, 19): -0.15449645752942054, (9, 13, 20): -0.2179867935322708, (9, 14, 15): -0.12617211038445308, (9, 14, 16): -0.15262962538265512, (9, 14, 17): -0.1819057104777677, (9, 14, 18): -0.23983215878128128, (9, 14, 19): -0.21512138056862184, (9, 14, 20): -0.28754287749948837, (9, 15, 16): -0.08364629540311785, (9, 15, 17): -0.10830620548722703, (9, 15, 18): -0.11001572757124567, (9, 15, 19): -0.11324778237605582, (9, 15, 20): -0.1377448201460254, (9, 16, 17): -0.10386263141558061, (9, 16, 18): -0.1373370310049502, (9, 16, 19): -0.11208267618108358, (9, 16, 20): -0.18363983732047728, (9, 17, 18): -0.19492482985742754, (9, 17, 19): -0.15253908018246598, (9, 17, 20): -0.21413962831118916, (9, 18, 19): -0.18425680578113202, (9, 18, 20): -0.2634712880587564, (9, 19, 20): -0.23293682574291097, (10, 11, 12): -0.05790830374000766, (10, 11, 13): -0.1028529553264299, (10, 11, 14): -0.16044514936636745, (10, 11, 15): -0.08432257161831025, (10, 11, 16): -0.08053576884808589, (10, 11, 17): -0.10950773709391104, (10, 11, 18): -0.12547203594064005, (10, 11, 19): -0.10514962855686427, (10, 11, 20): -0.16222019579440428, (10, 12, 13): -0.09450810851447056, (10, 12, 14): -0.15214738454561605, (10, 12, 15): -0.06841033162423926, (10, 12, 16): -0.09103139839802932, (10, 12, 17): -0.12960564776251804, (10, 12, 18): -0.1314543132953192, (10, 12, 19): -0.11413955301632317, (10, 12, 20): -0.1635054732043546, (10, 13, 14): -0.2205959688177579, (10, 13, 15): -0.12119527434078314, (10, 13, 16): -0.12892348174205104, (10, 13, 17): -0.19461148731680922, (10, 13, 18): -0.22537600203506258, (10, 13, 19): -0.19365265191445324, (10, 13, 20): -0.2777322840000842, (10, 14, 15): -0.16330072145139773, (10, 14, 16): -0.18370888443725164, (10, 14, 17): -0.253502629796861, (10, 14, 18): -0.27195788945118693, (10, 14, 19): -0.2550404937496378, (10, 14, 20): -0.377241433695751, (10, 15, 16): -0.0903802300323564, (10, 15, 17): -0.12216200014753476, (10, 15, 18): -0.16249603005844016, (10, 15, 19): -0.15080135088906133, (10, 15, 20): -0.19326470472444157, (10, 16, 17): -0.1396164799887316, (10, 16, 18): -0.18972238031327926, (10, 16, 19): -0.16345115567439983, (10, 16, 20): -0.2187693004815099, (10, 17, 18): -0.23442575266121857, (10, 17, 19): -0.18344336650592652, (10, 17, 20): -0.2897263759803188, (10, 18, 19): -0.2076026708426344, (10, 18, 20): -0.33991427929729845, (10, 19, 20): -0.3094157418200254, (11, 12, 13): -0.06736238036238884, (11, 12, 14): -0.11103642828431237, (11, 12, 16): -0.06322613980826741, (11, 12, 17): -0.07393301517554196, (11, 12, 18): -0.0874195915933722, (11, 12, 19): -0.08703409146235952, (11, 12, 20): -0.11161165747793511, (11, 13, 14): -0.175325378473282, (11, 13, 15): -0.09123464812727278, (11, 13, 16): -0.0919976255129864, (11, 13, 17): -0.13770386587504468, (11, 13, 18): -0.14144268286157669, (11, 13, 19): -0.14544732177139874, (11, 13, 20): -0.2008109490059624, (11, 14, 15): -0.12748068320456962, (11, 14, 16): -0.1447051899053058, (11, 14, 17): -0.1748368167925598, (11, 14, 18): -0.20699712442724838, (11, 14, 19): -0.18017394434729894, (11, 14, 20): -0.2783649744043366, (11, 15, 16): -0.06561570228933, (11, 15, 17): -0.10860643521478419, (11, 15, 18): -0.10897585699519396, (11, 15, 19): -0.0941386478784283, (11, 15, 20): -0.1353944166893406, (11, 16, 17): -0.10444694435323143, (11, 16, 18): -0.11866616031398625, (11, 16, 19): -0.11038128127950042, (11, 16, 20): -0.14519259713115318, (11, 17, 18): -0.15110211622083902, (11, 17, 19): -0.15827136296261912, (11, 17, 20): -0.21968541870518266, (11, 18, 19): -0.13367796036871304, (11, 18, 20): -0.2430984568497223, (11, 19, 20): -0.2307607878242841, (12, 13, 14): -0.15186186365063037, (12, 13, 15): -0.07565089165942407, (12, 13, 16): -0.06686181755109555, (12, 13, 17): -0.1298829330189335, (12, 13, 18): -0.14622852290125188, (12, 13, 19): -0.13925686789962555, (12, 13, 20): -0.18796056839927466, (12, 14, 15): -0.11615236887445057, (12, 14, 16): -0.13174104073033543, (12, 14, 17): -0.18643783322634455, (12, 14, 18): -0.21303949048893855, (12, 14, 19): -0.19020332436896403, (12, 14, 20): -0.24657836166111657, (12, 15, 17): -0.10057358187143528, (12, 15, 18): -0.10621005892468283, (12, 15, 19): -0.11311083824163415, (12, 15, 20): -0.11760006845877058, (12, 16, 17): -0.09764871824863697, (12, 16, 18): -0.11971573271835911, (12, 16, 19): -0.10767402084732769, (12, 16, 20): -0.1172344745880185, (12, 17, 18): -0.16524280051527107, (12, 17, 19): -0.1498128789326607, (12, 17, 20): -0.18980654558441934, (12, 18, 19): -0.16068019608688466, (12, 18, 20): -0.2435756883643112, (12, 19, 20): -0.2170827619767497, (13, 14, 15): -0.1839698726379897, (13, 14, 16): -0.20708957993723764, (13, 14, 17): -0.3059777873644176, (13, 14, 18): -0.3417490007776287, (13, 14, 19): -0.3000685317735332, (13, 15, 16): -0.09308164575228961, (13, 15, 17): -0.1485547189793266, (13, 15, 18): -0.18385805985268, (13, 15, 19): -0.16904822035599132, (13, 15, 20): -0.23645872413312397, (13, 16, 17): -0.16870725282934984, (13, 16, 18): -0.20489070240390816, (13, 16, 19): -0.16933923984180765, (13, 16, 20): -0.25819311232602793, (13, 17, 18): -0.27551294281232686, (13, 17, 19): -0.24399756250241111, (13, 17, 20): -0.3545514755549348, (13, 18, 19): -0.24530486955991648, (13, 19, 20): -0.3566135853969712, (14, 15, 16): -0.15128328454584228, (14, 15, 17): -0.17680498246319942, (14, 15, 18): -0.24343363750682734, (14, 15, 19): -0.22947843408219804, (14, 15, 20): -0.2986301155161257, (14, 16, 17): -0.23753730548780894, (14, 16, 18): -0.2786131096193287, (14, 16, 19): -0.2489512981022841, (14, 16, 20): -0.34165899468028016, (14, 17, 18): -0.35731944850017605, (14, 17, 19): -0.3046928127294084, (14, 18, 19): -0.32537330170828227, (15, 16, 17): -0.1079013263595856, (15, 16, 18): -0.13777280746140264, (15, 16, 19): -0.12903989257871373, (15, 16, 20): -0.1582053961304961, (15, 17, 18): -0.18535728499197468, (15, 17, 19): -0.17626977706142632, (15, 17, 20): -0.24758228651899827, (15, 18, 19): -0.1807273378823453, (15, 18, 20): -0.27506760151800513, (15, 19, 20): -0.2591978763341345, (16, 17, 18): -0.21048401549658458, (16, 17, 19): -0.18377710967451222, (16, 17, 20): -0.2692245637561257, (16, 18, 19): -0.19683342995446118, (16, 18, 20): -0.3181408143553952, (16, 19, 20): -0.29961075213510213, (17, 18, 19): -0.2660850293123467}\n"
     ]
    }
   ],
   "source": [
    "# Given dictionary\n",
    "data = Real_Ninfomut\n",
    "\n",
    "# Define common quantiles\n",
    "quantile_min = 0.010\n",
    "quantile_max = 0.990\n",
    "\n",
    "# Initialize a dictionary to store filtered data for different key lengths\n",
    "filtered_data = {}\n",
    "\n",
    "# Loop through the data\n",
    "for key_length in range(1, 4):\n",
    "    # Calculate quantiles based on the key length\n",
    "    I_min = np.quantile(locals()[f\"Random_I{key_length}\"], quantile_min)\n",
    "    I_max = np.quantile(locals()[f\"Random_I{key_length}\"], quantile_max)\n",
    "    \n",
    "    # Filter data\n",
    "    mask = {key: I_min <= value <= I_max for key, value in data.items()}\n",
    "    filtered_data[key_length] = {key: value for key, value in data.items() if mask[key]}\n",
    "\n",
    "# Print filtered dictionaries\n",
    "print(\"Filtered Dictionaries:\")\n",
    "for key_length, filtered_dict in filtered_data.items():\n",
    "    print(len(filtered_dict), \":\", filtered_dict)\n",
    "\n",
    "# Combine filtered dictionaries into one pruned_clique_complex dictionary\n",
    "pruned_clique_complex = {key: value for filtered_dict in filtered_data.values() for key, value in filtered_dict.items()}\n",
    "print(\"Pruned Clique Complex:\", pruned_clique_complex)"
   ]
  },
  {
   "cell_type": "markdown",
   "metadata": {},
   "source": [
    "**3. CC_to_F: \tPruned_clique_complex + L_p -> Knill’s F**"
   ]
  },
  {
   "cell_type": "code",
   "execution_count": 23,
   "metadata": {},
   "outputs": [],
   "source": [
    "def count_occurrences(dicts):\n",
    "    occurrences = {}\n",
    "    # Iterate over all dictionaries\n",
    "    for d in dicts:\n",
    "        for key in d:\n",
    "            occurrences[key] = occurrences.get(key, 0) + 1\n",
    "    return occurrences\n",
    "\n",
    "def generate_clique_probabilities(dict_list):  \n",
    "      \n",
    "    # Count occurrences\n",
    "    occurrences = count_occurrences(dict_list)\n",
    "\n",
    "    # Divide each value by the sum\n",
    "    normalized_occurrences = {key: value /sum(occurrences.values()) for key, value in occurrences.items()}\n",
    "    \n",
    "    dict_values_list = []\n",
    "\n",
    "    for i in range(0, len(dict_list)):\n",
    "        # Initialize an empty list to store values\n",
    "        values_list = []\n",
    "\n",
    "        # Iterate over keys of dict1\n",
    "        for key in dict_list[i]:\n",
    "            # Check if the key exists in normalized_occurrences\n",
    "            if key in normalized_occurrences:\n",
    "                # If the key exists, append its corresponding value to the list\n",
    "                values_list.append(normalized_occurrences[key])\n",
    "\n",
    "        dict_values_list.append(np.array(values_list))\n",
    "\n",
    "    return dict_values_list"
   ]
  },
  {
   "cell_type": "code",
   "execution_count": 24,
   "metadata": {},
   "outputs": [],
   "source": [
    "%run Week_18_functions.py"
   ]
  },
  {
   "cell_type": "code",
   "execution_count": 30,
   "metadata": {},
   "outputs": [
    {
     "name": "stdout",
     "output_type": "stream",
     "text": [
      "[-0.010000000000000002, 0.010000000000000002, 0.015000000000000003]\n"
     ]
    }
   ],
   "source": [
    "# Test for some example clique_complexes\n",
    "clique_complex_1 = {(1,):0.245, (2,):0.456, (1, 2): 0.123} # Put here the real pruned_clique_complex of dataset 1\n",
    "clique_complex_2 = {(2,):0.767, (3,):0.178, (2, 3): 0.367} # Put here the real pruned_clique_complex of dataset 2\n",
    "clique_complex_3 = {(1,):0.267, (4,):0.278, (6,): 0.128, (1, 4, 6):0.236} # Put here the real pruned_clique_complex of dataset 3 etc..\n",
    "clique_complex_1 = [frozenset(key) for key in clique_complex_1 if key in clique_complex_1]\n",
    "clique_complex_2 = [frozenset(key) for key in clique_complex_2 if key in clique_complex_2]\n",
    "clique_complex_3 = [frozenset(key) for key in clique_complex_3 if key in clique_complex_3]\n",
    "clique_complex_list = [clique_complex_1, clique_complex_2, clique_complex_3]\n",
    "\n",
    "# Generate Free energies\n",
    "F_list = []\n",
    "clique_probabilities_list = generate_clique_probabilities(clique_complex_list)\n",
    "\n",
    "for i in range(0, len(clique_complex_list)):\n",
    "    clique_complex = clique_complex_list[i]\n",
    "    probability = clique_probabilities_list[i]\n",
    "    matrix, inverse_connectivity_matrix = generate_inverse_connectivity_matrix(clique_complex)\n",
    "    F = energy_function(probability, inverse_connectivity_matrix)\n",
    "    F_list.append(F)\n",
    "\n",
    "print(F_list)"
   ]
  },
  {
   "cell_type": "markdown",
   "metadata": {},
   "source": [
    "**4. CC_to_minF_scipy: \tPruned_clique_complex -> Knill’s min F from scipy P**"
   ]
  },
  {
   "cell_type": "code",
   "execution_count": 31,
   "metadata": {},
   "outputs": [
    {
     "data": {
      "text/plain": [
       "[[frozenset({1}), frozenset({2}), frozenset({1, 2})],\n",
       " [frozenset({2}), frozenset({3}), frozenset({2, 3})],\n",
       " [frozenset({1}), frozenset({4}), frozenset({6}), frozenset({1, 4, 6})]]"
      ]
     },
     "execution_count": 31,
     "metadata": {},
     "output_type": "execute_result"
    }
   ],
   "source": [
    "clique_complex_list"
   ]
  },
  {
   "cell_type": "code",
   "execution_count": 32,
   "metadata": {},
   "outputs": [],
   "source": [
    "from scipy.optimize import minimize\n",
    "\n",
    "def complete_f_generator_scipy(clique_complex):\n",
    "    Q = generate_inverse_connectivity_matrix(clique_complex)[1]\n",
    "\n",
    "    # Optimization settings\n",
    "    cons = ({'type': 'eq', 'fun': lambda x: np.sum(x) - 1})\n",
    "    bounds = [(1e-10, None) for _ in range(len(Q))]\n",
    "    x0 = np.full(len(Q), 1/len(Q))  # Initial guess\n",
    "\n",
    "    # Store the latest optimized x0 and all free energies during minimization\n",
    "    latest_x0 = None\n",
    "    t = 1\n",
    "    all_values = []\n",
    "\n",
    "    # Callback function to collect values during minimization\n",
    "    def callback(x):\n",
    "        all_values.append(free_energy_function(x, Q, t))\n",
    "\n",
    "    #for t in t_values:\n",
    "    #    result = minimize(objective, x0, args=(Q, t), method='SLSQP', constraints=cons, bounds=bounds)\n",
    "    #    minimized_values.append(result.fun)\n",
    "    #    latest_x0 = result.x  # Update the latest optimized x0\n",
    "\n",
    "    result = minimize(free_energy_function, x0, args=(Q, t), method='SLSQP', constraints=cons, bounds=bounds, callback=callback)\n",
    "    return [result.fun, result.x]"
   ]
  },
  {
   "cell_type": "code",
   "execution_count": 33,
   "metadata": {},
   "outputs": [
    {
     "name": "stdout",
     "output_type": "stream",
     "text": [
      "Using scipy the minimum free energy and the corresponding clique probabilities are [-0.4999999996999998, array([5.00000000e-01, 5.00000000e-01, 1.00000064e-10])]\n"
     ]
    }
   ],
   "source": [
    "print('Using scipy the minimum free energy and the corresponding clique probabilities are', complete_f_generator_scipy(clique_complex_list[0]))"
   ]
  },
  {
   "cell_type": "markdown",
   "metadata": {},
   "source": [
    "F minmisation using custom P"
   ]
  },
  {
   "cell_type": "code",
   "execution_count": 34,
   "metadata": {},
   "outputs": [],
   "source": [
    "def complete_f_generator(clique_complex):\n",
    "    # Generate connection matrix and inverse\n",
    "    matrix, inverse_connectivity_matrix = generate_inverse_connectivity_matrix(clique_complex)\n",
    "\n",
    "    # Generate maximum shannon entropy from uniform distribution\n",
    "    n = len(inverse_connectivity_matrix)\n",
    "    p_Smax = np.ones(n) / n\n",
    "    max_entropy_value = shannon_entropy(p_Smax)\n",
    "\n",
    "    # Generate minimum internal energy from analytical solution\n",
    "    min_energy_probabilities = (np.inner(matrix,[1]*len(matrix)))/np.sum(matrix)\n",
    "    min_energy_value = energy_function(min_energy_probabilities, inverse_connectivity_matrix)\n",
    "\n",
    "    temperature = 0.5 # ratio between influence of internal energy and entropy\n",
    "    iterations = 1000 # number of iterations to minimise F\n",
    "    free_energy_history, f_probabilities = free_energy_minimisation(clique_complex, inverse_connectivity_matrix, iterations, temperature)\n",
    "\n",
    "    ''' IF TEMPERATURE VARIATION\n",
    "    # Generate minimum free energy by custom optimisation\n",
    "    f_per_T = []\n",
    "    p_per_T = []\n",
    "    temperature_list = [0.5] #One temperature for now, to look at a range use here: np.arange(0, 1, 1)\n",
    "\n",
    "    for temperature in temperature_list:\n",
    "        free_energy_history, f_probabilities = free_energy_minimisation(clique_complex, inverse_connectivity_matrix, 1000, temperature)\n",
    "        f_per_T.append(free_energy_history[-1])\n",
    "        p_per_T.append(f_probabilities)\n",
    "\n",
    "    return [max_entropy_value, min_energy_value, f_per_T, p_per_T, temperature_list]\n",
    "    '''\n",
    "    return [max_entropy_value, min_energy_value, free_energy_history[-1], f_probabilities]"
   ]
  },
  {
   "cell_type": "code",
   "execution_count": 35,
   "metadata": {},
   "outputs": [
    {
     "data": {
      "text/plain": [
       "[1.584962500721156,\n",
       " 0.14285714285714285,\n",
       " -0.8024211874631666,\n",
       " array([0.45852179, 0.45413844, 0.08733978])]"
      ]
     },
     "execution_count": 35,
     "metadata": {},
     "output_type": "execute_result"
    }
   ],
   "source": [
    "complete_f_generator(clique_complex_list[0])"
   ]
  }
 ],
 "metadata": {
  "kernelspec": {
   "display_name": "Python 3",
   "language": "python",
   "name": "python3"
  },
  "language_info": {
   "codemirror_mode": {
    "name": "ipython",
    "version": 3
   },
   "file_extension": ".py",
   "mimetype": "text/x-python",
   "name": "python",
   "nbconvert_exporter": "python",
   "pygments_lexer": "ipython3",
   "version": "3.9.4"
  }
 },
 "nbformat": 4,
 "nbformat_minor": 2
}
