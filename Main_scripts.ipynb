{
 "cells": [
  {
   "cell_type": "markdown",
   "metadata": {},
   "source": [
    "# Overview of the mainscripts to run the free energy exploration\n",
    "*Cyril Rommens, s12495719, masterproject MSc Physics and Astronomy: Computational Physics of Complex Systems*\n",
    "\n",
    "**Content**\n",
    "1.\traw_to_PR: \tTimeseries -> PR_timeseries (Is on harddrive)\n",
    "2.\tData_to_CC: \tTimeseries + PR_timeseries -? pruned_clique_complex + entropies/mutinfo/F’s\n",
    "3.\tCC_to_F: \tPruned_clique_complex + L_p -> Knill’s F (for this L_p needs to be generated before the function/loop. Matrix decompression needs to be used to select which L_p columns/rows)\n",
    "4.\tCC_to_minF_scipy: \tPruned_clique_complex -> Knill’s min F from scipy P\n",
    "5.\tCC_to_minF_custom:\tPruned_clique_complex -> Knill’s min F from custom P"
   ]
  },
  {
   "cell_type": "markdown",
   "metadata": {},
   "source": [
    "**1 raw_to_PR: \tTimeseries -> PR_timeseries**"
   ]
  },
  {
   "cell_type": "code",
   "execution_count": null,
   "metadata": {},
   "outputs": [],
   "source": [
    "#Put PR code here"
   ]
  },
  {
   "cell_type": "markdown",
   "metadata": {},
   "source": [
    "**2.\tData_to_CC: \tTimeseries + PR_timeseries -> pruned_clique_complex + entropies/mutinfo/F’s**"
   ]
  },
  {
   "cell_type": "code",
   "execution_count": 28,
   "metadata": {},
   "outputs": [],
   "source": [
    "def obtain_mutual_information(filename, max_d, number_of_variables): \n",
    "\n",
    "    # Import time series data\n",
    "    df = pd.read_csv(filename, sep='\\t', header=None)\n",
    "\n",
    "    # Mask using the 99th and 1th percentile\n",
    "    stacked_series = df.stack()\n",
    "    quantile_99 = stacked_series.quantile(0.99)\n",
    "    quantile_01 = stacked_series.quantile(0.01)\n",
    "    df[df > quantile_99] = quantile_99\n",
    "    df[df < quantile_01] = quantile_01\n",
    "\n",
    "    # Initialize an empty DataFrame to hold discretized values\n",
    "    discretized_time_series = pd.DataFrame()\n",
    "    max_BOLD = df.max().max()\n",
    "    min_BOLD = df.min().min()\n",
    "    desired_number_of_bins = 16\n",
    "    stepsize = (max_BOLD-min_BOLD)/desired_number_of_bins\n",
    "    bin_edges = np.arange(min_BOLD, max_BOLD, stepsize)\n",
    "\n",
    "    # Iterate over each column of 'df'\n",
    "    for col in df.columns:\n",
    "        data = df[col].tolist()\n",
    "        bin_numbers = np.digitize(data, bin_edges)\n",
    "        \n",
    "        # Create a DataFrame with the current column's discretized values\n",
    "        col_df = pd.DataFrame({col: bin_numbers}, index=df.index)\n",
    "        \n",
    "        # Concatenate the new DataFrame along the columns axis\n",
    "        discretized_time_series = pd.concat([discretized_time_series, col_df], axis=1)\n",
    "\n",
    "    # Import the information topology functions needed\n",
    "    %run infotopo.py\n",
    "    \n",
    "    # Settings to use infotopo functions\n",
    "    dataset = np.array(discretized_time_series).T\n",
    "    work_on_transpose = False \n",
    "    nb_of_values = 16\n",
    "    deformed_probability_mode = False\n",
    "    supervised_mode = False\n",
    "    forward_computation_mode = True\n",
    "    sampling_mode = 1\n",
    "\n",
    "    # Call infotopo functions for entropy, mutual information and free energy\n",
    "    information_topo = infotopo(dimension_max = max_d, \n",
    "                                dimension_tot = number_of_variables, \n",
    "                                sample_size = 2400, \n",
    "                                work_on_transpose = work_on_transpose,\n",
    "                                nb_of_values = nb_of_values, \n",
    "                                sampling_mode = sampling_mode, \n",
    "                                deformed_probability_mode = deformed_probability_mode,\n",
    "                                supervised_mode = supervised_mode, \n",
    "                                forward_computation_mode = forward_computation_mode)\n",
    "\n",
    "    Nentropie = information_topo.simplicial_entropies_decomposition(dataset) \n",
    "    Ninfomut = information_topo.simplicial_infomut_decomposition(Nentropie)\n",
    "    Nfree_energy = information_topo.total_correlation_simplicial_lanscape(Nentropie)\n",
    "\n",
    "    return Nentropie, Ninfomut, Nfree_energy"
   ]
  },
  {
   "cell_type": "code",
   "execution_count": null,
   "metadata": {},
   "outputs": [],
   "source": [
    "# Run for max_d=3 and nb_variables=60 takes about 4min\n",
    "%time Nentropie, Ninfomut, Nfree_energy = obtain_mutual_information('Cyril\\\\100206_rfMRI_REST1_Atlas_MSMAll_hp2000_clean_Schaefer2018_100Parcels_7Networks_Tian_Subcortex_S1_3T.txt', 3, 10)"
   ]
  },
  {
   "cell_type": "code",
   "execution_count": null,
   "metadata": {},
   "outputs": [],
   "source": [
    "average_free_energy = sum(Nfree_energy.values())/len(Nfree_energy.values())\n",
    "print(f'The average free energy of this subject is {average_free_energy}')\n",
    "\n",
    "average_free_energy_component = sum(Ninfomut.values())/len(Ninfomut.values())\n",
    "print(f'The free energy component (average mutual information) of this subject is {average_free_energy_component}')"
   ]
  },
  {
   "cell_type": "code",
   "execution_count": 44,
   "metadata": {},
   "outputs": [
    {
     "name": "stdout",
     "output_type": "stream",
     "text": [
      "{(1,): 2.3158932632922564, (2,): 2.6034634969390407, (3,): 2.2046295200496218, (4,): 2.1044846023411123, (5,): 3.0029452453336924, (6,): 2.638108973868445, (7,): 2.3989199097781473, (8,): 2.615714896072481, (9,): 2.263040738115215, (10,): 2.6811687257127006, (1, 2): 0.03881460164945061, (1, 3): 0.03208233536630356, (1, 4): 0.018709167611643096, (1, 5): 0.025890859202976735, (1, 6): 0.025290038216225774, (1, 7): 0.021381681022933918, (1, 8): 0.02069406727950529, (1, 9): 0.11753803484330305, (1, 10): 0.04036144115299489, (2, 3): 0.023696574549664895, (2, 4): 0.025942486088583294, (2, 5): 0.03453746108139466, (2, 6): 0.026589932228832325, (2, 7): 0.024578331699744993, (2, 8): 0.027395668574090593, (2, 9): 0.029919078015017142, (2, 10): 0.05743714442760517, (3, 4): 0.034541888731590475, (3, 5): 0.029368583583354813, (3, 6): 0.01869813165726608, (3, 7): 0.024930450490373346, (3, 8): 0.037263893003677495, (3, 9): 0.02045462927904662, (3, 10): 0.023421576139748268, (4, 5): 0.04398813059588047, (4, 6): 0.027470786851233164, (4, 7): 0.09121609630730454, (4, 8): 0.10243791283927717, (4, 9): 0.016851672356590797, (4, 10): 0.01997641759642743, (5, 6): 0.04384438076249797, (5, 7): 0.059733599112384184, (5, 8): 0.07830323432472941, (5, 9): 0.03248871953875465, (5, 10): 0.04168357025097169, (6, 7): 0.03576193399570737, (6, 8): 0.03216354987369918, (6, 9): 0.02194819518723179, (6, 10): 0.03381063405841811, (7, 8): 0.09758570865305405, (7, 9): 0.020794555398675918, (7, 10): 0.017269932914074637, (8, 9): 0.025565207656846667, (8, 10): 0.029238214614450087, (9, 10): 0.040576536601456326, (1, 2, 3): -0.07192306802550252, (1, 2, 4): -0.07752223458425966, (1, 2, 5): -0.13040488176336407, (1, 2, 6): -0.08292342928900531, (1, 2, 7): -0.08423792887836612, (1, 2, 8): -0.08315494090488063, (1, 2, 9): -0.05091767317230733, (1, 2, 10): -0.09144269175396058, (1, 3, 4): -0.050501801203796326, (1, 3, 5): -0.08855102514685331, (1, 3, 6): -0.07326269534124297, (1, 3, 7): -0.05684348546561235, (1, 3, 8): -0.061859599492821715, (1, 3, 9): -0.04875928768348636, (1, 3, 10): -0.06037638125524758, (1, 4, 5): -0.09052691378346367, (1, 4, 6): -0.06871089087750626, (1, 4, 7): -0.05565702266831707, (1, 4, 8): -0.05359774945035767, (1, 4, 9): -0.04814369548150754, (1, 4, 10): -0.06157901534560484, (1, 5, 6): -0.12788832876522793, (1, 5, 7): -0.10093621887300852, (1, 5, 8): -0.11083043671844184, (1, 5, 9): -0.07824735777913006, (1, 5, 10): -0.13455977938629182, (1, 6, 7): -0.08802119525022079, (1, 6, 8): -0.08626442222081376, (1, 6, 9): -0.06671578038592507, (1, 6, 10): -0.0903766730258706, (1, 7, 8): -0.08301927054835101, (1, 7, 9): -0.06562320748110295, (1, 7, 10): -0.07955175270855985, (1, 8, 9): -0.06480650360256135, (1, 8, 10): -0.10033091091505764, (1, 9, 10): -0.047918406879204234, (2, 3, 4): -0.05619554408807037, (2, 3, 5): -0.10882570003289072, (2, 3, 6): -0.09361356384359532, (2, 3, 7): -0.07293711313197537, (2, 3, 8): -0.0918207996038225, (2, 3, 9): -0.06949722296358463, (2, 3, 10): -0.0789400315007196, (2, 4, 5): -0.09099426125010357, (2, 4, 6): -0.07450089192197495, (2, 4, 7): -0.06439416378184504, (2, 4, 8): -0.06736140685781855, (2, 4, 9): -0.05685384557430151, (2, 4, 10): -0.08121383496508816, (2, 5, 6): -0.15378962534269913, (2, 5, 7): -0.11657381151211599, (2, 5, 8): -0.14459887313859365, (2, 5, 9): -0.11697232567535742, (2, 5, 10): -0.1412374769511402, (2, 6, 7): -0.11221507398132946, (2, 6, 8): -0.10638019083136374, (2, 6, 9): -0.09556039271347316, (2, 6, 10): -0.10408286221402197, (2, 7, 8): -0.11300599165426028, (2, 7, 9): -0.07670282662309269, (2, 7, 10): -0.10557460811930763, (2, 8, 9): -0.07378112414447724, (2, 8, 10): -0.10748021141568387, (2, 9, 10): -0.08686648076266756, (3, 4, 5): -0.08092261126801681, (3, 4, 6): -0.06094045347309418, (3, 4, 7): -0.03954897251326628, (3, 4, 8): -0.04715920295107523, (3, 4, 9): -0.05319851209518145, (3, 4, 10): -0.07558042768147111, (3, 5, 6): -0.12773107967286634, (3, 5, 7): -0.0950861628286761, (3, 5, 8): -0.10733419560421087, (3, 5, 9): -0.0819681987060088, (3, 5, 10): -0.11140308228022011, (3, 6, 7): -0.07130620944242683, (3, 6, 8): -0.09182417840600987, (3, 6, 9): -0.06840670701597151, (3, 6, 10): -0.08348071503605325, (3, 7, 8): -0.06162718760401198, (3, 7, 9): -0.053008328588222575, (3, 7, 10): -0.0800224039036026, (3, 8, 9): -0.06300897492938162, (3, 8, 10): -0.09081622264535927, (3, 9, 10): -0.06770193565071736, (4, 5, 6): -0.10538476902961502, (4, 5, 7): -0.06910128995404108, (4, 5, 8): -0.07912323911195518, (4, 5, 9): -0.0759975510972497, (4, 5, 10): -0.09918545598116513, (4, 6, 7): -0.058364538667524, (4, 6, 8): -0.07209126613642614, (4, 6, 9): -0.061773930962517376, (4, 6, 10): -0.07768815816400476, (4, 7, 8): -0.029439173820963838, (4, 7, 9): -0.04269643502056386, (4, 7, 10): -0.08123075362805299, (4, 8, 9): -0.060608580851566174, (4, 8, 10): -0.08425992105280766, (4, 9, 10): -0.06956669908141322, (5, 6, 7): -0.11868265570042613, (5, 6, 8): -0.13864692582355786, (5, 6, 9): -0.12308728337117714, (5, 6, 10): -0.15456587269597932, (5, 7, 8): -0.09927992429239385, (5, 7, 9): -0.09786040157116993, (5, 7, 10): -0.1335877951269886, (5, 8, 9): -0.10769093010209652, (5, 8, 10): -0.15137481305413392, (5, 9, 10): -0.1356534124332578, (6, 7, 8): -0.08873869725432115, (6, 7, 9): -0.08703920715891922, (6, 7, 10): -0.10304782291468051, (6, 8, 9): -0.10047428504666911, (6, 8, 10): -0.1092639687775332, (6, 9, 10): -0.09356666390254276, (7, 8, 9): -0.08162084876155529, (7, 8, 10): -0.10395681761714126, (7, 9, 10): -0.0795480674720217, (8, 9, 10): -0.09192657485969313}\n",
      "[frozenset({1}), frozenset({2}), frozenset({3}), frozenset({4}), frozenset({5}), frozenset({6}), frozenset({7}), frozenset({8}), frozenset({9}), frozenset({10}), frozenset({1, 2}), frozenset({1, 3}), frozenset({1, 4}), frozenset({1, 5}), frozenset({1, 6}), frozenset({1, 7}), frozenset({8, 1}), frozenset({1, 9}), frozenset({1, 10}), frozenset({2, 3}), frozenset({2, 4}), frozenset({2, 5}), frozenset({2, 6}), frozenset({2, 7}), frozenset({8, 2}), frozenset({9, 2}), frozenset({2, 10}), frozenset({3, 4}), frozenset({3, 5}), frozenset({3, 6}), frozenset({3, 7}), frozenset({8, 3}), frozenset({9, 3}), frozenset({10, 3}), frozenset({4, 5}), frozenset({4, 6}), frozenset({4, 7}), frozenset({8, 4}), frozenset({9, 4}), frozenset({10, 4}), frozenset({5, 6}), frozenset({5, 7}), frozenset({8, 5}), frozenset({9, 5}), frozenset({10, 5}), frozenset({6, 7}), frozenset({8, 6}), frozenset({9, 6}), frozenset({10, 6}), frozenset({8, 7}), frozenset({9, 7}), frozenset({10, 7}), frozenset({8, 9}), frozenset({8, 10}), frozenset({9, 10}), frozenset({1, 2, 3}), frozenset({1, 2, 4}), frozenset({1, 2, 5}), frozenset({1, 2, 6}), frozenset({1, 2, 7}), frozenset({8, 1, 2}), frozenset({1, 2, 9}), frozenset({1, 2, 10}), frozenset({1, 3, 4}), frozenset({1, 3, 5}), frozenset({1, 3, 6}), frozenset({1, 3, 7}), frozenset({8, 1, 3}), frozenset({1, 3, 9}), frozenset({1, 10, 3}), frozenset({1, 4, 5}), frozenset({1, 4, 6}), frozenset({1, 4, 7}), frozenset({8, 1, 4}), frozenset({1, 4, 9}), frozenset({1, 10, 4}), frozenset({1, 5, 6}), frozenset({1, 5, 7}), frozenset({8, 1, 5}), frozenset({1, 5, 9}), frozenset({1, 10, 5}), frozenset({1, 6, 7}), frozenset({8, 1, 6}), frozenset({1, 6, 9}), frozenset({1, 10, 6}), frozenset({8, 1, 7}), frozenset({1, 9, 7}), frozenset({1, 10, 7}), frozenset({8, 1, 9}), frozenset({8, 1, 10}), frozenset({1, 10, 9}), frozenset({2, 3, 4}), frozenset({2, 3, 5}), frozenset({2, 3, 6}), frozenset({2, 3, 7}), frozenset({8, 2, 3}), frozenset({9, 2, 3}), frozenset({10, 2, 3}), frozenset({2, 4, 5}), frozenset({2, 4, 6}), frozenset({2, 4, 7}), frozenset({8, 2, 4}), frozenset({9, 2, 4}), frozenset({2, 10, 4}), frozenset({2, 5, 6}), frozenset({2, 5, 7}), frozenset({8, 2, 5}), frozenset({9, 2, 5}), frozenset({2, 10, 5}), frozenset({2, 6, 7}), frozenset({8, 2, 6}), frozenset({9, 2, 6}), frozenset({2, 10, 6}), frozenset({8, 2, 7}), frozenset({9, 2, 7}), frozenset({2, 10, 7}), frozenset({8, 9, 2}), frozenset({8, 2, 10}), frozenset({9, 2, 10}), frozenset({3, 4, 5}), frozenset({3, 4, 6}), frozenset({3, 4, 7}), frozenset({8, 3, 4}), frozenset({9, 3, 4}), frozenset({10, 3, 4}), frozenset({3, 5, 6}), frozenset({3, 5, 7}), frozenset({8, 3, 5}), frozenset({9, 3, 5}), frozenset({10, 3, 5}), frozenset({3, 6, 7}), frozenset({8, 3, 6}), frozenset({9, 3, 6}), frozenset({10, 3, 6}), frozenset({8, 3, 7}), frozenset({9, 3, 7}), frozenset({10, 3, 7}), frozenset({8, 9, 3}), frozenset({8, 10, 3}), frozenset({9, 10, 3}), frozenset({4, 5, 6}), frozenset({4, 5, 7}), frozenset({8, 4, 5}), frozenset({9, 4, 5}), frozenset({10, 4, 5}), frozenset({4, 6, 7}), frozenset({8, 4, 6}), frozenset({9, 4, 6}), frozenset({10, 4, 6}), frozenset({8, 4, 7}), frozenset({9, 4, 7}), frozenset({10, 4, 7}), frozenset({8, 9, 4}), frozenset({8, 10, 4}), frozenset({9, 10, 4}), frozenset({5, 6, 7}), frozenset({8, 5, 6}), frozenset({9, 5, 6}), frozenset({10, 5, 6}), frozenset({8, 5, 7}), frozenset({9, 5, 7}), frozenset({10, 5, 7}), frozenset({8, 9, 5}), frozenset({8, 10, 5}), frozenset({9, 10, 5}), frozenset({8, 6, 7}), frozenset({9, 6, 7}), frozenset({10, 6, 7}), frozenset({8, 9, 6}), frozenset({8, 10, 6}), frozenset({9, 10, 6}), frozenset({8, 9, 7}), frozenset({8, 10, 7}), frozenset({9, 10, 7}), frozenset({8, 9, 10})]\n"
     ]
    }
   ],
   "source": [
    "print(Ninfomut)\n",
    "clique_complex = [frozenset(key) for key in Ninfomut if key in Ninfomut]\n",
    "print(clique_complex)"
   ]
  },
  {
   "cell_type": "markdown",
   "metadata": {},
   "source": [
    "**3. CC_to_F: \tPruned_clique_complex + L_p -> Knill’s F**"
   ]
  },
  {
   "cell_type": "code",
   "execution_count": 35,
   "metadata": {},
   "outputs": [],
   "source": [
    "def count_occurrences(dicts):\n",
    "    occurrences = {}\n",
    "    # Iterate over all dictionaries\n",
    "    for d in dicts:\n",
    "        for key in d:\n",
    "            occurrences[key] = occurrences.get(key, 0) + 1\n",
    "    return occurrences\n",
    "\n",
    "def generate_clique_probabilities(dict_list):  \n",
    "      \n",
    "    # Count occurrences\n",
    "    occurrences = count_occurrences(dict_list)\n",
    "\n",
    "    # Divide each value by the sum\n",
    "    normalized_occurrences = {key: value /sum(occurrences.values()) for key, value in occurrences.items()}\n",
    "    \n",
    "    dict_values_list = []\n",
    "\n",
    "    for i in range(0, len(dict_list)):\n",
    "        # Initialize an empty list to store values\n",
    "        values_list = []\n",
    "\n",
    "        # Iterate over keys of dict1\n",
    "        for key in dict_list[i]:\n",
    "            # Check if the key exists in normalized_occurrences\n",
    "            if key in normalized_occurrences:\n",
    "                # If the key exists, append its corresponding value to the list\n",
    "                values_list.append(normalized_occurrences[key])\n",
    "\n",
    "        dict_values_list.append(np.array(values_list))\n",
    "\n",
    "    return dict_values_list"
   ]
  },
  {
   "cell_type": "code",
   "execution_count": 42,
   "metadata": {},
   "outputs": [],
   "source": [
    "%run Week_18_functions.py"
   ]
  },
  {
   "cell_type": "code",
   "execution_count": 46,
   "metadata": {},
   "outputs": [
    {
     "name": "stdout",
     "output_type": "stream",
     "text": [
      "[-0.010000000000000002, 0.010000000000000002, 0.015000000000000003]\n"
     ]
    }
   ],
   "source": [
    "# Test for some example clique_complexes\n",
    "clique_complex_1 = {(1,):0.245, (2,):0.456, (1, 2): 0.123}\n",
    "clique_complex_2 = {(2,):0.767, (3,):0.178, (2, 3): 0.367}\n",
    "clique_complex_3 = {(1,):0.267, (4,):0.278, (6,): 0.128, (1, 4, 6):0.236}\n",
    "clique_complex_1 = [frozenset(key) for key in clique_complex_1 if key in clique_complex_1]\n",
    "clique_complex_2 = [frozenset(key) for key in clique_complex_2 if key in clique_complex_2]\n",
    "clique_complex_3 = [frozenset(key) for key in clique_complex_3 if key in clique_complex_3]\n",
    "clique_complex_list = [clique_complex_1, clique_complex_2, clique_complex_3]\n",
    "\n",
    "# Generate Free energies\n",
    "F_list = []\n",
    "clique_probabilities_list = generate_clique_probabilities(clique_complex_list)\n",
    "\n",
    "for i in range(0, len(clique_complex_list)):\n",
    "    clique_complex = clique_complex_list[i]\n",
    "    probability = clique_probabilities_list[i]\n",
    "    matrix, inverse_connectivity_matrix = generate_inverse_connectivity_matrix(clique_complex)\n",
    "    F = energy_function(probability, inverse_connectivity_matrix)\n",
    "    F_list.append(F)\n",
    "\n",
    "print(F_list)"
   ]
  },
  {
   "cell_type": "markdown",
   "metadata": {},
   "source": [
    "**4. CC_to_minF_scipy: \tPruned_clique_complex -> Knill’s min F from scipy P**"
   ]
  },
  {
   "cell_type": "code",
   "execution_count": 48,
   "metadata": {},
   "outputs": [
    {
     "data": {
      "text/plain": [
       "[[frozenset({1}), frozenset({2}), frozenset({1, 2})],\n",
       " [frozenset({2}), frozenset({3}), frozenset({2, 3})],\n",
       " [frozenset({1}), frozenset({4}), frozenset({6}), frozenset({1, 4, 6})]]"
      ]
     },
     "execution_count": 48,
     "metadata": {},
     "output_type": "execute_result"
    }
   ],
   "source": [
    "clique_complex_list"
   ]
  },
  {
   "cell_type": "code",
   "execution_count": 69,
   "metadata": {},
   "outputs": [],
   "source": [
    "from scipy.optimize import minimize\n",
    "\n",
    "def complete_f_generator_scipy(clique_complex):\n",
    "    Q = generate_inverse_connectivity_matrix(clique_complex)[1]\n",
    "\n",
    "    # Optimization settings\n",
    "    cons = ({'type': 'eq', 'fun': lambda x: np.sum(x) - 1})\n",
    "    bounds = [(1e-10, None) for _ in range(len(Q))]\n",
    "    x0 = np.full(len(Q), 1/len(Q))  # Initial guess\n",
    "\n",
    "    # Store the latest optimized x0 and all free energies during minimization\n",
    "    latest_x0 = None\n",
    "    t = 1\n",
    "    all_values = []\n",
    "\n",
    "    # Callback function to collect values during minimization\n",
    "    def callback(x):\n",
    "        all_values.append(free_energy_function(x, Q, t))\n",
    "\n",
    "    #for t in t_values:\n",
    "    #    result = minimize(objective, x0, args=(Q, t), method='SLSQP', constraints=cons, bounds=bounds)\n",
    "    #    minimized_values.append(result.fun)\n",
    "    #    latest_x0 = result.x  # Update the latest optimized x0\n",
    "\n",
    "    result = minimize(free_energy_function, x0, args=(Q, t), method='SLSQP', constraints=cons, bounds=bounds, callback=callback)\n",
    "    return [result.fun, result.x]"
   ]
  },
  {
   "cell_type": "code",
   "execution_count": 71,
   "metadata": {},
   "outputs": [
    {
     "name": "stdout",
     "output_type": "stream",
     "text": [
      "Using scipy the minimum free energy and the corresponding clique probabilities are [-0.4999999996999998, array([5.00000000e-01, 5.00000000e-01, 1.00000064e-10])]\n"
     ]
    }
   ],
   "source": [
    "print('Using scipy the minimum free energy and the corresponding clique probabilities are', complete_f_generator_scipy(clique_complex_list[0]))"
   ]
  },
  {
   "cell_type": "markdown",
   "metadata": {},
   "source": [
    "F minmisation using custom P"
   ]
  },
  {
   "cell_type": "code",
   "execution_count": 54,
   "metadata": {},
   "outputs": [],
   "source": [
    "def complete_f_generator(clique_complex):\n",
    "    # Generate connection matrix and inverse\n",
    "    matrix, inverse_connectivity_matrix = generate_inverse_connectivity_matrix(clique_complex)\n",
    "\n",
    "    # Generate maximum shannon entropy from uniform distribution\n",
    "    n = len(inverse_connectivity_matrix)\n",
    "    p_Smax = np.ones(n) / n\n",
    "    max_entropy_value = shannon_entropy(p_Smax)\n",
    "\n",
    "    # Generate minimum internal energy from analytical solution\n",
    "    min_energy_probabilities = (np.inner(matrix,[1]*len(matrix)))/np.sum(matrix)\n",
    "    min_energy_value = energy_function(min_energy_probabilities, inverse_connectivity_matrix)\n",
    "\n",
    "    temperature = 0.5 # ratio between influence of internal energy and entropy\n",
    "    iterations = 1000 # number of iterations to minimise F\n",
    "    free_energy_history, f_probabilities = free_energy_minimisation(clique_complex, inverse_connectivity_matrix, iterations, temperature)\n",
    "\n",
    "    ''' IF TEMPERATURE VARIATION\n",
    "    # Generate minimum free energy by custom optimisation\n",
    "    f_per_T = []\n",
    "    p_per_T = []\n",
    "    temperature_list = [0.5] #One temperature for now, to look at a range use here: np.arange(0, 1, 1)\n",
    "\n",
    "    for temperature in temperature_list:\n",
    "        free_energy_history, f_probabilities = free_energy_minimisation(clique_complex, inverse_connectivity_matrix, 1000, temperature)\n",
    "        f_per_T.append(free_energy_history[-1])\n",
    "        p_per_T.append(f_probabilities)\n",
    "\n",
    "    return [max_entropy_value, min_energy_value, f_per_T, p_per_T, temperature_list]\n",
    "    '''\n",
    "    return [max_entropy_value, min_energy_value, free_energy_history[-1], f_probabilities]"
   ]
  },
  {
   "cell_type": "code",
   "execution_count": 68,
   "metadata": {},
   "outputs": [
    {
     "data": {
      "text/plain": [
       "[1.584962500721156,\n",
       " 0.14285714285714285,\n",
       " -0.8022139445529106,\n",
       " array([0.44651758, 0.46455345, 0.08892896])]"
      ]
     },
     "execution_count": 68,
     "metadata": {},
     "output_type": "execute_result"
    }
   ],
   "source": [
    "complete_f_generator(clique_complex_list[0])"
   ]
  }
 ],
 "metadata": {
  "kernelspec": {
   "display_name": "Python 3",
   "language": "python",
   "name": "python3"
  },
  "language_info": {
   "codemirror_mode": {
    "name": "ipython",
    "version": 3
   },
   "file_extension": ".py",
   "mimetype": "text/x-python",
   "name": "python",
   "nbconvert_exporter": "python",
   "pygments_lexer": "ipython3",
   "version": "3.9.4"
  }
 },
 "nbformat": 4,
 "nbformat_minor": 2
}
