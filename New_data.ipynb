{
 "cells": [
  {
   "cell_type": "markdown",
   "metadata": {},
   "source": [
    "# Compute functionals from the YoungAdult data\n",
    "*Cyril Rommens, s12495719, masterproject MSc Physics and Astronomy: Computational Physics of Complex Systems*\n",
    "\n",
    "**Content**\n",
    "In this notebook I will apply the schematic from the 'Essentials.ipynb' and 'Complete_progress.ipynb' files to compute the min_energy, max_entropy and free_energy from the YoungAdult dataset."
   ]
  },
  {
   "cell_type": "code",
   "execution_count": null,
   "metadata": {},
   "outputs": [],
   "source": [
    "# Import necessary libraries\n",
    "import numpy as np\n",
    "import glob\n",
    "\n",
    "# Import external background functions\n",
    "%run background_functions.py"
   ]
  },
  {
   "cell_type": "code",
   "execution_count": null,
   "metadata": {},
   "outputs": [],
   "source": [
    "# Import YoungAdult data\n",
    "# Importing all matrices with Numpy\n",
    "matrices = [np.genfromtxt(file) for file in glob.glob('./1000_Functional_Connectomes/Connectivity matrices/*_matrix_file.txt')]\n",
    "\n",
    "# Generate an averaged matrix\n",
    "MatAv = np.zeros(shape=matrices[0].shape)\n",
    "for matrix in matrices:\n",
    "    MatAv += matrix\n",
    "averaged_matrix = MatAv/len(matrices)"
   ]
  }
 ],
 "metadata": {
  "language_info": {
   "name": "python"
  }
 },
 "nbformat": 4,
 "nbformat_minor": 2
}
