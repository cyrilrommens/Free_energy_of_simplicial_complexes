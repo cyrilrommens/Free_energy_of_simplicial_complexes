{
 "cells": [
  {
   "cell_type": "markdown",
   "metadata": {},
   "source": [
    "# Compute functionals from the YoungAdult data\n",
    "*Cyril Rommens, s12495719, masterproject MSc Physics and Astronomy: Computational Physics of Complex Systems*\n",
    "\n",
    "**Content**\n",
    "In this notebook I will apply the schematic from the 'Essentials.ipynb' and 'Complete_progress.ipynb' files to compute the min_energy, max_entropy and free_energy from the YoungAdult dataset."
   ]
  },
  {
   "cell_type": "code",
   "execution_count": null,
   "metadata": {},
   "outputs": [],
   "source": [
    "# Import necessary libraries\n",
    "import numpy as np\n",
    "import glob\n",
    "\n",
    "# Import external background functions\n",
    "%run background_functions.py"
   ]
  },
  {
   "cell_type": "code",
   "execution_count": null,
   "metadata": {},
   "outputs": [],
   "source": [
    "# Import YoungAdult data\n",
    "# Importing all matrices using glob\n",
    "matrices = [np.genfromtxt(file) for file in glob.glob('./HCPAging/HCA*/V1/r_fMRI_REST*/Schaefer2018_100Parcels_*/*.txt')]\n",
    "\n",
    "# Generate an averaged matrix\n",
    "#MatAv = np.zeros(shape=matrices[0].shape)\n",
    "#for matrix in matrices:\n",
    "#    MatAv += matrix\n",
    "#averaged_matrix = MatAv/len(matrices)"
   ]
  },
  {
   "cell_type": "code",
   "execution_count": null,
   "metadata": {},
   "outputs": [],
   "source": [
    "# Define desired settings\n",
    "cutoff=0.4 # Value between 0 and 1. Values below this value are set to zero. Becomes obsolete after including phase randomisation\n",
    "max_dim=4\n",
    "M = averaged_matrix"
   ]
  },
  {
   "cell_type": "code",
   "execution_count": null,
   "metadata": {},
   "outputs": [],
   "source": [
    "# Compute the clique complex and Euler Characteristic\n",
    "%time euler_characteristic, clique_complex = compute_euler(M,cutoff,max_dim)"
   ]
  },
  {
   "cell_type": "code",
   "execution_count": null,
   "metadata": {},
   "outputs": [],
   "source": [
    "# Generate the connectivity matrix L from the clique complex\n",
    "%time inverse_connectivity_matrix = generate_inverse_connectivity_matrix(clique_complex)"
   ]
  },
  {
   "cell_type": "code",
   "execution_count": null,
   "metadata": {},
   "outputs": [],
   "source": [
    "# Compute the Helmholtz free energy\n",
    "%time U_min, p_Umin, S_max, p_Smax, Free_energy = free_energy(inverse_connectivity_matrix, 1)"
   ]
  },
  {
   "cell_type": "code",
   "execution_count": null,
   "metadata": {},
   "outputs": [],
   "source": [
    "# Plotting the probability distribution\n",
    "plt.figure(figsize=(10, 5))\n",
    "\n",
    "plt.subplot(1, 2, 1)\n",
    "plt.hist(p_Umin, bins=100, density=True, alpha=0.4, color='blue', edgecolor='black')\n",
    "plt.xlabel('Clique probability $p_i$')\n",
    "plt.ylabel('Frequency')\n",
    "plt.title('Probability distribution $p$ for minimised $U(p)$')\n",
    "plt.grid(True)\n",
    "\n",
    "plt.subplot(1, 2, 2)\n",
    "plt.hist(p_Smax, bins=100, density=True, alpha=0.4, color='blue', edgecolor='black')\n",
    "plt.xlabel('Clique probability $p_i$')\n",
    "plt.ylabel('Frequency')\n",
    "plt.title('Probability distribution $p$ for maximised $S(p)$')\n",
    "plt.grid(True)\n",
    "\n",
    "plt.tight_layout()\n",
    "plt.show()"
   ]
  },
  {
   "cell_type": "code",
   "execution_count": null,
   "metadata": {},
   "outputs": [],
   "source": [
    "# Plotting the probability distribution\n",
    "plt.figure(figsize=(10, 5))\n",
    "\n",
    "plt.subplot(1, 2, 1)\n",
    "plt.plot(p_Umin)\n",
    "plt.xlabel('Clique number i')\n",
    "plt.ylabel('Probability $p_i$')\n",
    "plt.title('Probability $p_i$ for minimised $U(p_i)$')\n",
    "plt.grid(True)\n",
    "\n",
    "plt.subplot(1, 2, 2)\n",
    "plt.plot(p_Smax)\n",
    "plt.xlabel('Clique number i')\n",
    "plt.ylabel('Probability $p_i$')\n",
    "plt.title('Probability $p_i$ for maximised $S(p_i)$')\n",
    "plt.grid(True)\n",
    "\n",
    "plt.tight_layout()\n",
    "plt.show()"
   ]
  }
 ],
 "metadata": {
  "language_info": {
   "name": "python"
  }
 },
 "nbformat": 4,
 "nbformat_minor": 2
}
