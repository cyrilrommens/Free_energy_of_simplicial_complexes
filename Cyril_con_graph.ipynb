{
 "cells": [
  {
   "cell_type": "code",
   "execution_count": 1,
   "id": "dad0042f",
   "metadata": {},
   "outputs": [
    {
     "name": "stdout",
     "output_type": "stream",
     "text": [
      "{(2,), (4, 8, 5), (5,), (8,), (4, 6), (9, 5), (0, 3, 6), (1, 9), (6, 2), (6, 5), (4,), (4, 2), (1,), (7,), (4, 5), (4, 8), (3, 6), (1, 7, 9), (8, 5), (1, 2), (0, 4), (1, 8), (7, 9), (6, 7), (0, 4, 6), (0,), (3,), (9,), (3, 5), (6,), (4, 6, 2), (0, 3), (1, 2, 9), (4, 6, 5), (0, 6), (2, 9), (1, 7), (3, 6, 5)}\n"
     ]
    }
   ],
   "source": [
    "import numpy as np\n",
    "import networkx as nx\n",
    "from itertools import combinations\n",
    "\n",
    "def build_clique_complex(correlation_matrix, threshold, max_clique_size):\n",
    "    n = correlation_matrix.shape[0]\n",
    "    G = nx.Graph()\n",
    "    for i in range(n):\n",
    "        for j in range(i+1, n):\n",
    "            if abs(correlation_matrix[i, j]) > threshold:\n",
    "                G.add_edge(i, j)\n",
    "\n",
    "    # Using nx.enumerate_all_cliques in an interactive manner\n",
    "    cliques = []\n",
    "    for clique in nx.enumerate_all_cliques(G):\n",
    "        if len(clique) > max_clique_size:\n",
    "            break\n",
    "        cliques.append(clique)  # Include all cliques, regardless of size\n",
    "\n",
    "    # Building the clique complex as a set\n",
    "    clique_complex = set()\n",
    "    for clique in cliques:\n",
    "        for k in range(1, len(clique) + 1):  # Start from 1 to include single elements\n",
    "            for simplex in combinations(clique, k):\n",
    "                clique_complex.add(tuple(simplex))  # Convert to tuple and add to set\n",
    "\n",
    "    return clique_complex\n",
    "\n",
    "# Example usage\n",
    "correlation_matrix = np.random.rand(10, 10)  # Replace with your correlation matrix\n",
    "threshold = 0.5  # Set your threshold\n",
    "max_clique_size = 3  # Set the maximum size of the cliques\n",
    "\n",
    "clique_complex = build_clique_complex(correlation_matrix, threshold, max_clique_size)\n",
    "print(clique_complex)\n"
   ]
  },
  {
   "cell_type": "code",
   "execution_count": 2,
   "id": "fe47d058",
   "metadata": {},
   "outputs": [],
   "source": [
    "def build_clique_complex(correlation_matrix, threshold, max_clique_size):\n",
    "    n = correlation_matrix.shape[0]\n",
    "    G = nx.Graph()\n",
    "    for i in range(n):\n",
    "        for j in range(i+1, n):\n",
    "            if abs(correlation_matrix[i, j]) > threshold:\n",
    "                G.add_edge(i, j)\n",
    "\n",
    "    # Using nx.enumerate_all_cliques in an interactive manner\n",
    "    cliques = []\n",
    "    for clique in nx.enumerate_all_cliques(G):\n",
    "        if len(clique) > max_clique_size:\n",
    "            break\n",
    "        cliques.append(clique)  # Include all cliques, regardless of size\n",
    "\n",
    "    # Building the clique complex\n",
    "    clique_complex = []\n",
    "    for clique in cliques:\n",
    "        for k in range(1, len(clique) + 1):  # Start from 1 to include single elements\n",
    "            for simplex in combinations(clique, k):\n",
    "                clique_complex.append(list(simplex))  # Convert to list\n",
    "    clique_complex=[set(lst) for lst in clique_complex]\n",
    "    return clique_complex"
   ]
  },
  {
   "cell_type": "code",
   "execution_count": 3,
   "id": "9448f5c5",
   "metadata": {},
   "outputs": [],
   "source": [
    "import pandas as pd"
   ]
  },
  {
   "cell_type": "code",
   "execution_count": 5,
   "id": "63f6073a",
   "metadata": {},
   "outputs": [
    {
     "ename": "FileNotFoundError",
     "evalue": "[Errno 2] No such file or directory: '1000_Functional_Connectomes/Connectivity matrices/Baltimore_5561_connectivity_matrix_file.txt'",
     "output_type": "error",
     "traceback": [
      "\u001b[1;31m---------------------------------------------------------------------------\u001b[0m",
      "\u001b[1;31mFileNotFoundError\u001b[0m                         Traceback (most recent call last)",
      "Cell \u001b[1;32mIn[5], line 1\u001b[0m\n\u001b[1;32m----> 1\u001b[0m test\u001b[38;5;241m=\u001b[39m\u001b[43mpd\u001b[49m\u001b[38;5;241;43m.\u001b[39;49m\u001b[43mread_csv\u001b[49m\u001b[43m(\u001b[49m\u001b[38;5;124;43m'\u001b[39;49m\u001b[38;5;124;43m1000_Functional_Connectomes/Connectivity matrices/Baltimore_5561_connectivity_matrix_file.txt\u001b[39;49m\u001b[38;5;124;43m'\u001b[39;49m\u001b[43m,\u001b[49m\u001b[43mheader\u001b[49m\u001b[38;5;241;43m=\u001b[39;49m\u001b[38;5;28;43;01mNone\u001b[39;49;00m\u001b[43m)\u001b[49m\n",
      "File \u001b[1;32mc:\\Users\\cyril\\anaconda3\\envs\\TDA_brain\\Lib\\site-packages\\pandas\\io\\parsers\\readers.py:948\u001b[0m, in \u001b[0;36mread_csv\u001b[1;34m(filepath_or_buffer, sep, delimiter, header, names, index_col, usecols, dtype, engine, converters, true_values, false_values, skipinitialspace, skiprows, skipfooter, nrows, na_values, keep_default_na, na_filter, verbose, skip_blank_lines, parse_dates, infer_datetime_format, keep_date_col, date_parser, date_format, dayfirst, cache_dates, iterator, chunksize, compression, thousands, decimal, lineterminator, quotechar, quoting, doublequote, escapechar, comment, encoding, encoding_errors, dialect, on_bad_lines, delim_whitespace, low_memory, memory_map, float_precision, storage_options, dtype_backend)\u001b[0m\n\u001b[0;32m    935\u001b[0m kwds_defaults \u001b[38;5;241m=\u001b[39m _refine_defaults_read(\n\u001b[0;32m    936\u001b[0m     dialect,\n\u001b[0;32m    937\u001b[0m     delimiter,\n\u001b[1;32m   (...)\u001b[0m\n\u001b[0;32m    944\u001b[0m     dtype_backend\u001b[38;5;241m=\u001b[39mdtype_backend,\n\u001b[0;32m    945\u001b[0m )\n\u001b[0;32m    946\u001b[0m kwds\u001b[38;5;241m.\u001b[39mupdate(kwds_defaults)\n\u001b[1;32m--> 948\u001b[0m \u001b[38;5;28;01mreturn\u001b[39;00m \u001b[43m_read\u001b[49m\u001b[43m(\u001b[49m\u001b[43mfilepath_or_buffer\u001b[49m\u001b[43m,\u001b[49m\u001b[43m \u001b[49m\u001b[43mkwds\u001b[49m\u001b[43m)\u001b[49m\n",
      "File \u001b[1;32mc:\\Users\\cyril\\anaconda3\\envs\\TDA_brain\\Lib\\site-packages\\pandas\\io\\parsers\\readers.py:611\u001b[0m, in \u001b[0;36m_read\u001b[1;34m(filepath_or_buffer, kwds)\u001b[0m\n\u001b[0;32m    608\u001b[0m _validate_names(kwds\u001b[38;5;241m.\u001b[39mget(\u001b[38;5;124m\"\u001b[39m\u001b[38;5;124mnames\u001b[39m\u001b[38;5;124m\"\u001b[39m, \u001b[38;5;28;01mNone\u001b[39;00m))\n\u001b[0;32m    610\u001b[0m \u001b[38;5;66;03m# Create the parser.\u001b[39;00m\n\u001b[1;32m--> 611\u001b[0m parser \u001b[38;5;241m=\u001b[39m \u001b[43mTextFileReader\u001b[49m\u001b[43m(\u001b[49m\u001b[43mfilepath_or_buffer\u001b[49m\u001b[43m,\u001b[49m\u001b[43m \u001b[49m\u001b[38;5;241;43m*\u001b[39;49m\u001b[38;5;241;43m*\u001b[39;49m\u001b[43mkwds\u001b[49m\u001b[43m)\u001b[49m\n\u001b[0;32m    613\u001b[0m \u001b[38;5;28;01mif\u001b[39;00m chunksize \u001b[38;5;129;01mor\u001b[39;00m iterator:\n\u001b[0;32m    614\u001b[0m     \u001b[38;5;28;01mreturn\u001b[39;00m parser\n",
      "File \u001b[1;32mc:\\Users\\cyril\\anaconda3\\envs\\TDA_brain\\Lib\\site-packages\\pandas\\io\\parsers\\readers.py:1448\u001b[0m, in \u001b[0;36mTextFileReader.__init__\u001b[1;34m(self, f, engine, **kwds)\u001b[0m\n\u001b[0;32m   1445\u001b[0m     \u001b[38;5;28mself\u001b[39m\u001b[38;5;241m.\u001b[39moptions[\u001b[38;5;124m\"\u001b[39m\u001b[38;5;124mhas_index_names\u001b[39m\u001b[38;5;124m\"\u001b[39m] \u001b[38;5;241m=\u001b[39m kwds[\u001b[38;5;124m\"\u001b[39m\u001b[38;5;124mhas_index_names\u001b[39m\u001b[38;5;124m\"\u001b[39m]\n\u001b[0;32m   1447\u001b[0m \u001b[38;5;28mself\u001b[39m\u001b[38;5;241m.\u001b[39mhandles: IOHandles \u001b[38;5;241m|\u001b[39m \u001b[38;5;28;01mNone\u001b[39;00m \u001b[38;5;241m=\u001b[39m \u001b[38;5;28;01mNone\u001b[39;00m\n\u001b[1;32m-> 1448\u001b[0m \u001b[38;5;28mself\u001b[39m\u001b[38;5;241m.\u001b[39m_engine \u001b[38;5;241m=\u001b[39m \u001b[38;5;28;43mself\u001b[39;49m\u001b[38;5;241;43m.\u001b[39;49m\u001b[43m_make_engine\u001b[49m\u001b[43m(\u001b[49m\u001b[43mf\u001b[49m\u001b[43m,\u001b[49m\u001b[43m \u001b[49m\u001b[38;5;28;43mself\u001b[39;49m\u001b[38;5;241;43m.\u001b[39;49m\u001b[43mengine\u001b[49m\u001b[43m)\u001b[49m\n",
      "File \u001b[1;32mc:\\Users\\cyril\\anaconda3\\envs\\TDA_brain\\Lib\\site-packages\\pandas\\io\\parsers\\readers.py:1705\u001b[0m, in \u001b[0;36mTextFileReader._make_engine\u001b[1;34m(self, f, engine)\u001b[0m\n\u001b[0;32m   1703\u001b[0m     \u001b[38;5;28;01mif\u001b[39;00m \u001b[38;5;124m\"\u001b[39m\u001b[38;5;124mb\u001b[39m\u001b[38;5;124m\"\u001b[39m \u001b[38;5;129;01mnot\u001b[39;00m \u001b[38;5;129;01min\u001b[39;00m mode:\n\u001b[0;32m   1704\u001b[0m         mode \u001b[38;5;241m+\u001b[39m\u001b[38;5;241m=\u001b[39m \u001b[38;5;124m\"\u001b[39m\u001b[38;5;124mb\u001b[39m\u001b[38;5;124m\"\u001b[39m\n\u001b[1;32m-> 1705\u001b[0m \u001b[38;5;28mself\u001b[39m\u001b[38;5;241m.\u001b[39mhandles \u001b[38;5;241m=\u001b[39m \u001b[43mget_handle\u001b[49m\u001b[43m(\u001b[49m\n\u001b[0;32m   1706\u001b[0m \u001b[43m    \u001b[49m\u001b[43mf\u001b[49m\u001b[43m,\u001b[49m\n\u001b[0;32m   1707\u001b[0m \u001b[43m    \u001b[49m\u001b[43mmode\u001b[49m\u001b[43m,\u001b[49m\n\u001b[0;32m   1708\u001b[0m \u001b[43m    \u001b[49m\u001b[43mencoding\u001b[49m\u001b[38;5;241;43m=\u001b[39;49m\u001b[38;5;28;43mself\u001b[39;49m\u001b[38;5;241;43m.\u001b[39;49m\u001b[43moptions\u001b[49m\u001b[38;5;241;43m.\u001b[39;49m\u001b[43mget\u001b[49m\u001b[43m(\u001b[49m\u001b[38;5;124;43m\"\u001b[39;49m\u001b[38;5;124;43mencoding\u001b[39;49m\u001b[38;5;124;43m\"\u001b[39;49m\u001b[43m,\u001b[49m\u001b[43m \u001b[49m\u001b[38;5;28;43;01mNone\u001b[39;49;00m\u001b[43m)\u001b[49m\u001b[43m,\u001b[49m\n\u001b[0;32m   1709\u001b[0m \u001b[43m    \u001b[49m\u001b[43mcompression\u001b[49m\u001b[38;5;241;43m=\u001b[39;49m\u001b[38;5;28;43mself\u001b[39;49m\u001b[38;5;241;43m.\u001b[39;49m\u001b[43moptions\u001b[49m\u001b[38;5;241;43m.\u001b[39;49m\u001b[43mget\u001b[49m\u001b[43m(\u001b[49m\u001b[38;5;124;43m\"\u001b[39;49m\u001b[38;5;124;43mcompression\u001b[39;49m\u001b[38;5;124;43m\"\u001b[39;49m\u001b[43m,\u001b[49m\u001b[43m \u001b[49m\u001b[38;5;28;43;01mNone\u001b[39;49;00m\u001b[43m)\u001b[49m\u001b[43m,\u001b[49m\n\u001b[0;32m   1710\u001b[0m \u001b[43m    \u001b[49m\u001b[43mmemory_map\u001b[49m\u001b[38;5;241;43m=\u001b[39;49m\u001b[38;5;28;43mself\u001b[39;49m\u001b[38;5;241;43m.\u001b[39;49m\u001b[43moptions\u001b[49m\u001b[38;5;241;43m.\u001b[39;49m\u001b[43mget\u001b[49m\u001b[43m(\u001b[49m\u001b[38;5;124;43m\"\u001b[39;49m\u001b[38;5;124;43mmemory_map\u001b[39;49m\u001b[38;5;124;43m\"\u001b[39;49m\u001b[43m,\u001b[49m\u001b[43m \u001b[49m\u001b[38;5;28;43;01mFalse\u001b[39;49;00m\u001b[43m)\u001b[49m\u001b[43m,\u001b[49m\n\u001b[0;32m   1711\u001b[0m \u001b[43m    \u001b[49m\u001b[43mis_text\u001b[49m\u001b[38;5;241;43m=\u001b[39;49m\u001b[43mis_text\u001b[49m\u001b[43m,\u001b[49m\n\u001b[0;32m   1712\u001b[0m \u001b[43m    \u001b[49m\u001b[43merrors\u001b[49m\u001b[38;5;241;43m=\u001b[39;49m\u001b[38;5;28;43mself\u001b[39;49m\u001b[38;5;241;43m.\u001b[39;49m\u001b[43moptions\u001b[49m\u001b[38;5;241;43m.\u001b[39;49m\u001b[43mget\u001b[49m\u001b[43m(\u001b[49m\u001b[38;5;124;43m\"\u001b[39;49m\u001b[38;5;124;43mencoding_errors\u001b[39;49m\u001b[38;5;124;43m\"\u001b[39;49m\u001b[43m,\u001b[49m\u001b[43m \u001b[49m\u001b[38;5;124;43m\"\u001b[39;49m\u001b[38;5;124;43mstrict\u001b[39;49m\u001b[38;5;124;43m\"\u001b[39;49m\u001b[43m)\u001b[49m\u001b[43m,\u001b[49m\n\u001b[0;32m   1713\u001b[0m \u001b[43m    \u001b[49m\u001b[43mstorage_options\u001b[49m\u001b[38;5;241;43m=\u001b[39;49m\u001b[38;5;28;43mself\u001b[39;49m\u001b[38;5;241;43m.\u001b[39;49m\u001b[43moptions\u001b[49m\u001b[38;5;241;43m.\u001b[39;49m\u001b[43mget\u001b[49m\u001b[43m(\u001b[49m\u001b[38;5;124;43m\"\u001b[39;49m\u001b[38;5;124;43mstorage_options\u001b[39;49m\u001b[38;5;124;43m\"\u001b[39;49m\u001b[43m,\u001b[49m\u001b[43m \u001b[49m\u001b[38;5;28;43;01mNone\u001b[39;49;00m\u001b[43m)\u001b[49m\u001b[43m,\u001b[49m\n\u001b[0;32m   1714\u001b[0m \u001b[43m\u001b[49m\u001b[43m)\u001b[49m\n\u001b[0;32m   1715\u001b[0m \u001b[38;5;28;01massert\u001b[39;00m \u001b[38;5;28mself\u001b[39m\u001b[38;5;241m.\u001b[39mhandles \u001b[38;5;129;01mis\u001b[39;00m \u001b[38;5;129;01mnot\u001b[39;00m \u001b[38;5;28;01mNone\u001b[39;00m\n\u001b[0;32m   1716\u001b[0m f \u001b[38;5;241m=\u001b[39m \u001b[38;5;28mself\u001b[39m\u001b[38;5;241m.\u001b[39mhandles\u001b[38;5;241m.\u001b[39mhandle\n",
      "File \u001b[1;32mc:\\Users\\cyril\\anaconda3\\envs\\TDA_brain\\Lib\\site-packages\\pandas\\io\\common.py:863\u001b[0m, in \u001b[0;36mget_handle\u001b[1;34m(path_or_buf, mode, encoding, compression, memory_map, is_text, errors, storage_options)\u001b[0m\n\u001b[0;32m    858\u001b[0m \u001b[38;5;28;01melif\u001b[39;00m \u001b[38;5;28misinstance\u001b[39m(handle, \u001b[38;5;28mstr\u001b[39m):\n\u001b[0;32m    859\u001b[0m     \u001b[38;5;66;03m# Check whether the filename is to be opened in binary mode.\u001b[39;00m\n\u001b[0;32m    860\u001b[0m     \u001b[38;5;66;03m# Binary mode does not support 'encoding' and 'newline'.\u001b[39;00m\n\u001b[0;32m    861\u001b[0m     \u001b[38;5;28;01mif\u001b[39;00m ioargs\u001b[38;5;241m.\u001b[39mencoding \u001b[38;5;129;01mand\u001b[39;00m \u001b[38;5;124m\"\u001b[39m\u001b[38;5;124mb\u001b[39m\u001b[38;5;124m\"\u001b[39m \u001b[38;5;129;01mnot\u001b[39;00m \u001b[38;5;129;01min\u001b[39;00m ioargs\u001b[38;5;241m.\u001b[39mmode:\n\u001b[0;32m    862\u001b[0m         \u001b[38;5;66;03m# Encoding\u001b[39;00m\n\u001b[1;32m--> 863\u001b[0m         handle \u001b[38;5;241m=\u001b[39m \u001b[38;5;28;43mopen\u001b[39;49m\u001b[43m(\u001b[49m\n\u001b[0;32m    864\u001b[0m \u001b[43m            \u001b[49m\u001b[43mhandle\u001b[49m\u001b[43m,\u001b[49m\n\u001b[0;32m    865\u001b[0m \u001b[43m            \u001b[49m\u001b[43mioargs\u001b[49m\u001b[38;5;241;43m.\u001b[39;49m\u001b[43mmode\u001b[49m\u001b[43m,\u001b[49m\n\u001b[0;32m    866\u001b[0m \u001b[43m            \u001b[49m\u001b[43mencoding\u001b[49m\u001b[38;5;241;43m=\u001b[39;49m\u001b[43mioargs\u001b[49m\u001b[38;5;241;43m.\u001b[39;49m\u001b[43mencoding\u001b[49m\u001b[43m,\u001b[49m\n\u001b[0;32m    867\u001b[0m \u001b[43m            \u001b[49m\u001b[43merrors\u001b[49m\u001b[38;5;241;43m=\u001b[39;49m\u001b[43merrors\u001b[49m\u001b[43m,\u001b[49m\n\u001b[0;32m    868\u001b[0m \u001b[43m            \u001b[49m\u001b[43mnewline\u001b[49m\u001b[38;5;241;43m=\u001b[39;49m\u001b[38;5;124;43m\"\u001b[39;49m\u001b[38;5;124;43m\"\u001b[39;49m\u001b[43m,\u001b[49m\n\u001b[0;32m    869\u001b[0m \u001b[43m        \u001b[49m\u001b[43m)\u001b[49m\n\u001b[0;32m    870\u001b[0m     \u001b[38;5;28;01melse\u001b[39;00m:\n\u001b[0;32m    871\u001b[0m         \u001b[38;5;66;03m# Binary mode\u001b[39;00m\n\u001b[0;32m    872\u001b[0m         handle \u001b[38;5;241m=\u001b[39m \u001b[38;5;28mopen\u001b[39m(handle, ioargs\u001b[38;5;241m.\u001b[39mmode)\n",
      "\u001b[1;31mFileNotFoundError\u001b[0m: [Errno 2] No such file or directory: '1000_Functional_Connectomes/Connectivity matrices/Baltimore_5561_connectivity_matrix_file.txt'"
     ]
    }
   ],
   "source": [
    "test=pd.read_csv('1000_Functional_Connectomes/Connectivity matrices/Baltimore_5561_connectivity_matrix_file.txt',header=None)"
   ]
  },
  {
   "cell_type": "code",
   "execution_count": 29,
   "id": "87e5cd03",
   "metadata": {},
   "outputs": [
    {
     "data": {
      "text/plain": [
       "array([[1.        , 0.93792378, 0.77036524, ..., 0.75682517, 0.50836991,\n",
       "        0.51344128],\n",
       "       [0.93792378, 1.        , 0.65504925, ..., 0.77167757, 0.54031502,\n",
       "        0.50148948],\n",
       "       [0.77036524, 0.65504925, 1.        , ..., 0.55830049, 0.50878591,\n",
       "        0.46696959],\n",
       "       ...,\n",
       "       [0.75682517, 0.77167757, 0.55830049, ..., 1.        , 0.62969426,\n",
       "        0.48711349],\n",
       "       [0.50836991, 0.54031502, 0.50878591, ..., 0.62969426, 1.        ,\n",
       "        0.52532611],\n",
       "       [0.51344128, 0.50148948, 0.46696959, ..., 0.48711349, 0.52532611,\n",
       "        1.        ]])"
      ]
     },
     "execution_count": 29,
     "metadata": {},
     "output_type": "execute_result"
    }
   ],
   "source": [
    "test.to_numpy()"
   ]
  },
  {
   "cell_type": "code",
   "execution_count": 32,
   "id": "8cd4a05c",
   "metadata": {},
   "outputs": [
    {
     "name": "stdout",
     "output_type": "stream",
     "text": [
      "[{0}, {1}, {18}, {33}, {56}, {57}, {81}, {17}, {19}, {6}, {7}, {10}, {12}, {16}, {62}, {79}, {32}, {42}, {44}, {45}, {46}, {47}, {48}, {43}, {54}, {49}, {50}, {51}, {55}, {59}, {60}, {61}, {67}, {63}, {66}, {80}, {84}, {85}, {98}, {99}, {0}, {1}, {0, 1}, {0}, {18}, {0, 18}, {0}, {33}, {0, 33}, {0}, {56}, {0, 56}, {0}, {57}, {0, 57}, {0}, {81}, {0, 81}, {1}, {56}, {56, 1}, {1}, {57}, {1, 57}, {1}, {17}, {1, 17}, {1}, {19}, {1, 19}, {18}, {33}, {33, 18}, {33}, {81}, {81, 33}, {33}, {32}, {32, 33}, {56}, {57}, {56, 57}, {56}, {17}, {56, 17}, {56}, {16}, {56, 16}, {57}, {17}, {57, 17}, {57}, {16}, {16, 57}, {81}, {17}, {81, 17}, {81}, {79}, {81, 79}, {81}, {80}, {80, 81}, {17}, {16}, {16, 17}, {17}, {62}, {17, 62}, {17}, {79}, {17, 79}, {6}, {7}, {6, 7}, {10}, {12}, {10, 12}, {42}, {44}, {42, 44}, {42}, {45}, {42, 45}, {42}, {46}, {42, 46}, {42}, {47}, {42, 47}, {42}, {48}, {48, 42}, {44}, {45}, {44, 45}, {44}, {46}, {44, 46}, {44}, {47}, {44, 47}, {44}, {48}, {48, 44}, {45}, {46}, {45, 46}, {45}, {47}, {45, 47}, {45}, {48}, {48, 45}, {45}, {43}, {43, 45}, {46}, {47}, {46, 47}, {46}, {48}, {48, 46}, {47}, {48}, {48, 47}, {47}, {54}, {54, 47}, {48}, {43}, {48, 43}, {49}, {50}, {49, 50}, {49}, {51}, {49, 51}, {51}, {55}, {51, 55}, {59}, {60}, {59, 60}, {59}, {61}, {59, 61}, {59}, {67}, {67, 59}, {60}, {61}, {60, 61}, {61}, {63}, {61, 63}, {67}, {66}, {66, 67}, {84}, {85}, {84, 85}, {98}, {99}, {98, 99}, {0}, {1}, {56}, {0, 1}, {0, 56}, {56, 1}, {0, 1, 56}, {0}, {1}, {57}, {0, 1}, {0, 57}, {1, 57}, {0, 1, 57}, {0}, {18}, {33}, {0, 18}, {0, 33}, {33, 18}, {0, 33, 18}, {0}, {33}, {81}, {0, 33}, {0, 81}, {81, 33}, {0, 33, 81}, {0}, {56}, {57}, {0, 56}, {0, 57}, {56, 57}, {0, 57, 56}, {1}, {56}, {57}, {56, 1}, {1, 57}, {56, 57}, {56, 1, 57}, {1}, {56}, {17}, {56, 1}, {1, 17}, {56, 17}, {56, 1, 17}, {1}, {57}, {17}, {1, 57}, {1, 17}, {57, 17}, {1, 17, 57}, {56}, {57}, {17}, {56, 57}, {56, 17}, {57, 17}, {56, 57, 17}, {56}, {57}, {16}, {56, 57}, {56, 16}, {16, 57}, {56, 57, 16}, {56}, {17}, {16}, {56, 17}, {56, 16}, {16, 17}, {56, 17, 16}, {57}, {17}, {16}, {57, 17}, {16, 57}, {16, 17}, {16, 57, 17}, {81}, {17}, {79}, {81, 17}, {81, 79}, {17, 79}, {81, 17, 79}, {42}, {44}, {45}, {42, 44}, {42, 45}, {44, 45}, {42, 44, 45}, {42}, {44}, {46}, {42, 44}, {42, 46}, {44, 46}, {42, 44, 46}, {42}, {44}, {47}, {42, 44}, {42, 47}, {44, 47}, {42, 44, 47}, {42}, {44}, {48}, {42, 44}, {48, 42}, {48, 44}, {48, 42, 44}, {42}, {45}, {46}, {42, 45}, {42, 46}, {45, 46}, {42, 45, 46}, {42}, {45}, {47}, {42, 45}, {42, 47}, {45, 47}, {42, 45, 47}, {42}, {45}, {48}, {42, 45}, {48, 42}, {48, 45}, {48, 42, 45}, {42}, {46}, {47}, {42, 46}, {42, 47}, {46, 47}, {42, 46, 47}, {42}, {46}, {48}, {42, 46}, {48, 42}, {48, 46}, {48, 42, 46}, {42}, {47}, {48}, {42, 47}, {48, 42}, {48, 47}, {48, 42, 47}, {44}, {45}, {46}, {44, 45}, {44, 46}, {45, 46}, {44, 45, 46}, {44}, {45}, {47}, {44, 45}, {44, 47}, {45, 47}, {44, 45, 47}, {44}, {45}, {48}, {44, 45}, {48, 44}, {48, 45}, {48, 44, 45}, {44}, {46}, {47}, {44, 46}, {44, 47}, {46, 47}, {44, 46, 47}, {44}, {46}, {48}, {44, 46}, {48, 44}, {48, 46}, {48, 44, 46}, {44}, {47}, {48}, {44, 47}, {48, 44}, {48, 47}, {48, 44, 47}, {45}, {46}, {47}, {45, 46}, {45, 47}, {46, 47}, {45, 46, 47}, {45}, {46}, {48}, {45, 46}, {48, 45}, {48, 46}, {48, 45, 46}, {45}, {47}, {48}, {45, 47}, {48, 45}, {48, 47}, {48, 45, 47}, {45}, {48}, {43}, {48, 45}, {43, 45}, {48, 43}, {48, 43, 45}, {46}, {47}, {48}, {46, 47}, {48, 46}, {48, 47}, {48, 46, 47}, {59}, {60}, {61}, {59, 60}, {59, 61}, {60, 61}, {59, 60, 61}]\n"
     ]
    }
   ],
   "source": [
    "correlation_matrix = test.to_numpy()  # Replace with your correlation matrix\n",
    "threshold = 0.9  # Set your threshold\n",
    "max_clique_size = 3  # Set the maximum size of the cliques\n",
    "\n",
    "clique_complex = build_clique_complex(correlation_matrix, threshold, max_clique_size)\n",
    "print(clique_complex)\n"
   ]
  },
  {
   "cell_type": "code",
   "execution_count": 33,
   "id": "4a2a9d7e",
   "metadata": {},
   "outputs": [
    {
     "data": {
      "text/plain": [
       "450"
      ]
     },
     "execution_count": 33,
     "metadata": {},
     "output_type": "execute_result"
    }
   ],
   "source": [
    "len(clique_complex)"
   ]
  },
  {
   "cell_type": "code",
   "execution_count": 58,
   "id": "b4d1f289",
   "metadata": {},
   "outputs": [
    {
     "ename": "TypeError",
     "evalue": "'int' object is not iterable",
     "output_type": "error",
     "traceback": [
      "\u001b[0;31m---------------------------------------------------------------------------\u001b[0m",
      "\u001b[0;31mTypeError\u001b[0m                                 Traceback (most recent call last)",
      "Cell \u001b[0;32mIn[58], line 14\u001b[0m\n\u001b[1;32m     12\u001b[0m list_of_sets[i]\n\u001b[1;32m     13\u001b[0m \u001b[38;5;28;01mfor\u001b[39;00m j \u001b[38;5;129;01min\u001b[39;00m \u001b[38;5;28mrange\u001b[39m(\u001b[38;5;241m0\u001b[39m,\u001b[38;5;28mlen\u001b[39m(list_of_sets)):\n\u001b[0;32m---> 14\u001b[0m     \u001b[38;5;28;01mif\u001b[39;00m \u001b[43mlist_of_sets\u001b[49m\u001b[43m[\u001b[49m\u001b[43mi\u001b[49m\u001b[43m]\u001b[49m\u001b[38;5;241;43m.\u001b[39;49m\u001b[43mintersection\u001b[49m\u001b[43m(\u001b[49m\u001b[38;5;241;43m0\u001b[39;49m\u001b[43m,\u001b[49m\u001b[43mlist_of_sets\u001b[49m\u001b[43m[\u001b[49m\u001b[43mj\u001b[49m\u001b[43m]\u001b[49m\u001b[43m)\u001b[49m \u001b[38;5;241m!=\u001b[39m {}:\n\u001b[1;32m     15\u001b[0m         matrix[i, j] \u001b[38;5;241m=\u001b[39m \u001b[38;5;241m1\u001b[39m\n\u001b[1;32m     16\u001b[0m         \u001b[38;5;66;03m#matrix[j, i] = 1  # Ensure the matrix is symmetric\u001b[39;00m\n",
      "\u001b[0;31mTypeError\u001b[0m: 'int' object is not iterable"
     ]
    }
   ],
   "source": [
    "import numpy as np\n",
    "\n",
    "# Example list of sets\n",
    "list_of_sets = example#clique_complex#[{0}, {1}, {0, 1}, {2}, {0, 2}, {3}, {0, 3}]\n",
    "\n",
    "# Initialize the matrix\n",
    "size = len(list_of_sets)\n",
    "matrix = np.zeros((size, size))\n",
    "\n",
    "# Fill the matrix\n",
    "for i in range(0,len(list_of_sets)):\n",
    "    list_of_sets[i]\n",
    "    #for j in range(0,len(list_of_sets)):\n",
    "     #   if list_of_sets[i].intersection(0,list_of_sets[j]) != {}:\n",
    "      #      matrix[i, j] = 1\n",
    "            #matrix[j, i] = 1  # Ensure the matrix is symmetric\n",
    "\n",
    "matrix\n"
   ]
  },
  {
   "cell_type": "code",
   "execution_count": 41,
   "id": "adcdaff4",
   "metadata": {},
   "outputs": [],
   "source": [
    "example=[{1},{2},{3},{4},{1,2},{2,3},{3,4},{2,4},{2,3,4}]"
   ]
  },
  {
   "cell_type": "code",
   "execution_count": 43,
   "id": "ce76c5aa",
   "metadata": {},
   "outputs": [],
   "source": [
    "knill=[{1},{2},{3},{1,2},{2,3}]"
   ]
  },
  {
   "cell_type": "code",
   "execution_count": 46,
   "id": "0031be27",
   "metadata": {},
   "outputs": [
    {
     "data": {
      "text/plain": [
       "[{1}, {2}, {3}, {4}, {1, 2}, {2, 3}, {3, 4}, {2, 4}, {2, 3, 4}]"
      ]
     },
     "execution_count": 46,
     "metadata": {},
     "output_type": "execute_result"
    }
   ],
   "source": [
    "list_of_sets"
   ]
  },
  {
   "cell_type": "code",
   "execution_count": 53,
   "id": "ca601058",
   "metadata": {},
   "outputs": [
    {
     "data": {
      "text/plain": [
       "{1}"
      ]
     },
     "execution_count": 53,
     "metadata": {},
     "output_type": "execute_result"
    }
   ],
   "source": [
    "{1,2}.intersection({1})"
   ]
  },
  {
   "cell_type": "code",
   "execution_count": null,
   "id": "3ae1099f",
   "metadata": {},
   "outputs": [],
   "source": []
  }
 ],
 "metadata": {
  "kernelspec": {
   "display_name": "Python 3 (ipykernel)",
   "language": "python",
   "name": "python3"
  },
  "language_info": {
   "codemirror_mode": {
    "name": "ipython",
    "version": 3
   },
   "file_extension": ".py",
   "mimetype": "text/x-python",
   "name": "python",
   "nbconvert_exporter": "python",
   "pygments_lexer": "ipython3",
   "version": "3.12.1"
  }
 },
 "nbformat": 4,
 "nbformat_minor": 5
}
