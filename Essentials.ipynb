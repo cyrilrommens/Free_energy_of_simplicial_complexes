{
 "cells": [
  {
   "cell_type": "markdown",
   "metadata": {},
   "source": [
    "Compute only $\\chi$ and F from data to get time frame of computing the essentials"
   ]
  },
  {
   "cell_type": "code",
   "execution_count": 39,
   "metadata": {},
   "outputs": [],
   "source": [
    "# Import necessary libraries\n",
    "import numpy as np\n",
    "import glob\n",
    "\n",
    "# Import external background functions\n",
    "%run background_functions.py"
   ]
  },
  {
   "cell_type": "code",
   "execution_count": 2,
   "metadata": {},
   "outputs": [],
   "source": [
    "# Import HCP data\n",
    "# Importing all matrices with Numpy\n",
    "matrices = [np.genfromtxt(file) for file in glob.glob('./1000_Functional_Connectomes/Connectivity matrices/*_matrix_file.txt')]\n",
    "\n",
    "# Generate an averaged matrix\n",
    "MatAv = np.zeros(shape=matrices[0].shape)\n",
    "for matrix in matrices:\n",
    "    MatAv += matrix\n",
    "averaged_matrix = MatAv/len(matrices)"
   ]
  },
  {
   "cell_type": "code",
   "execution_count": 3,
   "metadata": {},
   "outputs": [],
   "source": [
    "# Define desired settings\n",
    "cutoff=0.4 # Value between 0 and 1. Values below this value are set to zero. Becomes obsolete after including phase randomisation\n",
    "max_dim=4\n",
    "M = averaged_matrix"
   ]
  },
  {
   "cell_type": "code",
   "execution_count": 40,
   "metadata": {},
   "outputs": [
    {
     "name": "stdout",
     "output_type": "stream",
     "text": [
      "CPU times: total: 0 ns\n",
      "Wall time: 8.72 ms\n"
     ]
    }
   ],
   "source": [
    "# Compute the clique complex and Euler Characteristic\n",
    "%time euler_characteristic, clique_complex = compute_euler(M,cutoff,max_dim)"
   ]
  },
  {
   "cell_type": "code",
   "execution_count": 6,
   "metadata": {},
   "outputs": [
    {
     "name": "stdout",
     "output_type": "stream",
     "text": [
      "CPU times: total: 1.03 s\n",
      "Wall time: 2.04 s\n"
     ]
    }
   ],
   "source": [
    "# Generate the connectivity matrix L from the clique complex\n",
    "%time inverse_connectivity_matrix = generate_inverse_connectivity_matrix(clique_complex)"
   ]
  },
  {
   "cell_type": "code",
   "execution_count": 31,
   "metadata": {},
   "outputs": [
    {
     "name": "stderr",
     "output_type": "stream",
     "text": [
      "C:\\Users\\cyril\\Documents\\GitHub\\Free_energy_of_simplicial_complexes\\background_functions.py:34: RuntimeWarning: overflow encountered in exp\n",
      "  if new_value < current_value or np.random.rand() > np.exp((new_value - current_value) / temperature):\n"
     ]
    },
    {
     "name": "stdout",
     "output_type": "stream",
     "text": [
      "CPU times: total: 11.3 s\n",
      "Wall time: 26.6 s\n"
     ]
    }
   ],
   "source": [
    "# Compute the Helmholtz free energy\n",
    "%time U_min, p_Umin, S_max, p_Smax, Free_energy = free_energy(inverse_connectivity_matrix, 1)"
   ]
  }
 ],
 "metadata": {
  "kernelspec": {
   "display_name": "Python 3",
   "language": "python",
   "name": "python3"
  },
  "language_info": {
   "codemirror_mode": {
    "name": "ipython",
    "version": 3
   },
   "file_extension": ".py",
   "mimetype": "text/x-python",
   "name": "python",
   "nbconvert_exporter": "python",
   "pygments_lexer": "ipython3",
   "version": "3.9.4"
  }
 },
 "nbformat": 4,
 "nbformat_minor": 2
}
