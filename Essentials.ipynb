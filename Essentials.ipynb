{
 "cells": [
  {
   "cell_type": "markdown",
   "metadata": {},
   "source": [
    "Compute only $\\chi$ and F from data to get time frame of computing the essentials"
   ]
  },
  {
   "cell_type": "code",
   "execution_count": 56,
   "metadata": {},
   "outputs": [],
   "source": [
    "# Import necessary libraries\n",
    "import numpy as np\n",
    "import glob\n",
    "\n",
    "# Import external background functions\n",
    "%run background_functions.py"
   ]
  },
  {
   "cell_type": "code",
   "execution_count": 57,
   "metadata": {},
   "outputs": [],
   "source": [
    "# Import HCP data\n",
    "# Importing all matrices with Numpy\n",
    "matrices = [np.genfromtxt(file) for file in glob.glob('./1000_Functional_Connectomes/Connectivity matrices/*_matrix_file.txt')]\n",
    "\n",
    "# Generate an averaged matrix\n",
    "MatAv = np.zeros(shape=matrices[0].shape)\n",
    "for matrix in matrices:\n",
    "    MatAv += matrix\n",
    "averaged_matrix = MatAv/len(matrices)"
   ]
  },
  {
   "cell_type": "code",
   "execution_count": 58,
   "metadata": {},
   "outputs": [],
   "source": [
    "# Define desired settings\n",
    "cutoff=0.4 # Value between 0 and 1. Values below this value are set to zero. Becomes obsolete after including phase randomisation\n",
    "max_dim=4\n",
    "M = averaged_matrix"
   ]
  },
  {
   "cell_type": "code",
   "execution_count": 59,
   "metadata": {},
   "outputs": [
    {
     "name": "stdout",
     "output_type": "stream",
     "text": [
      "CPU times: total: 15.6 ms\n",
      "Wall time: 42.9 ms\n"
     ]
    }
   ],
   "source": [
    "# Compute the clique complex and Euler Characteristic\n",
    "%time euler_result = compute_euler(M,cutoff,max_dim)\n",
    "\n",
    "euler_characteristic = euler_result[0]\n",
    "clique_complex = euler_result[1]"
   ]
  },
  {
   "cell_type": "code",
   "execution_count": 60,
   "metadata": {},
   "outputs": [
    {
     "name": "stdout",
     "output_type": "stream",
     "text": [
      "CPU times: total: 1.61 s\n",
      "Wall time: 1.35 s\n"
     ]
    }
   ],
   "source": [
    "# Generate the connectivity matrix L from the clique complex\n",
    "%time inverse_connectivity_matrix = generate_inverse_connectivity_matrix(clique_complex)"
   ]
  },
  {
   "cell_type": "code",
   "execution_count": 61,
   "metadata": {},
   "outputs": [
    {
     "name": "stderr",
     "output_type": "stream",
     "text": [
      "C:\\Users\\cyril\\Documents\\GitHub\\Free_energy_of_simplicial_complexes\\background_functions.py:34: RuntimeWarning: overflow encountered in exp\n",
      "  \n"
     ]
    },
    {
     "name": "stdout",
     "output_type": "stream",
     "text": [
      "CPU times: total: 14.5 s\n",
      "Wall time: 25.6 s\n"
     ]
    }
   ],
   "source": [
    "# Compute the Helmholtz free energy\n",
    "%time free_energy = free_energy(inverse_connectivity_matrix, 1)"
   ]
  }
 ],
 "metadata": {
  "kernelspec": {
   "display_name": "Python 3",
   "language": "python",
   "name": "python3"
  },
  "language_info": {
   "codemirror_mode": {
    "name": "ipython",
    "version": 3
   },
   "file_extension": ".py",
   "mimetype": "text/x-python",
   "name": "python",
   "nbconvert_exporter": "python",
   "pygments_lexer": "ipython3",
   "version": "0.0.0"
  }
 },
 "nbformat": 4,
 "nbformat_minor": 2
}
