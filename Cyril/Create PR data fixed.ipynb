{
 "cells": [
  {
   "cell_type": "code",
   "execution_count": 1,
   "id": "3ca509ae",
   "metadata": {},
   "outputs": [
    {
     "name": "stderr",
     "output_type": "stream",
     "text": [
      "C:\\Users\\cyril\\AppData\\Local\\Temp\\ipykernel_3880\\2742675143.py:1: DeprecationWarning: \n",
      "Pyarrow will become a required dependency of pandas in the next major release of pandas (pandas 3.0),\n",
      "(to allow more performant data types, such as the Arrow string type, and better interoperability with other libraries)\n",
      "but was not found to be installed on your system.\n",
      "If this would cause problems for you,\n",
      "please provide us feedback at https://github.com/pandas-dev/pandas/issues/54466\n",
      "        \n",
      "  import pandas as pd\n"
     ]
    }
   ],
   "source": [
    "import pandas as pd\n",
    "import numpy as np\n",
    "import glob\n",
    "import numpy as np"
   ]
  },
  {
   "cell_type": "code",
   "execution_count": 2,
   "id": "d581b7fc",
   "metadata": {},
   "outputs": [],
   "source": [
    "def phase_randomization(time_series):\n",
    "    # Compute the Fourier transform of the time series\n",
    "    fourier_transform = np.fft.fft(time_series)\n",
    "\n",
    "    # Get the phases of the Fourier transform\n",
    "    phases = np.angle(fourier_transform)\n",
    "\n",
    "    # Shuffle the phases randomly\n",
    "    np.random.shuffle(phases)\n",
    "\n",
    "    # Apply the shuffled phases to the Fourier transform\n",
    "    randomized_fourier_transform = np.abs(fourier_transform) * np.exp(1j * phases)\n",
    "\n",
    "    # Reconstruct the randomized time series\n",
    "    randomized_time_series = np.fft.ifft(randomized_fourier_transform)\n",
    "\n",
    "    # Return the randomized time series\n",
    "    return randomized_time_series.real\n",
    "\n",
    "def phase_randomization_dataframe_fixed(df):\n",
    "    df_dropped = df#.drop(df.columns[-1], axis=1)  # Drop the last column from the dataframe\n",
    "\n",
    "    ##randomized_df = pd.DataFrame()  # Create an empty dataframe to store the randomized data\n",
    "    L=[]\n",
    "    for _, row in df_dropped.iterrows():\n",
    "        randomized_row = phase_randomization(row.values)\n",
    "        L.append(randomized_row)# Apply phase randomization to each row\n",
    "        #randomized_df = randomized_df.concat(pd.Series(randomized_row), ignore_index=True)  # Add randomized row to the dataframe\n",
    "    #randomized_df.columns = df_dropped.columns  # Assign the column names to the randomized dataframe\n",
    "    #randomized_df=pd.concat(L)\n",
    "    return pd.DataFrame(L)#randomized_df"
   ]
  },
  {
   "cell_type": "code",
   "execution_count": 8,
   "id": "c21a8bcb-88d0-49d3-a798-c043d12c7a57",
   "metadata": {},
   "outputs": [],
   "source": [
    "path=glob.glob(\"Young_Adults_time_series/*.txt*\")"
   ]
  },
  {
   "cell_type": "code",
   "execution_count": null,
   "id": "4cc3cec6",
   "metadata": {},
   "outputs": [],
   "source": [
    "df=pd.read_csv(path[0],sep='\\t',header=None)"
   ]
  },
  {
   "cell_type": "code",
   "execution_count": 7,
   "id": "5c6fdeff",
   "metadata": {},
   "outputs": [],
   "source": [
    "df=pd.read_csv('100206_rfMRI_REST1_Atlas_MSMAll_hp2000_clean_Schaefer2018_100Parcels_7Networks_Tian_Subcortex_S1_3T.txt',sep='\\t',header=None)"
   ]
  },
  {
   "cell_type": "code",
   "execution_count": 8,
   "id": "0f358aa0-7769-4857-bfb2-14304ea13e23",
   "metadata": {},
   "outputs": [],
   "source": [
    "df = phase_randomization_dataframe_fixed(df)"
   ]
  },
  {
   "cell_type": "code",
   "execution_count": 12,
   "id": "c4f784fd-79b7-41bc-82ae-b8055df0c0b2",
   "metadata": {},
   "outputs": [],
   "source": [
    "df.to_csv('PR_test.txt', sep='\\t', index=0, header=0)"
   ]
  },
  {
   "cell_type": "code",
   "execution_count": 13,
   "id": "4c7391cc-7a84-4da1-a430-f74ee01f6949",
   "metadata": {},
   "outputs": [
    {
     "data": {
      "text/plain": [
       "(116, 2400)"
      ]
     },
     "execution_count": 13,
     "metadata": {},
     "output_type": "execute_result"
    }
   ],
   "source": [
    "np.shape(df)"
   ]
  },
  {
   "cell_type": "code",
   "execution_count": 36,
   "id": "7d4da044",
   "metadata": {},
   "outputs": [],
   "source": [
    "for file in path:\n",
    "    df=pd.read_csv(file,sep='\\t',header=None)\n",
    "    phase_randomization_dataframe_fixed(df)\n",
    "    df.to_csv('Young_Adults_time_series_Phase_Random/PR_'+file.split(\"/\")[-1])"
   ]
  },
  {
   "cell_type": "code",
   "execution_count": null,
   "id": "c8ba9288",
   "metadata": {},
   "outputs": [],
   "source": []
  }
 ],
 "metadata": {
  "kernelspec": {
   "display_name": "Python 3 (ipykernel)",
   "language": "python",
   "name": "python3"
  },
  "language_info": {
   "codemirror_mode": {
    "name": "ipython",
    "version": 3
   },
   "file_extension": ".py",
   "mimetype": "text/x-python",
   "name": "python",
   "nbconvert_exporter": "python",
   "pygments_lexer": "ipython3",
   "version": "3.9.4"
  }
 },
 "nbformat": 4,
 "nbformat_minor": 5
}
