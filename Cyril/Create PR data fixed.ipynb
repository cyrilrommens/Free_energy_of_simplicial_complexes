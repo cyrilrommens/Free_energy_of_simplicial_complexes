{
 "cells": [
  {
   "cell_type": "code",
   "execution_count": 14,
   "id": "3ca509ae",
   "metadata": {},
   "outputs": [],
   "source": [
    "import pandas as pd\n",
    "import numpy as np\n",
    "import glob\n",
    "import numpy as np"
   ]
  },
  {
   "cell_type": "code",
   "execution_count": 15,
   "id": "d581b7fc",
   "metadata": {},
   "outputs": [],
   "source": [
    "def phase_randomization(time_series):\n",
    "    # Compute the Fourier transform of the time series\n",
    "    fourier_transform = np.fft.fft(time_series)\n",
    "\n",
    "    # Get the phases of the Fourier transform\n",
    "    phases = np.angle(fourier_transform)\n",
    "\n",
    "    # Shuffle the phases randomly\n",
    "    np.random.shuffle(phases)\n",
    "\n",
    "    # Apply the shuffled phases to the Fourier transform\n",
    "    randomized_fourier_transform = np.abs(fourier_transform) * np.exp(1j * phases)\n",
    "\n",
    "    # Reconstruct the randomized time series\n",
    "    randomized_time_series = np.fft.ifft(randomized_fourier_transform)\n",
    "\n",
    "    # Return the randomized time series\n",
    "    return randomized_time_series.real\n",
    "\n",
    "def phase_randomization_dataframe_fixed(df):\n",
    "    df_dropped = df#.drop(df.columns[-1], axis=1)  # Drop the last column from the dataframe\n",
    "    ##randomized_df = pd.DataFrame()  # Create an empty dataframe to store the randomized data\n",
    "    L=[]\n",
    "    for _, row in df_dropped.iterrows():\n",
    "        randomized_row = phase_randomization(row.values)\n",
    "        L.append(randomized_row)# Apply phase randomization to each row\n",
    "        #randomized_df = randomized_df.concat(pd.Series(randomized_row), ignore_index=True)  # Add randomized row to the dataframe\n",
    "    #randomized_df.columns = df_dropped.columns  # Assign the column names to the randomized dataframe\n",
    "    #randomized_df=pd.concat(L)\n",
    "    return pd.DataFrame(L)#randomized_df"
   ]
  },
  {
   "cell_type": "code",
   "execution_count": 30,
   "id": "3b6b39f3",
   "metadata": {},
   "outputs": [],
   "source": [
    "# Specify the folder path\n",
    "data_folder = r'C:\\Users\\cyril\\Documents\\MSc Physics and Astronomy\\Thesis\\GitHub\\Young_Adults_time_series'\n",
    "\n",
    "# Use glob to match files within the folder\n",
    "path = glob.glob(data_folder + '/*REST1*.txt')  # You can adjust the pattern as needed"
   ]
  },
  {
   "cell_type": "code",
   "execution_count": 33,
   "id": "af08b4ef",
   "metadata": {},
   "outputs": [
    {
     "name": "stdout",
     "output_type": "stream",
     "text": [
      "C:\\Users\\cyril\\Documents\\MSc Physics and Astronomy\\Thesis\\GitHub\\Young_Adults_time_series\\100206_rfMRI_REST1_Atlas_MSMAll_hp2000_clean_Schaefer2018_100Parcels_7Networks_Tian_Subcortex_S1_3T.txt\n",
      "C:\\Users\\cyril\\Documents\\MSc Physics and Astronomy\\Thesis\\GitHub\\Young_Adults_time_series\\100307_rfMRI_REST1_Atlas_MSMAll_hp2000_clean_Schaefer2018_100Parcels_7Networks_Tian_Subcortex_S1_3T.txt\n",
      "C:\\Users\\cyril\\Documents\\MSc Physics and Astronomy\\Thesis\\GitHub\\Young_Adults_time_series\\100408_rfMRI_REST1_Atlas_MSMAll_hp2000_clean_Schaefer2018_100Parcels_7Networks_Tian_Subcortex_S1_3T.txt\n"
     ]
    }
   ],
   "source": [
    "for file in path[:3]:\n",
    "    print(file)\n",
    "    df=pd.read_csv(file,sep='\\t',header=None)\n",
    "    df.to_csv('TimeSeries\\REST1\\REAL_'+file[-103:], sep='\\t', index=0, header=0)\n",
    "    df = phase_randomization_dataframe_fixed(df)\n",
    "    df.to_csv('TimeSeries_PR\\REST1\\PR_'+file[-103:], sep='\\t', index=0, header=0)"
   ]
  }
 ],
 "metadata": {
  "kernelspec": {
   "display_name": "Python 3 (ipykernel)",
   "language": "python",
   "name": "python3"
  },
  "language_info": {
   "codemirror_mode": {
    "name": "ipython",
    "version": 3
   },
   "file_extension": ".py",
   "mimetype": "text/x-python",
   "name": "python",
   "nbconvert_exporter": "python",
   "pygments_lexer": "ipython3",
   "version": "3.9.4"
  }
 },
 "nbformat": 4,
 "nbformat_minor": 5
}
