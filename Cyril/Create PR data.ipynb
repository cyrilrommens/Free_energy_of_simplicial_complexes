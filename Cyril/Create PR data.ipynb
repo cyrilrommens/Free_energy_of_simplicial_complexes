{
 "cells": [
  {
   "cell_type": "code",
   "execution_count": 1,
   "id": "3ca509ae",
   "metadata": {},
   "outputs": [],
   "source": [
    "import pandas as pd\n",
    "import numpy as np\n",
    "import glob\n",
    "import numpy as np"
   ]
  },
  {
   "cell_type": "code",
   "execution_count": 2,
   "id": "d581b7fc",
   "metadata": {},
   "outputs": [],
   "source": [
    "def phase_randomization(time_series):\n",
    "    # Compute the Fourier transform of the time series\n",
    "    fourier_transform = np.fft.fft(time_series)\n",
    "\n",
    "    # Get the phases of the Fourier transform\n",
    "    phases = np.angle(fourier_transform)\n",
    "\n",
    "    # Shuffle the phases randomly\n",
    "    np.random.shuffle(phases)\n",
    "\n",
    "    # Apply the shuffled phases to the Fourier transform\n",
    "    randomized_fourier_transform = np.abs(fourier_transform) * np.exp(1j * phases)\n",
    "\n",
    "    # Reconstruct the randomized time series\n",
    "    randomized_time_series = np.fft.ifft(randomized_fourier_transform)\n",
    "\n",
    "    # Return the randomized time series\n",
    "    return randomized_time_series.real\n",
    "\n",
    "def phase_randomization_dataframe(df):\n",
    "    df_dropped = df.drop(df.columns[-1], axis=1)  # Drop the last column from the dataframe\n",
    "\n",
    "    randomized_df = pd.DataFrame()  # Create an empty dataframe to store the randomized data\n",
    "    for _, row in df_dropped.iterrows():\n",
    "        randomized_row = phase_randomization(row.values)  # Apply phase randomization to each row\n",
    "        randomized_df = randomized_df.append(pd.Series(randomized_row), ignore_index=True)  # Add randomized row to the dataframe\n",
    "    randomized_df.columns = df_dropped.columns  # Assign the column names to the randomized dataframe\n",
    "    return randomized_df"
   ]
  },
  {
   "cell_type": "code",
   "execution_count": 3,
   "id": "ed8d3642",
   "metadata": {},
   "outputs": [],
   "source": [
    "def phase_randomization_dataframe(df):\n",
    "    #\n",
    "    randomized_series = []  # Use a list to store the randomized data\n",
    "\n",
    "    for _, row in df.iterrows():\n",
    "        randomized_row = phase_randomization(row.values)\n",
    "        randomized_series.append(pd.Series(randomized_row))  # Add randomized row to the list\n",
    "\n",
    "    # Use concat to combine all the series into a dataframe\n",
    "    randomized_df = pd.concat(randomized_series, axis=1).transpose()\n",
    "    randomized_df.columns = df.columns  # Assign the column names to the randomized dataframe\n",
    "    return randomized_df"
   ]
  },
  {
   "cell_type": "code",
   "execution_count": 4,
   "id": "1898eaee",
   "metadata": {},
   "outputs": [
    {
     "name": "stdout",
     "output_type": "stream",
     "text": [
      "\u001b[30m\u001b[43m@eaDir\u001b[m\u001b[m/\r\n",
      "\u001b[30m\u001b[43m@tmp\u001b[m\u001b[m/\r\n",
      "\u001b[31mCreate PR data.ipynb\u001b[m\u001b[m*\r\n",
      "\u001b[30m\u001b[43mData_EllenCarbo\u001b[m\u001b[m/\r\n",
      "\u001b[30m\u001b[43mFelix_Roel_Fernando\u001b[m\u001b[m/\r\n",
      "\u001b[30m\u001b[43mHCP-rfMRI-repository-main\u001b[m\u001b[m/\r\n",
      "\u001b[30m\u001b[43mHCPAgingDerivatives\u001b[m\u001b[m/\r\n",
      "\u001b[30m\u001b[43mHCPYoungAdultDerivatives\u001b[m\u001b[m/\r\n",
      "\u001b[30m\u001b[43mHCP_matrices\u001b[m\u001b[m/\r\n",
      "\u001b[30m\u001b[43mHOI_Young_Adults\u001b[m\u001b[m/\r\n",
      "\u001b[30m\u001b[43mMEG\u001b[m\u001b[m/\r\n",
      "\u001b[30m\u001b[43mPropofol_higherorder\u001b[m\u001b[m/\r\n",
      "\u001b[30m\u001b[43mQuinta_final.screenflow\u001b[m\u001b[m/\r\n",
      "\u001b[31mSamsung Portable SSD SW for Android.txt\u001b[m\u001b[m*\r\n",
      "\u001b[31mSamsungPortableSSD_Setup_Mac_1.0.pkg\u001b[m\u001b[m*\r\n",
      "\u001b[31mSamsungPortableSSD_Setup_Win_1.0.exe\u001b[m\u001b[m*\r\n",
      "\u001b[30m\u001b[43mSystem Volume Information\u001b[m\u001b[m/\r\n",
      "\u001b[31mUntitled.ipynb\u001b[m\u001b[m*\r\n",
      "\u001b[30m\u001b[43mpropofol_EEG\u001b[m\u001b[m/\r\n",
      "\u001b[30m\u001b[43msoftware\u001b[m\u001b[m/\r\n",
      "\u001b[30m\u001b[43mstocks\u001b[m\u001b[m/\r\n"
     ]
    }
   ],
   "source": [
    "ls"
   ]
  },
  {
   "cell_type": "code",
   "execution_count": 13,
   "id": "c89e7242",
   "metadata": {},
   "outputs": [],
   "source": [
    "path=glob.glob('HCPYoungAdultDerivatives/*/*/*/*/*Schaefer2018*100P*.txt')"
   ]
  },
  {
   "cell_type": "code",
   "execution_count": 14,
   "id": "d9b9a590",
   "metadata": {},
   "outputs": [
    {
     "data": {
      "text/plain": [
       "'HCPYoungAdultDerivatives/TimeSeries/100307/rfMRI_REST1/Schaefer2018_100Parcels_7Networks_Tian_Subcortex_S1_3T/100307_rfMRI_REST1_Atlas_MSMAll_hp2000_clean_Schaefer2018_100Parcels_7Networks_Tian_Subcortex_S1_3T.txt'"
      ]
     },
     "execution_count": 14,
     "metadata": {},
     "output_type": "execute_result"
    }
   ],
   "source": [
    "path[0]"
   ]
  },
  {
   "cell_type": "code",
   "execution_count": 32,
   "id": "5c6fdeff",
   "metadata": {},
   "outputs": [],
   "source": [
    "df=pd.read_csv(path[0],sep='\\t',header=None)"
   ]
  },
  {
   "cell_type": "code",
   "execution_count": 37,
   "id": "7d4da044",
   "metadata": {},
   "outputs": [],
   "source": [
    "for file in path:\n",
    "    df=pd.read_csv(file,sep='\\t',header=None)\n",
    "    phase_randomization_dataframe(df)\n",
    "    df.to_csv('PR_HCP/PR'+file[-103:])"
   ]
  },
  {
   "cell_type": "code",
   "execution_count": 36,
   "id": "7e0a7595",
   "metadata": {},
   "outputs": [],
   "source": [
    "df.to_csv('PR_HCP/PR'+path[0][-103:])"
   ]
  },
  {
   "cell_type": "code",
   "execution_count": null,
   "id": "c8ba9288",
   "metadata": {},
   "outputs": [],
   "source": []
  }
 ],
 "metadata": {
  "kernelspec": {
   "display_name": "Python 3 (ipykernel)",
   "language": "python",
   "name": "python3"
  },
  "language_info": {
   "codemirror_mode": {
    "name": "ipython",
    "version": 3
   },
   "file_extension": ".py",
   "mimetype": "text/x-python",
   "name": "python",
   "nbconvert_exporter": "python",
   "pygments_lexer": "ipython3",
   "version": "3.9.12"
  }
 },
 "nbformat": 4,
 "nbformat_minor": 5
}
