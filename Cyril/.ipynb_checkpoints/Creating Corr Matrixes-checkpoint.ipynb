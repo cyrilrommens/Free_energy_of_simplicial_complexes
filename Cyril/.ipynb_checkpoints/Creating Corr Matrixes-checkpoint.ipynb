{
 "cells": [
  {
   "cell_type": "code",
   "execution_count": 22,
   "id": "b4b51b9e",
   "metadata": {},
   "outputs": [],
   "source": [
    "import pandas as pd\n",
    "import glob\n",
    "import numpy as np"
   ]
  },
  {
   "cell_type": "code",
   "execution_count": 23,
   "id": "7046c030",
   "metadata": {},
   "outputs": [],
   "source": [
    "path='PR_HCP/*'\n",
    "files=glob.glob(path)"
   ]
  },
  {
   "cell_type": "code",
   "execution_count": null,
   "id": "b214adb0",
   "metadata": {},
   "outputs": [],
   "source": [
    "for filename in files:\n",
    "    df=pd.read_csv(filename)\n",
    "    matrix=df.T.corr().to_numpy()\n",
    "    np.savetxt('PR_CorreMatrixes/Corr_matrix_'+filename.split('/')[-1],matrix)\n",
    "    "
   ]
  },
  {
   "cell_type": "code",
   "execution_count": null,
   "id": "cc1b137e",
   "metadata": {},
   "outputs": [],
   "source": []
  }
 ],
 "metadata": {
  "kernelspec": {
   "display_name": "Python 3 (ipykernel)",
   "language": "python",
   "name": "python3"
  },
  "language_info": {
   "codemirror_mode": {
    "name": "ipython",
    "version": 3
   },
   "file_extension": ".py",
   "mimetype": "text/x-python",
   "name": "python",
   "nbconvert_exporter": "python",
   "pygments_lexer": "ipython3",
   "version": "3.9.12"
  }
 },
 "nbformat": 4,
 "nbformat_minor": 5
}
