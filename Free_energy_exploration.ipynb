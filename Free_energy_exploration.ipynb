{
 "cells": [
  {
   "cell_type": "markdown",
   "metadata": {},
   "source": [
    "# Free energy computation from real data\n",
    "*Cyril Rommens, s12495719, masterproject MSc Physics and Astronomy: Computational Physics of Complex Systems*\n",
    "\n",
    "**Continue with free energy exploration**\n",
    "To get the free energy from these functionals we need to implement $F(p) = U(p) - \\Beta S(p)$, where $F(p)$ is the Helmholtz free energy, $U(p)$ the minimum internal energy, $S(p)$ the maximum Shannon entropy and $\\Beta = \\frac{1}{kT}$ the temperature relation. We want to compare the dynamics of the functionals, while keeping the temperature the same, so we can set $\\Beta$ fixed at some constant. "
   ]
  },
  {
   "cell_type": "markdown",
   "metadata": {},
   "source": [
    "**Import libraries and functions**"
   ]
  },
  {
   "cell_type": "code",
   "execution_count": 1,
   "metadata": {},
   "outputs": [],
   "source": [
    "# Basic data manipulation and visualisation libraries\n",
    "import numpy as np\n",
    "import matplotlib.pyplot as plt\n",
    "import glob\n",
    "import numpy as np\n",
    "from scipy.optimize import minimize"
   ]
  },
  {
   "cell_type": "code",
   "execution_count": 6,
   "metadata": {},
   "outputs": [],
   "source": [
    "# Import optimisation background functions\n",
    "%run functionals.py"
   ]
  },
  {
   "cell_type": "markdown",
   "metadata": {},
   "source": [
    "**Import data**\n",
    "\n",
    "Generate an average connectivity matrix from the whole human connectome dataset."
   ]
  },
  {
   "cell_type": "code",
   "execution_count": 2,
   "metadata": {},
   "outputs": [],
   "source": [
    "# Importing all matrices with Numpy\n",
    "matrices = [np.genfromtxt(file) for file in glob.glob('./1000_Functional_Connectomes/Connectivity matrices/*_matrix_file.txt')]\n",
    "\n",
    "# Generate an averaged matrix\n",
    "MatAv = np.zeros(shape=matrices[0].shape)\n",
    "for matrix in matrices:\n",
    "    MatAv += matrix\n",
    "averaged_matrix = MatAv/len(matrices)"
   ]
  },
  {
   "cell_type": "markdown",
   "metadata": {},
   "source": [
    "**Choose which data to use**"
   ]
  },
  {
   "cell_type": "code",
   "execution_count": 30,
   "metadata": {},
   "outputs": [],
   "source": [
    "data = matrices[:10]"
   ]
  },
  {
   "cell_type": "code",
   "execution_count": 31,
   "metadata": {},
   "outputs": [
    {
     "data": {
      "image/png": "[encoded data removed]",
      "text/plain": [
       "<Figure size 640x480 with 1 Axes>"
      ]
     },
     "metadata": {},
     "output_type": "display_data"
    }
   ],
   "source": [
    "# Compute free energy vs time/subjects\n",
    "energy_list = []\n",
    "\n",
    "for i in range(len(data)):\n",
    "    energy = free_energy(data[i], 1)\n",
    "    energy_list.append(energy)\n",
    "\n",
    "plt.scatter(list(range(len(data))), energy_list)\n",
    "plt.show()"
   ]
  },
  {
   "cell_type": "markdown",
   "metadata": {},
   "source": [
    "Try to sort the data to age"
   ]
  },
  {
   "cell_type": "code",
   "execution_count": 72,
   "metadata": {},
   "outputs": [
    {
     "name": "stdout",
     "output_type": "stream",
     "text": [
      "Original Ages: [23.   22.   36.   28.   22.   19.   21.   21.   21.   21.   29.   22.\n",
      " 20.   19.   21.   21.   22.   23.   19.   38.   31.   35.   26.   25.\n",
      " 28.   23.   22.   23.   32.   20.   28.   21.   24.   25.   22.   24.\n",
      " 25.   26.   27.   24.   31.   23.   25.   21.   23.   23.   42.   34.\n",
      " 22.   20.   38.   30.   26.   26.   24.   28.   23.   25.   24.   34.\n",
      " 31.   26.   23.   44.   27.   34.   27.   24.   33.   26.   28.   26.\n",
      " 28.   26.   26.   29.   31.   37.   37.   32.   39.   28.   29.   20.\n",
      " 22.   20.   20.   20.   18.   20.   22.   19.   20.   20.   21.   22.\n",
      " 22.   24.   22.   22.   24.   25.   21.   22.   20.   20.   20.   19.\n",
      " 18.   20.   21.   19.   23.   20.   23.   22.   23.   23.   21.   21.\n",
      " 21.   18.   20.   20.   26.   18.   22.   20.   21.   19.   24.   20.\n",
      " 22.   26.   18.   22.   21.   24.   24.   21.   20.   22.   20.   19.\n",
      " 19.   21.   21.   25.   22.   20.   22.   26.   18.   23.   21.   21.\n",
      " 23.   19.   21.   26.   19.   24.   20.   23.   20.   19.   24.   21.\n",
      " 25.   26.   22.   24.   20.   19.   21.   20.   19.   23.   21.   19.\n",
      " 22.   21.   21.   20.   22.   19.   19.   20.   19.   20.   22.   20.\n",
      " 21.   21.   21.   20.   22.   24.   21.   21.   20.   20.   19.   18.\n",
      " 20.   21.   19.   20.   21.   19.   23.   24.   21.   24.   20.   21.\n",
      " 21.   23.   21.   21.   22.   21.   21.   20.   20.   23.   22.   22.\n",
      " 20.   23.   19.   19.   25.   23.   24.   20.   20.   21.   21.   22.\n",
      " 20.   21.   24.   19.   22.   21.   25.   23.   23.   22.   21.   21.\n",
      " 18.   22.   23.   20.   20.   20.   22.   24.   21.   21.   21.   21.\n",
      " 18.   23.   19.   21.   20.   20.   21.   19.   21.   23.   21.   30.\n",
      " 29.   57.   45.   33.   52.   51.   56.   56.   55.   24.   29.   39.\n",
      " 48.   30.   60.   28.   57.   28.   41.   43.   53.   54.   57.   33.\n",
      " 39.   45.   55.   43.   44.   36.   28.   21.   24.   26.   20.   21.\n",
      " 27.   26.   26.   23.   20.   21.   64.   65.   56.   52.   71.   56.\n",
      " 58.   69.   64.   56.   71.   58.   20.   21.   21.   21.   21.   20.\n",
      " 21.   21.   21.   21.   21.   21.   21.   21.   21.   21.   20.   21.\n",
      " 21.   21.   21.   21.   21.   21.   21.   21.   22.   21.   21.   21.\n",
      " 22.   21.   22.   21.   21.   21.   21.   21.   22.   22.   21.   21.\n",
      " 21.   22.   22.   21.   22.   21.   22.   22.   22.   22.   22.   22.\n",
      " 22.   21.   22.   22.   22.   21.   22.   22.   21.   21.   22.   22.\n",
      " 22.   22.   22.   22.   22.   22.   22.   21.   21.   22.   22.   22.\n",
      " 22.   22.   22.   21.   22.   22.   22.   22.   22.   22.   23.   22.\n",
      " 22.   22.   22.   22.   22.   22.   22.   22.   22.   22.   22.   22.\n",
      " 22.   23.   21.   22.   21.   24.   26.   25.   20.   23.   23.   22.\n",
      " 19.   24.   19.   20.   23.   22.   20.   20.   19.   21.   18.   21.\n",
      " 21.   19.   22.   21.   18.   18.   22.   22.   23.   19.   18.   19.\n",
      " 18.   22.   19.   20.   20.   20.   22.   21.   19.   18.   21.   20.\n",
      " 19.   20.   21.   18.   20.   18.   18.   19.   19.   22.   19.   19.\n",
      " 18.   22.   22.   19.   19.   24.   23.   23.   25.   25.   19.   20.\n",
      " 19.   20.   29.   18.   20.   22.   18.   21.   23.   19.   19.   30.\n",
      " 18.   20.   18.   19.   20.   23.   21.   21.   21.   18.   18.   20.\n",
      " 20.   21.   18.   21.   20.   23.   20.   21.   20.   21.   22.   20.\n",
      " 22.   19.   22.   20.   20.   21.   20.   21.   20.   20.   23.   21.\n",
      " 22.   20.   22.   20.   19.   20.   21.   20.   23.   20.   21.   19.\n",
      " 20.   18.   19.   20.   20.   22.   20.   21.   20.   21.   20.   18.\n",
      " 22.   21.   23.   23.   19.   22.   21.   19.   20.   20.   21.   22.\n",
      " 19.   21.   20.   19.   21.   20.   25.   21.   20.   26.   23.   22.\n",
      " 29.   19.   22.   22.   26.   24.   23.   21.   20.   27.   23.   21.\n",
      " 22.   23.   19.   23.   26.   22.   23.   26.   24.   23.   20.   21.\n",
      " 30.   23.   18.   23.   26.   19.   20.   23.   27.   21.   25.   20.\n",
      " 20.   24.   21.   24.   21.   23.   27.   21.   21.   20.   26.   21.\n",
      " 22.   25.   25.   28.   22.   22.   20.   21.   20.   21.   18.   20.\n",
      " 20.   19.   27.   25.   21.   60.   60.   62.   56.   70.   66.   49.\n",
      " 57.   23.   69.   50.   48.   25.   70.   48.   73.   49.   21.   62.\n",
      " 46.   47.   61.   56.   79.   56.   51.   21.   19.   23.   42.   19.\n",
      " 78.   19.   37.   23.   25.   31.   20.   19.   20.   85.   30.   43.\n",
      " 30.   22.   67.   70.   68.   33.   22.   30.   30.   26.   40.   27.\n",
      " 29.   30.   34.   21.   30.   27.   27.   39.   26.   23.   24.   37.\n",
      " 20.   34.   32.   32.   65.   67.   74.   64.   67.   63.   72.   70.\n",
      " 73.   71.   65.   73.   65.   73.   63.   36.   43.   29.   31.   25.\n",
      " 29.   50.   54.   54.   44.   26.   43.   53.   45.   52.   38.   20.\n",
      " 38.   48.   55.   27.   40.   32.   34.   38.   46.   40.   18.   22.\n",
      " 19.   45.   20.   40.   43.   24.   22.   21.   22.   21.   21.   21.94\n",
      " 22.79 19.65 25.98 23.24 23.27 34.72 22.22 22.7  25.24 21.8  26.   25.72\n",
      " 34.06 49.03 46.59 35.77 24.03 34.19]\n",
      "Sorted Ages: [18.   18.   18.   18.   18.   18.   18.   18.   18.   18.   18.   18.\n",
      " 18.   18.   18.   18.   18.   18.   18.   18.   18.   18.   18.   18.\n",
      " 18.   18.   18.   18.   18.   18.   18.   19.   19.   19.   19.   19.\n",
      " 19.   19.   19.   19.   19.   19.   19.   19.   19.   19.   19.   19.\n",
      " 19.   19.   19.   19.   19.   19.   19.   19.   19.   19.   19.   19.\n",
      " 19.   19.   19.   19.   19.   19.   19.   19.   19.   19.   19.   19.\n",
      " 19.   19.   19.   19.   19.   19.   19.   19.   19.   19.   19.   19.\n",
      " 19.   19.   19.   19.   19.   19.   19.   19.   19.   19.   19.65 20.\n",
      " 20.   20.   20.   20.   20.   20.   20.   20.   20.   20.   20.   20.\n",
      " 20.   20.   20.   20.   20.   20.   20.   20.   20.   20.   20.   20.\n",
      " 20.   20.   20.   20.   20.   20.   20.   20.   20.   20.   20.   20.\n",
      " 20.   20.   20.   20.   20.   20.   20.   20.   20.   20.   20.   20.\n",
      " 20.   20.   20.   20.   20.   20.   20.   20.   20.   20.   20.   20.\n",
      " 20.   20.   20.   20.   20.   20.   20.   20.   20.   20.   20.   20.\n",
      " 20.   20.   20.   20.   20.   20.   20.   20.   20.   20.   20.   20.\n",
      " 20.   20.   20.   20.   20.   20.   20.   20.   20.   20.   20.   20.\n",
      " 20.   20.   20.   20.   20.   20.   20.   20.   20.   20.   20.   20.\n",
      " 21.   21.   21.   21.   21.   21.   21.   21.   21.   21.   21.   21.\n",
      " 21.   21.   21.   21.   21.   21.   21.   21.   21.   21.   21.   21.\n",
      " 21.   21.   21.   21.   21.   21.   21.   21.   21.   21.   21.   21.\n",
      " 21.   21.   21.   21.   21.   21.   21.   21.   21.   21.   21.   21.\n",
      " 21.   21.   21.   21.   21.   21.   21.   21.   21.   21.   21.   21.\n",
      " 21.   21.   21.   21.   21.   21.   21.   21.   21.   21.   21.   21.\n",
      " 21.   21.   21.   21.   21.   21.   21.   21.   21.   21.   21.   21.\n",
      " 21.   21.   21.   21.   21.   21.   21.   21.   21.   21.   21.   21.\n",
      " 21.   21.   21.   21.   21.   21.   21.   21.   21.   21.   21.   21.\n",
      " 21.   21.   21.   21.   21.   21.   21.   21.   21.   21.   21.   21.\n",
      " 21.   21.   21.   21.   21.   21.   21.   21.   21.   21.   21.   21.\n",
      " 21.   21.   21.   21.   21.   21.   21.   21.   21.   21.   21.   21.\n",
      " 21.   21.   21.   21.   21.   21.   21.8  21.94 22.   22.   22.   22.\n",
      " 22.   22.   22.   22.   22.   22.   22.   22.   22.   22.   22.   22.\n",
      " 22.   22.   22.   22.   22.   22.   22.   22.   22.   22.   22.   22.\n",
      " 22.   22.   22.   22.   22.   22.   22.   22.   22.   22.   22.   22.\n",
      " 22.   22.   22.   22.   22.   22.   22.   22.   22.   22.   22.   22.\n",
      " 22.   22.   22.   22.   22.   22.   22.   22.   22.   22.   22.   22.\n",
      " 22.   22.   22.   22.   22.   22.   22.   22.   22.   22.   22.   22.\n",
      " 22.   22.   22.   22.   22.   22.   22.   22.   22.   22.   22.   22.\n",
      " 22.   22.   22.   22.   22.   22.   22.   22.   22.   22.   22.   22.\n",
      " 22.   22.   22.   22.   22.   22.   22.   22.   22.   22.   22.   22.\n",
      " 22.   22.   22.   22.   22.   22.   22.   22.   22.   22.   22.   22.22\n",
      " 22.7  22.79 23.   23.   23.   23.   23.   23.   23.   23.   23.   23.\n",
      " 23.   23.   23.   23.   23.   23.   23.   23.   23.   23.   23.   23.\n",
      " 23.   23.   23.   23.   23.   23.   23.   23.   23.   23.   23.   23.\n",
      " 23.   23.   23.   23.   23.   23.   23.   23.   23.   23.   23.   23.\n",
      " 23.   23.   23.   23.   23.   23.   23.   23.   23.   23.   23.   23.\n",
      " 23.24 23.27 24.   24.   24.   24.   24.   24.   24.   24.   24.   24.\n",
      " 24.   24.   24.   24.   24.   24.   24.   24.   24.   24.   24.   24.\n",
      " 24.   24.   24.   24.   24.   24.   24.   24.   24.   24.03 25.   25.\n",
      " 25.   25.   25.   25.   25.   25.   25.   25.   25.   25.   25.   25.\n",
      " 25.   25.   25.   25.   25.   25.   25.   25.24 25.72 25.98 26.   26.\n",
      " 26.   26.   26.   26.   26.   26.   26.   26.   26.   26.   26.   26.\n",
      " 26.   26.   26.   26.   26.   26.   26.   26.   26.   26.   26.   26.\n",
      " 26.   26.   27.   27.   27.   27.   27.   27.   27.   27.   27.   27.\n",
      " 27.   27.   28.   28.   28.   28.   28.   28.   28.   28.   28.   28.\n",
      " 28.   29.   29.   29.   29.   29.   29.   29.   29.   29.   29.   30.\n",
      " 30.   30.   30.   30.   30.   30.   30.   30.   30.   30.   31.   31.\n",
      " 31.   31.   31.   31.   32.   32.   32.   32.   32.   33.   33.   33.\n",
      " 33.   34.   34.   34.   34.   34.   34.   34.06 34.19 34.72 35.   35.77\n",
      " 36.   36.   36.   37.   37.   37.   37.   38.   38.   38.   38.   38.\n",
      " 39.   39.   39.   39.   40.   40.   40.   40.   41.   42.   42.   43.\n",
      " 43.   43.   43.   43.   43.   44.   44.   44.   45.   45.   45.   45.\n",
      " 46.   46.   46.59 47.   48.   48.   48.   48.   49.   49.   49.03 50.\n",
      " 50.   51.   51.   52.   52.   52.   53.   53.   54.   54.   54.   55.\n",
      " 55.   55.   56.   56.   56.   56.   56.   56.   56.   56.   57.   57.\n",
      " 57.   57.   58.   58.   60.   60.   60.   61.   62.   62.   63.   63.\n",
      " 64.   64.   64.   65.   65.   65.   65.   66.   67.   67.   67.   68.\n",
      " 69.   69.   70.   70.   70.   70.   71.   71.   71.   72.   73.   73.\n",
      " 73.   73.   74.   78.   79.   85.  ]\n",
      "Indices of Sorted Ages: [152 264 477 530 565 778 203 468 575 526 252 466 518 510 516 626 461 460\n",
      " 658  88 525 108 483 507 492 121 486 134 454 125 485 580 157 601 514 231\n",
      " 446 230 160 188 144 143 165 583 444 629 111 173 186 202 452 185 107 129\n",
      " 591 206 588 519 179 176  91 614 209 541 513 243 697 467 566 488 703 470\n",
      " 491  13  18 266 563 480 476 780 487 695 490 271 502 692 495   5 457 661\n",
      " 504 465 556 496 793 596 172 162 191 195 567 568 269 164 570 187 183 330\n",
      " 268 590 593 335 175 189 527 574 200 584 543 228 561 559 557 224 544 553\n",
      " 235 236 546 548 240 555 528 223 310 201 564 549 204 257 207 539 532 255\n",
      " 316 534 214 536 585 256 503 572 346  92 654 123 122 451 645 450 447 636\n",
      " 113 635 109 106 105 630 104 440 517  83  85  86  87  89 622 520 656 659\n",
      " 127  93 782 142  29 767 660 140 473 732 484 472 481  12 471 149 508 704\n",
      " 702  49 505 131 608 479 571 436 482 307 558 475 511 547 453 551 562 455\n",
      " 459 456 478 545 403 537 332 333 358 357 355 334 274 353 352 336 337 338\n",
      " 351 350 349 339 348 340 341 347 342 343 344 331 311 359 522 434 535 411\n",
      " 345 317 393 392 389 385 531 377 375 529 372 371 370 367 366 524 365 523\n",
      " 364 363 361 354 404 270 110 118 119 120 128 611 136 607 139 145 146 154\n",
      " 155 158 595 167 592 174 178 181 182 272  94 623 633   6   7   8   9  14\n",
      "  15 790 789 787  31 192 723 691 682 664 657 655 647 644 643 640 638  43\n",
      " 193 102 251 262 218 219 261 221 260 263 222 577 245 582 241 238 237 250\n",
      " 573 194 215 589 208 205 212 267 198 216 586 199 801 791 443 239   1  84\n",
      "  90 435  95 432 431 428 429 449 427 426 425 424 423 422 421 420 419  96\n",
      " 417 416 430 552 554 648 489  11 493 494 569  16 509 258 788 253 786  26\n",
      " 779 474  34 714 469 709 415  48 463 462 576   4 458 653 652 244 249 196\n",
      " 412 126 612 226 542 227 368 369 115 373 374 413 376 378 379 380 362 381\n",
      " 540 132 190 184 180 170 587 599 602 603 150 148 141 220 538 135 356 360\n",
      " 382 617 384 383 395 396 397 398 399 400 401 402  99 405 406 407 408 409\n",
      " 410  98 391 390 394 387 103 386 388 414 581 798 799 792 579 641 550 512\n",
      " 533 578 598 673 521 625 618 729 606 615 631 613 693 699 610 627 621 560\n",
      "   0 163 254  56 117 265 273 315  62 248 177  27 217 156 153 112 114 116\n",
      "  25 247  17  41 442 464 210 225 441  44 448 229 498 499 433 418  45 233\n",
      " 795 796 605 285 138  35 166 730 171 197 211 234 259 242 161 137 213  39\n",
      " 437 130  67 308  54 639  58 445 785  97 100  32 620 497 637 808 677 101\n",
      "  42 700 650  57 501 649 168 594 147 663 634 500 246 439 232  36  33  23\n",
      " 755 800 803 794 646 761 728 313  37 314  61 619  74  73 616  69 309 628\n",
      "  22 133  52 169 438 802 597  53 159 124 717  71 151 604 632 642 609 771\n",
      " 662  64  38 725 726 312 719  66   3  55 651  72 306 291 293  81  30  70\n",
      "  24 276  10 720 756  82 600 286  75 753 506 275 721 708 515 706 715 716\n",
      "  51 289 724 624  20  60  76 701  40 754  28  79 734 735 773 713 279 299\n",
      "  68 733 774  47 722  59  65 804 809 797  21 807 305   2 751 731 698  77\n",
      "  78 775  50 768 766  19 300 727  80 287 772 783 777 718 294  46 694 295\n",
      " 784 303 707 762 752  63 304 760 781 278 764 301 776 684 806 685 769 676\n",
      " 679 288 681 671 805 675 757 690 281 765 321 280 763 296 297 758 759 302\n",
      " 284 770 323 282 283 320 689 668 687 327 298 277 672 292 329 324 290 665\n",
      " 666 686 683 667 741 750 739 326 318 319 746 736 748 670 740 710 737 712\n",
      " 674 325 743 678 669 711 322 745 328 742 747 680 744 749 738 696 688 705]\n"
     ]
    }
   ],
   "source": [
    "file_path = './1000_Functional_Connectomes/ages_list.txt'\n",
    "\n",
    "try:\n",
    "    with open(file_path, 'r') as file:\n",
    "        # Read lines, convert to numeric values, and create a sorted list\n",
    "        ages_list = np.array([float(line.strip()) for line in file.readlines()])\n",
    "except FileNotFoundError:\n",
    "    print(f\"The file '{file_path}' does not exist.\")\n",
    "except ValueError as ve:\n",
    "    print(f\"Error: {ve}\")\n",
    "except Exception as e:\n",
    "    print(f\"An error occurred: {e}\")\n",
    "\n",
    "# Sort the list of ages and get the sorted indices\n",
    "ages_list = ages_list[:810]\n",
    "sorted_ages = np.array(sorted(ages_list))\n",
    "indices = np.argsort(ages_list)\n",
    "\n",
    "#print(\"Original Ages:\", ages_list)\n",
    "#print(\"Sorted Ages:\", sorted_ages)\n",
    "#print(\"Indices of Sorted Ages:\", indices)"
   ]
  },
  {
   "cell_type": "code",
   "execution_count": 73,
   "metadata": {},
   "outputs": [
    {
     "name": "stdout",
     "output_type": "stream",
     "text": [
      "810\n",
      "810\n"
     ]
    }
   ],
   "source": [
    "print(len(matrices))\n",
    "print(len(indices))\n",
    "\n",
    "# Use the indices to sort the heights list\n",
    "sorted_matrices = [matrices[i] for i in indices[:809]]"
   ]
  },
  {
   "cell_type": "code",
   "execution_count": 78,
   "metadata": {},
   "outputs": [
    {
     "name": "stderr",
     "output_type": "stream",
     "text": [
      "C:\\Users\\cyril\\Documents\\GitHub\\Free_energy_of_simplicial_complexes\\functionals.py:32: RuntimeWarning: overflow encountered in exp\n",
      "  if new_value < current_value or np.random.rand() > np.exp((new_value - current_value) / temperature):\n"
     ]
    },
    {
     "data": {
      "image/png": "[encoded data removed]",
      "text/plain": [
       "<Figure size 640x480 with 1 Axes>"
      ]
     },
     "metadata": {},
     "output_type": "display_data"
    }
   ],
   "source": [
    "# Compute free energy vs time/subjects\n",
    "data = sorted_matrices[:10]\n",
    "energy_list = []\n",
    "\n",
    "for i in range(len(data)):\n",
    "    energy = free_energy(data[i], 1)\n",
    "    energy_list.append(energy)\n",
    "\n",
    "x_values = list(range(len(data)))\n",
    "plt.plot(x_values, energy_list)\n",
    "plt.xticks(x_values, sorted_ages[:10])\n",
    "plt.ylabel('Free energy per subject')\n",
    "plt.xlabel('Age of the subject')\n",
    "plt.show()"
   ]
  }
 ],
 "metadata": {
  "kernelspec": {
   "display_name": "Python 3",
   "language": "python",
   "name": "python3"
  },
  "language_info": {
   "codemirror_mode": {
    "name": "ipython",
    "version": 3
   },
   "file_extension": ".py",
   "mimetype": "text/x-python",
   "name": "python",
   "nbconvert_exporter": "python",
   "pygments_lexer": "ipython3",
   "version": "3.12.1"
  }
 },
 "nbformat": 4,
 "nbformat_minor": 2
}
